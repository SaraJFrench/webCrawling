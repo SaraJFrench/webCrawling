{
 "cells": [
  {
   "cell_type": "code",
   "execution_count": 61,
   "metadata": {},
   "outputs": [
    {
     "data": {
      "application/vnd.plotly.v1+json": {
       "config": {
        "plotlyServerURL": "https://plot.ly"
       },
       "data": [
        {
         "alignmentgroup": "True",
         "bingroup": "x",
         "hovertemplate": "Price=30<br>Title=%{x}<br>count of Price=%{y}<extra></extra>",
         "legendgroup": "30",
         "marker": {
          "color": "#636efa"
         },
         "name": "30",
         "offsetgroup": "30",
         "orientation": "v",
         "showlegend": true,
         "type": "histogram",
         "x": [
          "  Amazon Echo Dot 3rd Generation w/ Alexa Voice Media Device - BRAND NEW",
          "  Amazon Echo Dot 3rd Generation Smart Speaker Sandstone White  Sealed",
          "  Amazon Echo Dot 3rd Generation w/ Alexa Voice Media Device - Charcoal (in 🤚🏻)",
          "  New Amazon Echo Dot 3rd Generation w/ Alexa Voice - Heather Gray - Free Ship",
          "  Amazon Echo Dot Smart Speaker - Sandstone",
          "  Amazon Echo Dot 3rd Gen - Heather Gray NEW In Box",
          "  New Amazon Echo Dot 3rd Generation with Alexa, Ship ASAP, Grey",
          "  BRAND NEW Amazon Echo Dot 3rd Generation w/ Alexa Voice Media Device - Sandstone",
          "  Amazon Echo Dot (3rd Generation) Smart Speaker with Alexa Voice Heather",
          "  Amazon Echo Dot Plum 3rd Generation Smart Speaker Sealed ",
          "  Amazon Echo Dot 3rd Generation Smart Speaker Heather Gray New | FREE SHIPPING",
          "  Amazon Echo Dot 3rd Generation w/ Alexa Voice Media Device - BRAND NEW",
          "  Amazon Echo Dot 3rd Generation Smart Speaker Sandstone White  Sealed",
          "  Amazon Echo Dot 3rd Generation w/ Alexa Voice Media Device - Charcoal (in 🤚🏻)",
          "  New Amazon Echo Dot 3rd Generation w/ Alexa Voice - Heather Gray - Free Ship",
          "  Amazon Echo Dot Smart Speaker - Sandstone",
          "  New Amazon Echo Dot 3rd Generation with Alexa, Ship ASAP, Grey",
          "  Amazon Echo Dot 3rd Gen - Heather Gray NEW In Box",
          "  BRAND NEW Amazon Echo Dot 3rd Generation w/ Alexa Voice Media Device - Sandstone",
          "  Amazon Echo Dot (3rd Generation) Smart Speaker with Alexa Voice Heather",
          "  Amazon Echo Dot Plum 3rd Generation Smart Speaker Sealed "
         ],
         "xaxis": "x",
         "y": [
          30,
          30,
          30,
          30,
          30,
          30,
          30,
          30,
          30,
          30,
          30,
          30,
          30,
          30,
          30,
          30,
          30,
          30,
          30,
          30,
          30
         ],
         "yaxis": "y"
        },
        {
         "alignmentgroup": "True",
         "bingroup": "x",
         "hovertemplate": "Price=20<br>Title=%{x}<br>count of Price=%{y}<extra></extra>",
         "legendgroup": "20",
         "marker": {
          "color": "#EF553B"
         },
         "name": "20",
         "offsetgroup": "20",
         "orientation": "v",
         "showlegend": true,
         "type": "histogram",
         "x": [
          "  Amazon Echo Dot 2nd Gen Home Music Smart Assistant Speaker w/ Alexa - White",
          "  Amazon Echo Dot 2nd Generation w/ Alexa Voice Media Device: black or white",
          "  Amazon Echo Dot 2nd Generation",
          "  Amazon Echo Dot (2nd Generation) Smart Assistant - White",
          "  Amazon Echo Dot 2nd Gen Home Music Smart Assistant Speaker w/ Alexa - White",
          "  Amazon Echo Dot 2nd Generation w/ Alexa Voice Media Device: black or white",
          "  Amazon Echo Dot 2nd Generation",
          "  Amazon Echo Dot (2nd Generation) Smart Assistant - White"
         ],
         "xaxis": "x",
         "y": [
          20,
          20,
          20,
          20,
          20,
          20,
          20,
          20
         ],
         "yaxis": "y"
        },
        {
         "alignmentgroup": "True",
         "bingroup": "x",
         "hovertemplate": "Price=34<br>Title=%{x}<br>count of Price=%{y}<extra></extra>",
         "legendgroup": "34",
         "marker": {
          "color": "#00cc96"
         },
         "name": "34",
         "offsetgroup": "34",
         "orientation": "v",
         "showlegend": true,
         "type": "histogram",
         "x": [
          "  Amazon Echo Dot 3rd Generation w/ Alexa Voice Media Device - BRAND NEW",
          "  Amazon Echo Dot (3rd generation) Smart Speaker with Alexa  (Sandstone)",
          "  Amazon Echo Dot (3rd Generation) Smart Speaker with Alexa",
          "  Amazon Echo Dot 3rd Generation w/ Alexa Voice Media Device - BRAND NEW",
          "  Amazon Echo Dot (3rd generation) Smart Speaker with Alexa  (Sandstone)",
          "  Amazon Echo Dot (3rd Generation) Smart Speaker with Alexa"
         ],
         "xaxis": "x",
         "y": [
          34,
          34,
          34,
          34,
          34,
          34
         ],
         "yaxis": "y"
        },
        {
         "alignmentgroup": "True",
         "bingroup": "x",
         "hovertemplate": "Price=46<br>Title=%{x}<br>count of Price=%{y}<extra></extra>",
         "legendgroup": "46",
         "marker": {
          "color": "#ab63fa"
         },
         "name": "46",
         "offsetgroup": "46",
         "orientation": "v",
         "showlegend": true,
         "type": "histogram",
         "x": [
          "  Amazon Echo Dot 3rd Generation w/ Alexa Voice Media Device - Charcoal*BRAND NEW*",
          "  Amazon Echo Dot 3rd Generation w/ Alexa Voice Media Device - Charcoal*BRAND NEW*"
         ],
         "xaxis": "x",
         "y": [
          46,
          46
         ],
         "yaxis": "y"
        },
        {
         "alignmentgroup": "True",
         "bingroup": "x",
         "hovertemplate": "Price=27<br>Title=%{x}<br>count of Price=%{y}<extra></extra>",
         "legendgroup": "27",
         "marker": {
          "color": "#FFA15A"
         },
         "name": "27",
         "offsetgroup": "27",
         "orientation": "v",
         "showlegend": true,
         "type": "histogram",
         "x": [
          "  Amazon Echo Dot 2nd Generation w/ Alexa Voice Media Device New Factory Sealed",
          "  Good Condition Amazon Echo Dot 3rd Gen Smart speaker with Alexa - Black ",
          "  Amazon Echo Dot (3rd Generation) Smart Speaker - Sandstone  Sealed",
          "  Amazon Echo Dot 3rd Gen w/ Alexa - Gray/White *BRAND NEW*",
          "   Amazon Echo Dot (3rd Generation) Smart Speaker - Sandstone",
          "  Amazon Echo Dot 2nd Generation w/ Alexa Voice Media Device New Factory Sealed",
          "  Good Condition Amazon Echo Dot 3rd Gen Smart speaker with Alexa - Black ",
          "  Amazon Echo Dot (3rd Generation) Smart Speaker - Sandstone  Sealed"
         ],
         "xaxis": "x",
         "y": [
          27,
          27,
          27,
          27,
          27,
          27,
          27,
          27
         ],
         "yaxis": "y"
        },
        {
         "alignmentgroup": "True",
         "bingroup": "x",
         "hovertemplate": "Price=33<br>Title=%{x}<br>count of Price=%{y}<extra></extra>",
         "legendgroup": "33",
         "marker": {
          "color": "#19d3f3"
         },
         "name": "33",
         "offsetgroup": "33",
         "orientation": "v",
         "showlegend": true,
         "type": "histogram",
         "x": [
          "  Amazon Echo Dot 3rd Generation w/ Alexa Voice Media Device - Sandston BRAND NEW!",
          "  Amazon Echo Dot 3rd Generation w/ Alexa Voice Media Device - Sandston BRAND NEW!"
         ],
         "xaxis": "x",
         "y": [
          33,
          33
         ],
         "yaxis": "y"
        },
        {
         "alignmentgroup": "True",
         "bingroup": "x",
         "hovertemplate": "Price=7<br>Title=%{x}<br>count of Price=%{y}<extra></extra>",
         "legendgroup": "7",
         "marker": {
          "color": "#FF6692"
         },
         "name": "7",
         "offsetgroup": "7",
         "orientation": "v",
         "showlegend": true,
         "type": "histogram",
         "x": [
          "  Amazon Echo Dot (2nd Generation) Smart Speaker - Black",
          "  Amazon Echo Dot (2nd Generation) Smart Speaker - Black"
         ],
         "xaxis": "x",
         "y": [
          7,
          7
         ],
         "yaxis": "y"
        },
        {
         "alignmentgroup": "True",
         "bingroup": "x",
         "hovertemplate": "Price=17<br>Title=%{x}<br>count of Price=%{y}<extra></extra>",
         "legendgroup": "17",
         "marker": {
          "color": "#B6E880"
         },
         "name": "17",
         "offsetgroup": "17",
         "orientation": "v",
         "showlegend": true,
         "type": "histogram",
         "x": [
          "  Amazon Echo Dot - 2nd Gen - Home Music Smart Assistant Speaker w/ Alexa - Black",
          "  Amazon Echo Dot - 2nd Gen - Home Music Smart Assistant Speaker w/ Alexa - Black",
          "  Amazon Echo Dot - 2nd Gen - Home Music Smart Assistant Speaker w/ Alexa - Black"
         ],
         "xaxis": "x",
         "y": [
          17,
          17,
          17
         ],
         "yaxis": "y"
        },
        {
         "alignmentgroup": "True",
         "bingroup": "x",
         "hovertemplate": "Price=23<br>Title=%{x}<br>count of Price=%{y}<extra></extra>",
         "legendgroup": "23",
         "marker": {
          "color": "#FF97FF"
         },
         "name": "23",
         "offsetgroup": "23",
         "orientation": "v",
         "showlegend": true,
         "type": "histogram",
         "x": [
          "   Amazon Echo Dot (3rd Generation) Smart Speaker - Heather Gray",
          "   Amazon Echo Dot (3rd Generation) Smart Speaker - Heather Gray"
         ],
         "xaxis": "x",
         "y": [
          23,
          23
         ],
         "yaxis": "y"
        },
        {
         "alignmentgroup": "True",
         "bingroup": "x",
         "hovertemplate": "Price=35<br>Title=%{x}<br>count of Price=%{y}<extra></extra>",
         "legendgroup": "35",
         "marker": {
          "color": "#FECB52"
         },
         "name": "35",
         "offsetgroup": "35",
         "orientation": "v",
         "showlegend": true,
         "type": "histogram",
         "x": [
          "  Amazon Echo Dot  3RD Gen  Sandstone Charcoal Gray Plum NEW SEALED",
          "  Amazon Echo Dot 3rd Generation Smart Speaker ",
          "  Amazon Echo Dot 3rd Generation w/ Alexa Voice Media Device - Charcoal BRAND NEW!",
          "  Amazon Echo Dot  3RD Gen  Sandstone Charcoal Gray Plum NEW SEALED",
          "  Amazon Echo Dot 3rd Generation Smart Speaker ",
          "  Amazon Echo Dot 3rd Generation w/ Alexa Voice Media Device - Charcoal BRAND NEW!"
         ],
         "xaxis": "x",
         "y": [
          35,
          35,
          35,
          35,
          35,
          35
         ],
         "yaxis": "y"
        },
        {
         "alignmentgroup": "True",
         "bingroup": "x",
         "hovertemplate": "Price=18<br>Title=%{x}<br>count of Price=%{y}<extra></extra>",
         "legendgroup": "18",
         "marker": {
          "color": "#636efa"
         },
         "name": "18",
         "offsetgroup": "18",
         "orientation": "v",
         "showlegend": true,
         "type": "histogram",
         "x": [
          "  Amazon - Echo Dot (2nd generation) - Smart Speaker with Alexa - Black",
          "  Amazon Echo Dot (2nd Generation) Smart Speaker - Black",
          "  Amazon Echo Dot - 2nd Generation - Smart Speaker - Alexa Enabled - Black",
          "  Amazon - Echo Dot (2nd generation) - Smart Speaker with Alexa - Black",
          "  Amazon Echo Dot (2nd Generation) Smart Speaker - Black"
         ],
         "xaxis": "x",
         "y": [
          18,
          18,
          18,
          18,
          18
         ],
         "yaxis": "y"
        },
        {
         "alignmentgroup": "True",
         "bingroup": "x",
         "hovertemplate": "Price=15<br>Title=%{x}<br>count of Price=%{y}<extra></extra>",
         "legendgroup": "15",
         "marker": {
          "color": "#EF553B"
         },
         "name": "15",
         "offsetgroup": "15",
         "orientation": "v",
         "showlegend": true,
         "type": "histogram",
         "x": [
          "  Amazon Echo Dot (2nd Generation) Smart Assistant - White",
          "  Amazon Echo Dot (2nd Generation) Smart Assistant - White"
         ],
         "xaxis": "x",
         "y": [
          15,
          15
         ],
         "yaxis": "y"
        },
        {
         "alignmentgroup": "True",
         "bingroup": "x",
         "hovertemplate": "Price=26<br>Title=%{x}<br>count of Price=%{y}<extra></extra>",
         "legendgroup": "26",
         "marker": {
          "color": "#00cc96"
         },
         "name": "26",
         "offsetgroup": "26",
         "orientation": "v",
         "showlegend": true,
         "type": "histogram",
         "x": [
          "  Amazon Echo Dot 3rd Generation w/ Alexa Voice Media Device Sandstone BRAND NEW!",
          "  Amazon Echo Dot 3rd Generation with Alexa Voice Media Device - Charcoal",
          "  Amazon Echo Dot 3rd Generation with Alexa Voice Media Device - Charcoal",
          "  Amazon Echo Dot 3rd Generation w/ Alexa Voice Media Device Sandstone BRAND NEW!"
         ],
         "xaxis": "x",
         "y": [
          26,
          26,
          26,
          26
         ],
         "yaxis": "y"
        },
        {
         "alignmentgroup": "True",
         "bingroup": "x",
         "hovertemplate": "Price=28<br>Title=%{x}<br>count of Price=%{y}<extra></extra>",
         "legendgroup": "28",
         "marker": {
          "color": "#ab63fa"
         },
         "name": "28",
         "offsetgroup": "28",
         "orientation": "v",
         "showlegend": true,
         "type": "histogram",
         "x": [
          "  Amazon Echo Dot 3rd Generation  - Heather Gray",
          "  Amazon Echo Dot (3rd Generation) Smart Speaker with Alexa - Heather Gray",
          "  Amazon Echo Dot 3rd Generation  - Heather Gray",
          "  Amazon Echo Dot (3rd Generation) Smart Speaker with Alexa - Heather Gray"
         ],
         "xaxis": "x",
         "y": [
          28,
          28,
          28,
          28
         ],
         "yaxis": "y"
        },
        {
         "alignmentgroup": "True",
         "bingroup": "x",
         "hovertemplate": "Price=25<br>Title=%{x}<br>count of Price=%{y}<extra></extra>",
         "legendgroup": "25",
         "marker": {
          "color": "#FFA15A"
         },
         "name": "25",
         "offsetgroup": "25",
         "orientation": "v",
         "showlegend": true,
         "type": "histogram",
         "x": [
          "  Amazon - Echo Dot (3rd Gen) - Smart Speaker with Alexa - Sandstone White",
          "  Amazon Echo Dot (2nd Generation) Smart Assistant - White  Ships Fast",
          "   Amazon Echo Dot Latest 2018 (3rd Generation) Smart speaker Alexa ",
          "  Amazon - Echo Dot (3rd Gen) - Smart Speaker with Alexa - Sandstone White",
          "  Amazon Echo Dot (2nd Generation) Smart Assistant - White  Ships Fast",
          "   Amazon Echo Dot Latest 2018 (3rd Generation) Smart speaker Alexa "
         ],
         "xaxis": "x",
         "y": [
          25,
          25,
          25,
          25,
          25,
          25
         ],
         "yaxis": "y"
        },
        {
         "alignmentgroup": "True",
         "bingroup": "x",
         "hovertemplate": "Price=32<br>Title=%{x}<br>count of Price=%{y}<extra></extra>",
         "legendgroup": "32",
         "marker": {
          "color": "#19d3f3"
         },
         "name": "32",
         "offsetgroup": "32",
         "orientation": "v",
         "showlegend": true,
         "type": "histogram",
         "x": [
          "  Amazon Echo Dot (3rd Gen) -Smart Speaker with Alexa- Heather Gray FREE SHIPPING",
          "  Amazon Echo Dot (3rd Gen) -Smart Speaker with Alexa- Heather Gray FREE SHIPPING"
         ],
         "xaxis": "x",
         "y": [
          32,
          32
         ],
         "yaxis": "y"
        },
        {
         "alignmentgroup": "True",
         "bingroup": "x",
         "hovertemplate": "Price=11<br>Title=%{x}<br>count of Price=%{y}<extra></extra>",
         "legendgroup": "11",
         "marker": {
          "color": "#FF6692"
         },
         "name": "11",
         "offsetgroup": "11",
         "orientation": "v",
         "showlegend": true,
         "type": "histogram",
         "x": [
          "  amazon echo dot kids edition",
          "  amazon echo dot kids edition"
         ],
         "xaxis": "x",
         "y": [
          11,
          11
         ],
         "yaxis": "y"
        },
        {
         "alignmentgroup": "True",
         "bingroup": "x",
         "hovertemplate": "Price=40<br>Title=%{x}<br>count of Price=%{y}<extra></extra>",
         "legendgroup": "40",
         "marker": {
          "color": "#B6E880"
         },
         "name": "40",
         "offsetgroup": "40",
         "orientation": "v",
         "showlegend": true,
         "type": "histogram",
         "x": [
          "  Amazon Echo Dot 3rd Gen - Smart speaker with Alexa - Heather Grey BRAND NEW",
          "  BRAND NEW Amazon Echo Dot 3rd Gen Smart speaker with Alexa - Sandstone FREE SHIP",
          "  Amazon Echo Dot 3rd Generation w/ Alexa Voice Media Device - Charcoal BRAND NEW!",
          "  Amazon Echo Dot 3rd Gen - Smart speaker with Alexa - Heather Grey BRAND NEW"
         ],
         "xaxis": "x",
         "y": [
          40,
          40,
          40,
          40
         ],
         "yaxis": "y"
        },
        {
         "alignmentgroup": "True",
         "bingroup": "x",
         "hovertemplate": "Price=43<br>Title=%{x}<br>count of Price=%{y}<extra></extra>",
         "legendgroup": "43",
         "marker": {
          "color": "#FF97FF"
         },
         "name": "43",
         "offsetgroup": "43",
         "orientation": "v",
         "showlegend": true,
         "type": "histogram",
         "x": [
          "  Amazon Echo Dot (3rd Generation) Smart Speaker with Clock - Sandstone",
          "  Amazon Echo Dot (3rd Generation) Smart Speaker with Clock - Sandstone"
         ],
         "xaxis": "x",
         "y": [
          43,
          43
         ],
         "yaxis": "y"
        },
        {
         "alignmentgroup": "True",
         "bingroup": "x",
         "hovertemplate": "Price=49<br>Title=%{x}<br>count of Price=%{y}<extra></extra>",
         "legendgroup": "49",
         "marker": {
          "color": "#FECB52"
         },
         "name": "49",
         "offsetgroup": "49",
         "orientation": "v",
         "showlegend": true,
         "type": "histogram",
         "x": [
          "  Amazon Echo Dot (3rd Generation) Smart Speaker with Clock NEW",
          "  Amazon Echo Dot 3rd Generation Smart Speaker with Clock and Alexa - Sandstone ",
          "  Amazon Echo Dot (3rd Generation) Smart Speaker with Clock NEW"
         ],
         "xaxis": "x",
         "y": [
          49,
          49,
          49
         ],
         "yaxis": "y"
        },
        {
         "alignmentgroup": "True",
         "bingroup": "x",
         "hovertemplate": "Price=22<br>Title=%{x}<br>count of Price=%{y}<extra></extra>",
         "legendgroup": "22",
         "marker": {
          "color": "#636efa"
         },
         "name": "22",
         "offsetgroup": "22",
         "orientation": "v",
         "showlegend": true,
         "type": "histogram",
         "x": [
          "  Amazon Echo Dot (2nd Gen) Smart Speaker with Alexa, Black, White, New",
          "  Amazon Echo Dot (2nd Gen) Smart Speaker with Alexa, Black, White, New"
         ],
         "xaxis": "x",
         "y": [
          22,
          22
         ],
         "yaxis": "y"
        },
        {
         "alignmentgroup": "True",
         "bingroup": "x",
         "hovertemplate": "Price=10<br>Title=%{x}<br>count of Price=%{y}<extra></extra>",
         "legendgroup": "10",
         "marker": {
          "color": "#EF553B"
         },
         "name": "10",
         "offsetgroup": "10",
         "orientation": "v",
         "showlegend": true,
         "type": "histogram",
         "x": [
          "   Empty Boxes Only - Amazon Echo Dot 3rd Generation and Echo Auto - Gray/Black",
          "  Amazon Echo Dot (3rd Generation) Smart Speaker with Alexa Voice",
          "   Empty Boxes Only - Amazon Echo Dot 3rd Generation and Echo Auto - Gray/Black"
         ],
         "xaxis": "x",
         "y": [
          10,
          10,
          10
         ],
         "yaxis": "y"
        },
        {
         "alignmentgroup": "True",
         "bingroup": "x",
         "hovertemplate": "Price=14<br>Title=%{x}<br>count of Price=%{y}<extra></extra>",
         "legendgroup": "14",
         "marker": {
          "color": "#00cc96"
         },
         "name": "14",
         "offsetgroup": "14",
         "orientation": "v",
         "showlegend": true,
         "type": "histogram",
         "x": [
          "  Amazon Echo Dot (2nd Generation) Smart Speaker - Black",
          "  Amazon B07FZ8S74R Echo Dot 3rd Generation Smart Speaker with Alexa - Charcoal",
          "  Amazon Echo Dot (2nd Generation) Smart Speaker - Black",
          "  Amazon Echo Dot (2nd Generation) Smart Speaker - Black"
         ],
         "xaxis": "x",
         "y": [
          14,
          14,
          14,
          14
         ],
         "yaxis": "y"
        },
        {
         "alignmentgroup": "True",
         "bingroup": "x",
         "hovertemplate": "Price=37<br>Title=%{x}<br>count of Price=%{y}<extra></extra>",
         "legendgroup": "37",
         "marker": {
          "color": "#ab63fa"
         },
         "name": "37",
         "offsetgroup": "37",
         "orientation": "v",
         "showlegend": true,
         "type": "histogram",
         "x": [
          "  SHIPS TODAY! Amazon Echo Dot 3rd Generation Alexa Voice Smart Speaker",
          "  SHIPS TODAY! Amazon Echo Dot 3rd Generation Alexa Voice Smart Speaker"
         ],
         "xaxis": "x",
         "y": [
          37,
          37
         ],
         "yaxis": "y"
        },
        {
         "alignmentgroup": "True",
         "bingroup": "x",
         "hovertemplate": "Price=31<br>Title=%{x}<br>count of Price=%{y}<extra></extra>",
         "legendgroup": "31",
         "marker": {
          "color": "#FFA15A"
         },
         "name": "31",
         "offsetgroup": "31",
         "orientation": "v",
         "showlegend": true,
         "type": "histogram",
         "x": [
          "  AMAZON ECHO DOT (3nd GENERATION) SMART SPEAKER w/Alexa (CHARCOAL) *NEW in BOX!",
          "  AMAZON ECHO DOT (3nd GENERATION) SMART SPEAKER w/Alexa (CHARCOAL) *NEW in BOX!"
         ],
         "xaxis": "x",
         "y": [
          31,
          31
         ],
         "yaxis": "y"
        },
        {
         "alignmentgroup": "True",
         "bingroup": "x",
         "hovertemplate": "Price=24<br>Title=%{x}<br>count of Price=%{y}<extra></extra>",
         "legendgroup": "24",
         "marker": {
          "color": "#19d3f3"
         },
         "name": "24",
         "offsetgroup": "24",
         "orientation": "v",
         "showlegend": true,
         "type": "histogram",
         "x": [
          "  BRAND NEW Amazon Echo Dot 3rd Generation w/ Alexa Voice Media Device - Sandstone",
          "  Amazon Echo Dot 3rd Generation  - Heather Gray"
         ],
         "xaxis": "x",
         "y": [
          24,
          24
         ],
         "yaxis": "y"
        },
        {
         "alignmentgroup": "True",
         "bingroup": "x",
         "hovertemplate": "Price=36<br>Title=%{x}<br>count of Price=%{y}<extra></extra>",
         "legendgroup": "36",
         "marker": {
          "color": "#FF6692"
         },
         "name": "36",
         "offsetgroup": "36",
         "orientation": "v",
         "showlegend": true,
         "type": "histogram",
         "x": [
          "  NEW Amazon Echo Dot 3rd Generation Smart Speaker with Alexa Assistant- Charcoal",
          "  NEW Amazon Echo Dot 3rd Generation Smart Speaker with Alexa Assistant- Charcoal"
         ],
         "xaxis": "x",
         "y": [
          36,
          36
         ],
         "yaxis": "y"
        },
        {
         "alignmentgroup": "True",
         "bingroup": "x",
         "hovertemplate": "Price=38<br>Title=%{x}<br>count of Price=%{y}<extra></extra>",
         "legendgroup": "38",
         "marker": {
          "color": "#B6E880"
         },
         "name": "38",
         "offsetgroup": "38",
         "orientation": "v",
         "showlegend": true,
         "type": "histogram",
         "x": [
          "  Amazon Echo Dot 3rd Generation w/ Alexa Voice Media Device - BRAND NEW"
         ],
         "xaxis": "x",
         "y": [
          38
         ],
         "yaxis": "y"
        },
        {
         "alignmentgroup": "True",
         "bingroup": "x",
         "hovertemplate": "Price=12<br>Title=%{x}<br>count of Price=%{y}<extra></extra>",
         "legendgroup": "12",
         "marker": {
          "color": "#FF97FF"
         },
         "name": "12",
         "offsetgroup": "12",
         "orientation": "v",
         "showlegend": true,
         "type": "histogram",
         "x": [
          "  Amazon Echo Dot 3rd Generation w/ Alexa Voice Media Device  brand new@"
         ],
         "xaxis": "x",
         "y": [
          12
         ],
         "yaxis": "y"
        },
        {
         "alignmentgroup": "True",
         "bingroup": "x",
         "hovertemplate": "Price=6<br>Title=%{x}<br>count of Price=%{y}<extra></extra>",
         "legendgroup": "6",
         "marker": {
          "color": "#FECB52"
         },
         "name": "6",
         "offsetgroup": "6",
         "orientation": "v",
         "showlegend": true,
         "type": "histogram",
         "x": [
          "  Amazon echo dot 3rd generation NEW"
         ],
         "xaxis": "x",
         "y": [
          6
         ],
         "yaxis": "y"
        }
       ],
       "layout": {
        "barmode": "relative",
        "legend": {
         "title": {
          "text": "Price"
         },
         "tracegroupgap": 0
        },
        "template": {
         "data": {
          "bar": [
           {
            "error_x": {
             "color": "#2a3f5f"
            },
            "error_y": {
             "color": "#2a3f5f"
            },
            "marker": {
             "line": {
              "color": "#E5ECF6",
              "width": 0.5
             }
            },
            "type": "bar"
           }
          ],
          "barpolar": [
           {
            "marker": {
             "line": {
              "color": "#E5ECF6",
              "width": 0.5
             }
            },
            "type": "barpolar"
           }
          ],
          "carpet": [
           {
            "aaxis": {
             "endlinecolor": "#2a3f5f",
             "gridcolor": "white",
             "linecolor": "white",
             "minorgridcolor": "white",
             "startlinecolor": "#2a3f5f"
            },
            "baxis": {
             "endlinecolor": "#2a3f5f",
             "gridcolor": "white",
             "linecolor": "white",
             "minorgridcolor": "white",
             "startlinecolor": "#2a3f5f"
            },
            "type": "carpet"
           }
          ],
          "choropleth": [
           {
            "colorbar": {
             "outlinewidth": 0,
             "ticks": ""
            },
            "type": "choropleth"
           }
          ],
          "contour": [
           {
            "colorbar": {
             "outlinewidth": 0,
             "ticks": ""
            },
            "colorscale": [
             [
              0,
              "#0d0887"
             ],
             [
              0.1111111111111111,
              "#46039f"
             ],
             [
              0.2222222222222222,
              "#7201a8"
             ],
             [
              0.3333333333333333,
              "#9c179e"
             ],
             [
              0.4444444444444444,
              "#bd3786"
             ],
             [
              0.5555555555555556,
              "#d8576b"
             ],
             [
              0.6666666666666666,
              "#ed7953"
             ],
             [
              0.7777777777777778,
              "#fb9f3a"
             ],
             [
              0.8888888888888888,
              "#fdca26"
             ],
             [
              1,
              "#f0f921"
             ]
            ],
            "type": "contour"
           }
          ],
          "contourcarpet": [
           {
            "colorbar": {
             "outlinewidth": 0,
             "ticks": ""
            },
            "type": "contourcarpet"
           }
          ],
          "heatmap": [
           {
            "colorbar": {
             "outlinewidth": 0,
             "ticks": ""
            },
            "colorscale": [
             [
              0,
              "#0d0887"
             ],
             [
              0.1111111111111111,
              "#46039f"
             ],
             [
              0.2222222222222222,
              "#7201a8"
             ],
             [
              0.3333333333333333,
              "#9c179e"
             ],
             [
              0.4444444444444444,
              "#bd3786"
             ],
             [
              0.5555555555555556,
              "#d8576b"
             ],
             [
              0.6666666666666666,
              "#ed7953"
             ],
             [
              0.7777777777777778,
              "#fb9f3a"
             ],
             [
              0.8888888888888888,
              "#fdca26"
             ],
             [
              1,
              "#f0f921"
             ]
            ],
            "type": "heatmap"
           }
          ],
          "heatmapgl": [
           {
            "colorbar": {
             "outlinewidth": 0,
             "ticks": ""
            },
            "colorscale": [
             [
              0,
              "#0d0887"
             ],
             [
              0.1111111111111111,
              "#46039f"
             ],
             [
              0.2222222222222222,
              "#7201a8"
             ],
             [
              0.3333333333333333,
              "#9c179e"
             ],
             [
              0.4444444444444444,
              "#bd3786"
             ],
             [
              0.5555555555555556,
              "#d8576b"
             ],
             [
              0.6666666666666666,
              "#ed7953"
             ],
             [
              0.7777777777777778,
              "#fb9f3a"
             ],
             [
              0.8888888888888888,
              "#fdca26"
             ],
             [
              1,
              "#f0f921"
             ]
            ],
            "type": "heatmapgl"
           }
          ],
          "histogram": [
           {
            "marker": {
             "colorbar": {
              "outlinewidth": 0,
              "ticks": ""
             }
            },
            "type": "histogram"
           }
          ],
          "histogram2d": [
           {
            "colorbar": {
             "outlinewidth": 0,
             "ticks": ""
            },
            "colorscale": [
             [
              0,
              "#0d0887"
             ],
             [
              0.1111111111111111,
              "#46039f"
             ],
             [
              0.2222222222222222,
              "#7201a8"
             ],
             [
              0.3333333333333333,
              "#9c179e"
             ],
             [
              0.4444444444444444,
              "#bd3786"
             ],
             [
              0.5555555555555556,
              "#d8576b"
             ],
             [
              0.6666666666666666,
              "#ed7953"
             ],
             [
              0.7777777777777778,
              "#fb9f3a"
             ],
             [
              0.8888888888888888,
              "#fdca26"
             ],
             [
              1,
              "#f0f921"
             ]
            ],
            "type": "histogram2d"
           }
          ],
          "histogram2dcontour": [
           {
            "colorbar": {
             "outlinewidth": 0,
             "ticks": ""
            },
            "colorscale": [
             [
              0,
              "#0d0887"
             ],
             [
              0.1111111111111111,
              "#46039f"
             ],
             [
              0.2222222222222222,
              "#7201a8"
             ],
             [
              0.3333333333333333,
              "#9c179e"
             ],
             [
              0.4444444444444444,
              "#bd3786"
             ],
             [
              0.5555555555555556,
              "#d8576b"
             ],
             [
              0.6666666666666666,
              "#ed7953"
             ],
             [
              0.7777777777777778,
              "#fb9f3a"
             ],
             [
              0.8888888888888888,
              "#fdca26"
             ],
             [
              1,
              "#f0f921"
             ]
            ],
            "type": "histogram2dcontour"
           }
          ],
          "mesh3d": [
           {
            "colorbar": {
             "outlinewidth": 0,
             "ticks": ""
            },
            "type": "mesh3d"
           }
          ],
          "parcoords": [
           {
            "line": {
             "colorbar": {
              "outlinewidth": 0,
              "ticks": ""
             }
            },
            "type": "parcoords"
           }
          ],
          "pie": [
           {
            "automargin": true,
            "type": "pie"
           }
          ],
          "scatter": [
           {
            "marker": {
             "colorbar": {
              "outlinewidth": 0,
              "ticks": ""
             }
            },
            "type": "scatter"
           }
          ],
          "scatter3d": [
           {
            "line": {
             "colorbar": {
              "outlinewidth": 0,
              "ticks": ""
             }
            },
            "marker": {
             "colorbar": {
              "outlinewidth": 0,
              "ticks": ""
             }
            },
            "type": "scatter3d"
           }
          ],
          "scattercarpet": [
           {
            "marker": {
             "colorbar": {
              "outlinewidth": 0,
              "ticks": ""
             }
            },
            "type": "scattercarpet"
           }
          ],
          "scattergeo": [
           {
            "marker": {
             "colorbar": {
              "outlinewidth": 0,
              "ticks": ""
             }
            },
            "type": "scattergeo"
           }
          ],
          "scattergl": [
           {
            "marker": {
             "colorbar": {
              "outlinewidth": 0,
              "ticks": ""
             }
            },
            "type": "scattergl"
           }
          ],
          "scattermapbox": [
           {
            "marker": {
             "colorbar": {
              "outlinewidth": 0,
              "ticks": ""
             }
            },
            "type": "scattermapbox"
           }
          ],
          "scatterpolar": [
           {
            "marker": {
             "colorbar": {
              "outlinewidth": 0,
              "ticks": ""
             }
            },
            "type": "scatterpolar"
           }
          ],
          "scatterpolargl": [
           {
            "marker": {
             "colorbar": {
              "outlinewidth": 0,
              "ticks": ""
             }
            },
            "type": "scatterpolargl"
           }
          ],
          "scatterternary": [
           {
            "marker": {
             "colorbar": {
              "outlinewidth": 0,
              "ticks": ""
             }
            },
            "type": "scatterternary"
           }
          ],
          "surface": [
           {
            "colorbar": {
             "outlinewidth": 0,
             "ticks": ""
            },
            "colorscale": [
             [
              0,
              "#0d0887"
             ],
             [
              0.1111111111111111,
              "#46039f"
             ],
             [
              0.2222222222222222,
              "#7201a8"
             ],
             [
              0.3333333333333333,
              "#9c179e"
             ],
             [
              0.4444444444444444,
              "#bd3786"
             ],
             [
              0.5555555555555556,
              "#d8576b"
             ],
             [
              0.6666666666666666,
              "#ed7953"
             ],
             [
              0.7777777777777778,
              "#fb9f3a"
             ],
             [
              0.8888888888888888,
              "#fdca26"
             ],
             [
              1,
              "#f0f921"
             ]
            ],
            "type": "surface"
           }
          ],
          "table": [
           {
            "cells": {
             "fill": {
              "color": "#EBF0F8"
             },
             "line": {
              "color": "white"
             }
            },
            "header": {
             "fill": {
              "color": "#C8D4E3"
             },
             "line": {
              "color": "white"
             }
            },
            "type": "table"
           }
          ]
         },
         "layout": {
          "annotationdefaults": {
           "arrowcolor": "#2a3f5f",
           "arrowhead": 0,
           "arrowwidth": 1
          },
          "coloraxis": {
           "colorbar": {
            "outlinewidth": 0,
            "ticks": ""
           }
          },
          "colorscale": {
           "diverging": [
            [
             0,
             "#8e0152"
            ],
            [
             0.1,
             "#c51b7d"
            ],
            [
             0.2,
             "#de77ae"
            ],
            [
             0.3,
             "#f1b6da"
            ],
            [
             0.4,
             "#fde0ef"
            ],
            [
             0.5,
             "#f7f7f7"
            ],
            [
             0.6,
             "#e6f5d0"
            ],
            [
             0.7,
             "#b8e186"
            ],
            [
             0.8,
             "#7fbc41"
            ],
            [
             0.9,
             "#4d9221"
            ],
            [
             1,
             "#276419"
            ]
           ],
           "sequential": [
            [
             0,
             "#0d0887"
            ],
            [
             0.1111111111111111,
             "#46039f"
            ],
            [
             0.2222222222222222,
             "#7201a8"
            ],
            [
             0.3333333333333333,
             "#9c179e"
            ],
            [
             0.4444444444444444,
             "#bd3786"
            ],
            [
             0.5555555555555556,
             "#d8576b"
            ],
            [
             0.6666666666666666,
             "#ed7953"
            ],
            [
             0.7777777777777778,
             "#fb9f3a"
            ],
            [
             0.8888888888888888,
             "#fdca26"
            ],
            [
             1,
             "#f0f921"
            ]
           ],
           "sequentialminus": [
            [
             0,
             "#0d0887"
            ],
            [
             0.1111111111111111,
             "#46039f"
            ],
            [
             0.2222222222222222,
             "#7201a8"
            ],
            [
             0.3333333333333333,
             "#9c179e"
            ],
            [
             0.4444444444444444,
             "#bd3786"
            ],
            [
             0.5555555555555556,
             "#d8576b"
            ],
            [
             0.6666666666666666,
             "#ed7953"
            ],
            [
             0.7777777777777778,
             "#fb9f3a"
            ],
            [
             0.8888888888888888,
             "#fdca26"
            ],
            [
             1,
             "#f0f921"
            ]
           ]
          },
          "colorway": [
           "#636efa",
           "#EF553B",
           "#00cc96",
           "#ab63fa",
           "#FFA15A",
           "#19d3f3",
           "#FF6692",
           "#B6E880",
           "#FF97FF",
           "#FECB52"
          ],
          "font": {
           "color": "#2a3f5f"
          },
          "geo": {
           "bgcolor": "white",
           "lakecolor": "white",
           "landcolor": "#E5ECF6",
           "showlakes": true,
           "showland": true,
           "subunitcolor": "white"
          },
          "hoverlabel": {
           "align": "left"
          },
          "hovermode": "closest",
          "mapbox": {
           "style": "light"
          },
          "paper_bgcolor": "white",
          "plot_bgcolor": "#E5ECF6",
          "polar": {
           "angularaxis": {
            "gridcolor": "white",
            "linecolor": "white",
            "ticks": ""
           },
           "bgcolor": "#E5ECF6",
           "radialaxis": {
            "gridcolor": "white",
            "linecolor": "white",
            "ticks": ""
           }
          },
          "scene": {
           "xaxis": {
            "backgroundcolor": "#E5ECF6",
            "gridcolor": "white",
            "gridwidth": 2,
            "linecolor": "white",
            "showbackground": true,
            "ticks": "",
            "zerolinecolor": "white"
           },
           "yaxis": {
            "backgroundcolor": "#E5ECF6",
            "gridcolor": "white",
            "gridwidth": 2,
            "linecolor": "white",
            "showbackground": true,
            "ticks": "",
            "zerolinecolor": "white"
           },
           "zaxis": {
            "backgroundcolor": "#E5ECF6",
            "gridcolor": "white",
            "gridwidth": 2,
            "linecolor": "white",
            "showbackground": true,
            "ticks": "",
            "zerolinecolor": "white"
           }
          },
          "shapedefaults": {
           "line": {
            "color": "#2a3f5f"
           }
          },
          "ternary": {
           "aaxis": {
            "gridcolor": "white",
            "linecolor": "white",
            "ticks": ""
           },
           "baxis": {
            "gridcolor": "white",
            "linecolor": "white",
            "ticks": ""
           },
           "bgcolor": "#E5ECF6",
           "caxis": {
            "gridcolor": "white",
            "linecolor": "white",
            "ticks": ""
           }
          },
          "title": {
           "x": 0.05
          },
          "xaxis": {
           "automargin": true,
           "gridcolor": "white",
           "linecolor": "white",
           "ticks": "",
           "title": {
            "standoff": 15
           },
           "zerolinecolor": "white",
           "zerolinewidth": 2
          },
          "yaxis": {
           "automargin": true,
           "gridcolor": "white",
           "linecolor": "white",
           "ticks": "",
           "title": {
            "standoff": 15
           },
           "zerolinecolor": "white",
           "zerolinewidth": 2
          }
         }
        },
        "title": {
         "text": "Amazon Echo Prices"
        },
        "xaxis": {
         "anchor": "y",
         "domain": [
          0,
          1
         ],
         "title": {
          "text": "Title"
         }
        },
        "yaxis": {
         "anchor": "x",
         "categoryarray": [
          6,
          12,
          38,
          36,
          24,
          31,
          37,
          14,
          10,
          22,
          49,
          43,
          40,
          11,
          32,
          25,
          28,
          26,
          15,
          18,
          35,
          23,
          17,
          7,
          33,
          27,
          46,
          34,
          20,
          30
         ],
         "categoryorder": "array",
         "domain": [
          0,
          1
         ],
         "title": {
          "text": "count of Price"
         }
        }
       }
      },
      "text/html": [
       "<div>\n",
       "        \n",
       "        \n",
       "            <div id=\"154dfa8f-e9cd-4c44-8ee1-d54ffe0916e1\" class=\"plotly-graph-div\" style=\"height:525px; width:100%;\"></div>\n",
       "            <script type=\"text/javascript\">\n",
       "                require([\"plotly\"], function(Plotly) {\n",
       "                    window.PLOTLYENV=window.PLOTLYENV || {};\n",
       "                    \n",
       "                if (document.getElementById(\"154dfa8f-e9cd-4c44-8ee1-d54ffe0916e1\")) {\n",
       "                    Plotly.newPlot(\n",
       "                        '154dfa8f-e9cd-4c44-8ee1-d54ffe0916e1',\n",
       "                        [{\"alignmentgroup\": \"True\", \"bingroup\": \"x\", \"hovertemplate\": \"Price=30<br>Title=%{x}<br>count of Price=%{y}<extra></extra>\", \"legendgroup\": \"30\", \"marker\": {\"color\": \"#636efa\"}, \"name\": \"30\", \"offsetgroup\": \"30\", \"orientation\": \"v\", \"showlegend\": true, \"type\": \"histogram\", \"x\": [\"  Amazon Echo Dot 3rd Generation w/ Alexa Voice Media Device - BRAND NEW\", \"  Amazon Echo Dot 3rd Generation Smart Speaker Sandstone White  Sealed\", \"  Amazon Echo Dot 3rd Generation w/ Alexa Voice Media Device - Charcoal (in \\ud83e\\udd1a\\ud83c\\udffb)\", \"  New Amazon Echo Dot 3rd Generation w/ Alexa Voice - Heather Gray - Free Ship\", \"  Amazon Echo Dot Smart Speaker - Sandstone\", \"  Amazon Echo Dot 3rd Gen - Heather Gray NEW In Box\", \"  New Amazon Echo Dot 3rd Generation with Alexa, Ship ASAP, Grey\", \"  BRAND NEW Amazon Echo Dot 3rd Generation w/ Alexa Voice Media Device - Sandstone\", \"  Amazon Echo Dot (3rd Generation) Smart Speaker with Alexa Voice Heather\", \"  Amazon Echo Dot Plum 3rd Generation Smart Speaker Sealed \", \"  Amazon Echo Dot 3rd Generation Smart Speaker Heather Gray New | FREE SHIPPING\", \"  Amazon Echo Dot 3rd Generation w/ Alexa Voice Media Device - BRAND NEW\", \"  Amazon Echo Dot 3rd Generation Smart Speaker Sandstone White  Sealed\", \"  Amazon Echo Dot 3rd Generation w/ Alexa Voice Media Device - Charcoal (in \\ud83e\\udd1a\\ud83c\\udffb)\", \"  New Amazon Echo Dot 3rd Generation w/ Alexa Voice - Heather Gray - Free Ship\", \"  Amazon Echo Dot Smart Speaker - Sandstone\", \"  New Amazon Echo Dot 3rd Generation with Alexa, Ship ASAP, Grey\", \"  Amazon Echo Dot 3rd Gen - Heather Gray NEW In Box\", \"  BRAND NEW Amazon Echo Dot 3rd Generation w/ Alexa Voice Media Device - Sandstone\", \"  Amazon Echo Dot (3rd Generation) Smart Speaker with Alexa Voice Heather\", \"  Amazon Echo Dot Plum 3rd Generation Smart Speaker Sealed \"], \"xaxis\": \"x\", \"y\": [30, 30, 30, 30, 30, 30, 30, 30, 30, 30, 30, 30, 30, 30, 30, 30, 30, 30, 30, 30, 30], \"yaxis\": \"y\"}, {\"alignmentgroup\": \"True\", \"bingroup\": \"x\", \"hovertemplate\": \"Price=20<br>Title=%{x}<br>count of Price=%{y}<extra></extra>\", \"legendgroup\": \"20\", \"marker\": {\"color\": \"#EF553B\"}, \"name\": \"20\", \"offsetgroup\": \"20\", \"orientation\": \"v\", \"showlegend\": true, \"type\": \"histogram\", \"x\": [\"  Amazon Echo Dot 2nd Gen Home Music Smart Assistant Speaker w/ Alexa - White\", \"  Amazon Echo Dot 2nd Generation w/ Alexa Voice Media Device: black or white\", \"  Amazon Echo Dot 2nd Generation\", \"  Amazon Echo Dot (2nd Generation) Smart Assistant - White\", \"  Amazon Echo Dot 2nd Gen Home Music Smart Assistant Speaker w/ Alexa - White\", \"  Amazon Echo Dot 2nd Generation w/ Alexa Voice Media Device: black or white\", \"  Amazon Echo Dot 2nd Generation\", \"  Amazon Echo Dot (2nd Generation) Smart Assistant - White\"], \"xaxis\": \"x\", \"y\": [20, 20, 20, 20, 20, 20, 20, 20], \"yaxis\": \"y\"}, {\"alignmentgroup\": \"True\", \"bingroup\": \"x\", \"hovertemplate\": \"Price=34<br>Title=%{x}<br>count of Price=%{y}<extra></extra>\", \"legendgroup\": \"34\", \"marker\": {\"color\": \"#00cc96\"}, \"name\": \"34\", \"offsetgroup\": \"34\", \"orientation\": \"v\", \"showlegend\": true, \"type\": \"histogram\", \"x\": [\"  Amazon Echo Dot 3rd Generation w/ Alexa Voice Media Device - BRAND NEW\", \"  Amazon Echo Dot (3rd generation) Smart Speaker with Alexa  (Sandstone)\", \"  Amazon Echo Dot (3rd Generation) Smart Speaker with Alexa\", \"  Amazon Echo Dot 3rd Generation w/ Alexa Voice Media Device - BRAND NEW\", \"  Amazon Echo Dot (3rd generation) Smart Speaker with Alexa  (Sandstone)\", \"  Amazon Echo Dot (3rd Generation) Smart Speaker with Alexa\"], \"xaxis\": \"x\", \"y\": [34, 34, 34, 34, 34, 34], \"yaxis\": \"y\"}, {\"alignmentgroup\": \"True\", \"bingroup\": \"x\", \"hovertemplate\": \"Price=46<br>Title=%{x}<br>count of Price=%{y}<extra></extra>\", \"legendgroup\": \"46\", \"marker\": {\"color\": \"#ab63fa\"}, \"name\": \"46\", \"offsetgroup\": \"46\", \"orientation\": \"v\", \"showlegend\": true, \"type\": \"histogram\", \"x\": [\"  Amazon Echo Dot 3rd Generation w/ Alexa Voice Media Device - Charcoal*BRAND NEW*\", \"  Amazon Echo Dot 3rd Generation w/ Alexa Voice Media Device - Charcoal*BRAND NEW*\"], \"xaxis\": \"x\", \"y\": [46, 46], \"yaxis\": \"y\"}, {\"alignmentgroup\": \"True\", \"bingroup\": \"x\", \"hovertemplate\": \"Price=27<br>Title=%{x}<br>count of Price=%{y}<extra></extra>\", \"legendgroup\": \"27\", \"marker\": {\"color\": \"#FFA15A\"}, \"name\": \"27\", \"offsetgroup\": \"27\", \"orientation\": \"v\", \"showlegend\": true, \"type\": \"histogram\", \"x\": [\"  Amazon Echo Dot 2nd Generation w/ Alexa Voice Media Device New Factory Sealed\", \"  Good Condition Amazon Echo Dot 3rd Gen Smart speaker with Alexa - Black \", \"  Amazon Echo Dot (3rd Generation) Smart Speaker - Sandstone  Sealed\", \"  Amazon Echo Dot 3rd Gen w/ Alexa - Gray/White *BRAND NEW*\", \"   Amazon Echo Dot (3rd Generation) Smart Speaker - Sandstone\", \"  Amazon Echo Dot 2nd Generation w/ Alexa Voice Media Device New Factory Sealed\", \"  Good Condition Amazon Echo Dot 3rd Gen Smart speaker with Alexa - Black \", \"  Amazon Echo Dot (3rd Generation) Smart Speaker - Sandstone  Sealed\"], \"xaxis\": \"x\", \"y\": [27, 27, 27, 27, 27, 27, 27, 27], \"yaxis\": \"y\"}, {\"alignmentgroup\": \"True\", \"bingroup\": \"x\", \"hovertemplate\": \"Price=33<br>Title=%{x}<br>count of Price=%{y}<extra></extra>\", \"legendgroup\": \"33\", \"marker\": {\"color\": \"#19d3f3\"}, \"name\": \"33\", \"offsetgroup\": \"33\", \"orientation\": \"v\", \"showlegend\": true, \"type\": \"histogram\", \"x\": [\"  Amazon Echo Dot 3rd Generation w/ Alexa Voice Media Device - Sandston BRAND NEW!\", \"  Amazon Echo Dot 3rd Generation w/ Alexa Voice Media Device - Sandston BRAND NEW!\"], \"xaxis\": \"x\", \"y\": [33, 33], \"yaxis\": \"y\"}, {\"alignmentgroup\": \"True\", \"bingroup\": \"x\", \"hovertemplate\": \"Price=7<br>Title=%{x}<br>count of Price=%{y}<extra></extra>\", \"legendgroup\": \"7\", \"marker\": {\"color\": \"#FF6692\"}, \"name\": \"7\", \"offsetgroup\": \"7\", \"orientation\": \"v\", \"showlegend\": true, \"type\": \"histogram\", \"x\": [\"  Amazon Echo Dot (2nd Generation) Smart Speaker - Black\", \"  Amazon Echo Dot (2nd Generation) Smart Speaker - Black\"], \"xaxis\": \"x\", \"y\": [7, 7], \"yaxis\": \"y\"}, {\"alignmentgroup\": \"True\", \"bingroup\": \"x\", \"hovertemplate\": \"Price=17<br>Title=%{x}<br>count of Price=%{y}<extra></extra>\", \"legendgroup\": \"17\", \"marker\": {\"color\": \"#B6E880\"}, \"name\": \"17\", \"offsetgroup\": \"17\", \"orientation\": \"v\", \"showlegend\": true, \"type\": \"histogram\", \"x\": [\"  Amazon Echo Dot - 2nd Gen - Home Music Smart Assistant Speaker w/ Alexa - Black\", \"  Amazon Echo Dot - 2nd Gen - Home Music Smart Assistant Speaker w/ Alexa - Black\", \"  Amazon Echo Dot - 2nd Gen - Home Music Smart Assistant Speaker w/ Alexa - Black\"], \"xaxis\": \"x\", \"y\": [17, 17, 17], \"yaxis\": \"y\"}, {\"alignmentgroup\": \"True\", \"bingroup\": \"x\", \"hovertemplate\": \"Price=23<br>Title=%{x}<br>count of Price=%{y}<extra></extra>\", \"legendgroup\": \"23\", \"marker\": {\"color\": \"#FF97FF\"}, \"name\": \"23\", \"offsetgroup\": \"23\", \"orientation\": \"v\", \"showlegend\": true, \"type\": \"histogram\", \"x\": [\"   Amazon Echo Dot (3rd Generation) Smart Speaker - Heather Gray\", \"   Amazon Echo Dot (3rd Generation) Smart Speaker - Heather Gray\"], \"xaxis\": \"x\", \"y\": [23, 23], \"yaxis\": \"y\"}, {\"alignmentgroup\": \"True\", \"bingroup\": \"x\", \"hovertemplate\": \"Price=35<br>Title=%{x}<br>count of Price=%{y}<extra></extra>\", \"legendgroup\": \"35\", \"marker\": {\"color\": \"#FECB52\"}, \"name\": \"35\", \"offsetgroup\": \"35\", \"orientation\": \"v\", \"showlegend\": true, \"type\": \"histogram\", \"x\": [\"  Amazon Echo Dot  3RD Gen  Sandstone Charcoal Gray Plum NEW SEALED\", \"  Amazon Echo Dot 3rd Generation Smart Speaker \", \"  Amazon Echo Dot 3rd Generation w/ Alexa Voice Media Device - Charcoal BRAND NEW!\", \"  Amazon Echo Dot  3RD Gen  Sandstone Charcoal Gray Plum NEW SEALED\", \"  Amazon Echo Dot 3rd Generation Smart Speaker \", \"  Amazon Echo Dot 3rd Generation w/ Alexa Voice Media Device - Charcoal BRAND NEW!\"], \"xaxis\": \"x\", \"y\": [35, 35, 35, 35, 35, 35], \"yaxis\": \"y\"}, {\"alignmentgroup\": \"True\", \"bingroup\": \"x\", \"hovertemplate\": \"Price=18<br>Title=%{x}<br>count of Price=%{y}<extra></extra>\", \"legendgroup\": \"18\", \"marker\": {\"color\": \"#636efa\"}, \"name\": \"18\", \"offsetgroup\": \"18\", \"orientation\": \"v\", \"showlegend\": true, \"type\": \"histogram\", \"x\": [\"  Amazon - Echo Dot (2nd generation) - Smart Speaker with Alexa - Black\", \"  Amazon Echo Dot (2nd Generation) Smart Speaker - Black\", \"  Amazon Echo Dot - 2nd Generation - Smart Speaker - Alexa Enabled - Black\", \"  Amazon - Echo Dot (2nd generation) - Smart Speaker with Alexa - Black\", \"  Amazon Echo Dot (2nd Generation) Smart Speaker - Black\"], \"xaxis\": \"x\", \"y\": [18, 18, 18, 18, 18], \"yaxis\": \"y\"}, {\"alignmentgroup\": \"True\", \"bingroup\": \"x\", \"hovertemplate\": \"Price=15<br>Title=%{x}<br>count of Price=%{y}<extra></extra>\", \"legendgroup\": \"15\", \"marker\": {\"color\": \"#EF553B\"}, \"name\": \"15\", \"offsetgroup\": \"15\", \"orientation\": \"v\", \"showlegend\": true, \"type\": \"histogram\", \"x\": [\"  Amazon Echo Dot (2nd Generation) Smart Assistant - White\", \"  Amazon Echo Dot (2nd Generation) Smart Assistant - White\"], \"xaxis\": \"x\", \"y\": [15, 15], \"yaxis\": \"y\"}, {\"alignmentgroup\": \"True\", \"bingroup\": \"x\", \"hovertemplate\": \"Price=26<br>Title=%{x}<br>count of Price=%{y}<extra></extra>\", \"legendgroup\": \"26\", \"marker\": {\"color\": \"#00cc96\"}, \"name\": \"26\", \"offsetgroup\": \"26\", \"orientation\": \"v\", \"showlegend\": true, \"type\": \"histogram\", \"x\": [\"  Amazon Echo Dot 3rd Generation w/ Alexa Voice Media Device Sandstone BRAND NEW!\", \"  Amazon Echo Dot 3rd Generation with Alexa Voice Media Device - Charcoal\", \"  Amazon Echo Dot 3rd Generation with Alexa Voice Media Device - Charcoal\", \"  Amazon Echo Dot 3rd Generation w/ Alexa Voice Media Device Sandstone BRAND NEW!\"], \"xaxis\": \"x\", \"y\": [26, 26, 26, 26], \"yaxis\": \"y\"}, {\"alignmentgroup\": \"True\", \"bingroup\": \"x\", \"hovertemplate\": \"Price=28<br>Title=%{x}<br>count of Price=%{y}<extra></extra>\", \"legendgroup\": \"28\", \"marker\": {\"color\": \"#ab63fa\"}, \"name\": \"28\", \"offsetgroup\": \"28\", \"orientation\": \"v\", \"showlegend\": true, \"type\": \"histogram\", \"x\": [\"  Amazon Echo Dot 3rd Generation  - Heather Gray\", \"  Amazon Echo Dot (3rd Generation) Smart Speaker with Alexa - Heather Gray\", \"  Amazon Echo Dot 3rd Generation  - Heather Gray\", \"  Amazon Echo Dot (3rd Generation) Smart Speaker with Alexa - Heather Gray\"], \"xaxis\": \"x\", \"y\": [28, 28, 28, 28], \"yaxis\": \"y\"}, {\"alignmentgroup\": \"True\", \"bingroup\": \"x\", \"hovertemplate\": \"Price=25<br>Title=%{x}<br>count of Price=%{y}<extra></extra>\", \"legendgroup\": \"25\", \"marker\": {\"color\": \"#FFA15A\"}, \"name\": \"25\", \"offsetgroup\": \"25\", \"orientation\": \"v\", \"showlegend\": true, \"type\": \"histogram\", \"x\": [\"  Amazon - Echo Dot (3rd Gen) - Smart Speaker with Alexa - Sandstone White\", \"  Amazon Echo Dot (2nd Generation) Smart Assistant - White  Ships Fast\", \"   Amazon Echo Dot Latest 2018 (3rd Generation) Smart speaker Alexa \", \"  Amazon - Echo Dot (3rd Gen) - Smart Speaker with Alexa - Sandstone White\", \"  Amazon Echo Dot (2nd Generation) Smart Assistant - White  Ships Fast\", \"   Amazon Echo Dot Latest 2018 (3rd Generation) Smart speaker Alexa \"], \"xaxis\": \"x\", \"y\": [25, 25, 25, 25, 25, 25], \"yaxis\": \"y\"}, {\"alignmentgroup\": \"True\", \"bingroup\": \"x\", \"hovertemplate\": \"Price=32<br>Title=%{x}<br>count of Price=%{y}<extra></extra>\", \"legendgroup\": \"32\", \"marker\": {\"color\": \"#19d3f3\"}, \"name\": \"32\", \"offsetgroup\": \"32\", \"orientation\": \"v\", \"showlegend\": true, \"type\": \"histogram\", \"x\": [\"  Amazon Echo Dot (3rd Gen) -Smart Speaker with Alexa- Heather Gray FREE SHIPPING\", \"  Amazon Echo Dot (3rd Gen) -Smart Speaker with Alexa- Heather Gray FREE SHIPPING\"], \"xaxis\": \"x\", \"y\": [32, 32], \"yaxis\": \"y\"}, {\"alignmentgroup\": \"True\", \"bingroup\": \"x\", \"hovertemplate\": \"Price=11<br>Title=%{x}<br>count of Price=%{y}<extra></extra>\", \"legendgroup\": \"11\", \"marker\": {\"color\": \"#FF6692\"}, \"name\": \"11\", \"offsetgroup\": \"11\", \"orientation\": \"v\", \"showlegend\": true, \"type\": \"histogram\", \"x\": [\"  amazon echo dot kids edition\", \"  amazon echo dot kids edition\"], \"xaxis\": \"x\", \"y\": [11, 11], \"yaxis\": \"y\"}, {\"alignmentgroup\": \"True\", \"bingroup\": \"x\", \"hovertemplate\": \"Price=40<br>Title=%{x}<br>count of Price=%{y}<extra></extra>\", \"legendgroup\": \"40\", \"marker\": {\"color\": \"#B6E880\"}, \"name\": \"40\", \"offsetgroup\": \"40\", \"orientation\": \"v\", \"showlegend\": true, \"type\": \"histogram\", \"x\": [\"  Amazon Echo Dot 3rd Gen - Smart speaker with Alexa - Heather Grey BRAND NEW\", \"  BRAND NEW Amazon Echo Dot 3rd Gen Smart speaker with Alexa - Sandstone FREE SHIP\", \"  Amazon Echo Dot 3rd Generation w/ Alexa Voice Media Device - Charcoal BRAND NEW!\", \"  Amazon Echo Dot 3rd Gen - Smart speaker with Alexa - Heather Grey BRAND NEW\"], \"xaxis\": \"x\", \"y\": [40, 40, 40, 40], \"yaxis\": \"y\"}, {\"alignmentgroup\": \"True\", \"bingroup\": \"x\", \"hovertemplate\": \"Price=43<br>Title=%{x}<br>count of Price=%{y}<extra></extra>\", \"legendgroup\": \"43\", \"marker\": {\"color\": \"#FF97FF\"}, \"name\": \"43\", \"offsetgroup\": \"43\", \"orientation\": \"v\", \"showlegend\": true, \"type\": \"histogram\", \"x\": [\"  Amazon Echo Dot (3rd Generation) Smart Speaker with Clock - Sandstone\", \"  Amazon Echo Dot (3rd Generation) Smart Speaker with Clock - Sandstone\"], \"xaxis\": \"x\", \"y\": [43, 43], \"yaxis\": \"y\"}, {\"alignmentgroup\": \"True\", \"bingroup\": \"x\", \"hovertemplate\": \"Price=49<br>Title=%{x}<br>count of Price=%{y}<extra></extra>\", \"legendgroup\": \"49\", \"marker\": {\"color\": \"#FECB52\"}, \"name\": \"49\", \"offsetgroup\": \"49\", \"orientation\": \"v\", \"showlegend\": true, \"type\": \"histogram\", \"x\": [\"  Amazon Echo Dot (3rd Generation) Smart Speaker with Clock NEW\", \"  Amazon Echo Dot 3rd Generation Smart Speaker with Clock and Alexa - Sandstone \", \"  Amazon Echo Dot (3rd Generation) Smart Speaker with Clock NEW\"], \"xaxis\": \"x\", \"y\": [49, 49, 49], \"yaxis\": \"y\"}, {\"alignmentgroup\": \"True\", \"bingroup\": \"x\", \"hovertemplate\": \"Price=22<br>Title=%{x}<br>count of Price=%{y}<extra></extra>\", \"legendgroup\": \"22\", \"marker\": {\"color\": \"#636efa\"}, \"name\": \"22\", \"offsetgroup\": \"22\", \"orientation\": \"v\", \"showlegend\": true, \"type\": \"histogram\", \"x\": [\"  Amazon Echo Dot (2nd Gen) Smart Speaker with Alexa, Black, White, New\", \"  Amazon Echo Dot (2nd Gen) Smart Speaker with Alexa, Black, White, New\"], \"xaxis\": \"x\", \"y\": [22, 22], \"yaxis\": \"y\"}, {\"alignmentgroup\": \"True\", \"bingroup\": \"x\", \"hovertemplate\": \"Price=10<br>Title=%{x}<br>count of Price=%{y}<extra></extra>\", \"legendgroup\": \"10\", \"marker\": {\"color\": \"#EF553B\"}, \"name\": \"10\", \"offsetgroup\": \"10\", \"orientation\": \"v\", \"showlegend\": true, \"type\": \"histogram\", \"x\": [\"   Empty Boxes Only - Amazon Echo Dot 3rd Generation and Echo Auto - Gray/Black\", \"  Amazon Echo Dot (3rd Generation) Smart Speaker with Alexa Voice\", \"   Empty Boxes Only - Amazon Echo Dot 3rd Generation and Echo Auto - Gray/Black\"], \"xaxis\": \"x\", \"y\": [10, 10, 10], \"yaxis\": \"y\"}, {\"alignmentgroup\": \"True\", \"bingroup\": \"x\", \"hovertemplate\": \"Price=14<br>Title=%{x}<br>count of Price=%{y}<extra></extra>\", \"legendgroup\": \"14\", \"marker\": {\"color\": \"#00cc96\"}, \"name\": \"14\", \"offsetgroup\": \"14\", \"orientation\": \"v\", \"showlegend\": true, \"type\": \"histogram\", \"x\": [\"  Amazon Echo Dot (2nd Generation) Smart Speaker - Black\", \"  Amazon B07FZ8S74R Echo Dot 3rd Generation Smart Speaker with Alexa - Charcoal\", \"  Amazon Echo Dot (2nd Generation) Smart Speaker - Black\", \"  Amazon Echo Dot (2nd Generation) Smart Speaker - Black\"], \"xaxis\": \"x\", \"y\": [14, 14, 14, 14], \"yaxis\": \"y\"}, {\"alignmentgroup\": \"True\", \"bingroup\": \"x\", \"hovertemplate\": \"Price=37<br>Title=%{x}<br>count of Price=%{y}<extra></extra>\", \"legendgroup\": \"37\", \"marker\": {\"color\": \"#ab63fa\"}, \"name\": \"37\", \"offsetgroup\": \"37\", \"orientation\": \"v\", \"showlegend\": true, \"type\": \"histogram\", \"x\": [\"  SHIPS TODAY! Amazon Echo Dot 3rd Generation Alexa Voice Smart Speaker\", \"  SHIPS TODAY! Amazon Echo Dot 3rd Generation Alexa Voice Smart Speaker\"], \"xaxis\": \"x\", \"y\": [37, 37], \"yaxis\": \"y\"}, {\"alignmentgroup\": \"True\", \"bingroup\": \"x\", \"hovertemplate\": \"Price=31<br>Title=%{x}<br>count of Price=%{y}<extra></extra>\", \"legendgroup\": \"31\", \"marker\": {\"color\": \"#FFA15A\"}, \"name\": \"31\", \"offsetgroup\": \"31\", \"orientation\": \"v\", \"showlegend\": true, \"type\": \"histogram\", \"x\": [\"  AMAZON ECHO DOT (3nd GENERATION) SMART SPEAKER w/Alexa (CHARCOAL) *NEW in BOX!\", \"  AMAZON ECHO DOT (3nd GENERATION) SMART SPEAKER w/Alexa (CHARCOAL) *NEW in BOX!\"], \"xaxis\": \"x\", \"y\": [31, 31], \"yaxis\": \"y\"}, {\"alignmentgroup\": \"True\", \"bingroup\": \"x\", \"hovertemplate\": \"Price=24<br>Title=%{x}<br>count of Price=%{y}<extra></extra>\", \"legendgroup\": \"24\", \"marker\": {\"color\": \"#19d3f3\"}, \"name\": \"24\", \"offsetgroup\": \"24\", \"orientation\": \"v\", \"showlegend\": true, \"type\": \"histogram\", \"x\": [\"  BRAND NEW Amazon Echo Dot 3rd Generation w/ Alexa Voice Media Device - Sandstone\", \"  Amazon Echo Dot 3rd Generation  - Heather Gray\"], \"xaxis\": \"x\", \"y\": [24, 24], \"yaxis\": \"y\"}, {\"alignmentgroup\": \"True\", \"bingroup\": \"x\", \"hovertemplate\": \"Price=36<br>Title=%{x}<br>count of Price=%{y}<extra></extra>\", \"legendgroup\": \"36\", \"marker\": {\"color\": \"#FF6692\"}, \"name\": \"36\", \"offsetgroup\": \"36\", \"orientation\": \"v\", \"showlegend\": true, \"type\": \"histogram\", \"x\": [\"  NEW Amazon Echo Dot 3rd Generation Smart Speaker with Alexa Assistant- Charcoal\", \"  NEW Amazon Echo Dot 3rd Generation Smart Speaker with Alexa Assistant- Charcoal\"], \"xaxis\": \"x\", \"y\": [36, 36], \"yaxis\": \"y\"}, {\"alignmentgroup\": \"True\", \"bingroup\": \"x\", \"hovertemplate\": \"Price=38<br>Title=%{x}<br>count of Price=%{y}<extra></extra>\", \"legendgroup\": \"38\", \"marker\": {\"color\": \"#B6E880\"}, \"name\": \"38\", \"offsetgroup\": \"38\", \"orientation\": \"v\", \"showlegend\": true, \"type\": \"histogram\", \"x\": [\"  Amazon Echo Dot 3rd Generation w/ Alexa Voice Media Device - BRAND NEW\"], \"xaxis\": \"x\", \"y\": [38], \"yaxis\": \"y\"}, {\"alignmentgroup\": \"True\", \"bingroup\": \"x\", \"hovertemplate\": \"Price=12<br>Title=%{x}<br>count of Price=%{y}<extra></extra>\", \"legendgroup\": \"12\", \"marker\": {\"color\": \"#FF97FF\"}, \"name\": \"12\", \"offsetgroup\": \"12\", \"orientation\": \"v\", \"showlegend\": true, \"type\": \"histogram\", \"x\": [\"  Amazon Echo Dot 3rd Generation w/ Alexa Voice Media Device  brand new@\"], \"xaxis\": \"x\", \"y\": [12], \"yaxis\": \"y\"}, {\"alignmentgroup\": \"True\", \"bingroup\": \"x\", \"hovertemplate\": \"Price=6<br>Title=%{x}<br>count of Price=%{y}<extra></extra>\", \"legendgroup\": \"6\", \"marker\": {\"color\": \"#FECB52\"}, \"name\": \"6\", \"offsetgroup\": \"6\", \"orientation\": \"v\", \"showlegend\": true, \"type\": \"histogram\", \"x\": [\"  Amazon echo dot 3rd generation NEW\"], \"xaxis\": \"x\", \"y\": [6], \"yaxis\": \"y\"}],\n",
       "                        {\"barmode\": \"relative\", \"legend\": {\"title\": {\"text\": \"Price\"}, \"tracegroupgap\": 0}, \"template\": {\"data\": {\"bar\": [{\"error_x\": {\"color\": \"#2a3f5f\"}, \"error_y\": {\"color\": \"#2a3f5f\"}, \"marker\": {\"line\": {\"color\": \"#E5ECF6\", \"width\": 0.5}}, \"type\": \"bar\"}], \"barpolar\": [{\"marker\": {\"line\": {\"color\": \"#E5ECF6\", \"width\": 0.5}}, \"type\": \"barpolar\"}], \"carpet\": [{\"aaxis\": {\"endlinecolor\": \"#2a3f5f\", \"gridcolor\": \"white\", \"linecolor\": \"white\", \"minorgridcolor\": \"white\", \"startlinecolor\": \"#2a3f5f\"}, \"baxis\": {\"endlinecolor\": \"#2a3f5f\", \"gridcolor\": \"white\", \"linecolor\": \"white\", \"minorgridcolor\": \"white\", \"startlinecolor\": \"#2a3f5f\"}, \"type\": \"carpet\"}], \"choropleth\": [{\"colorbar\": {\"outlinewidth\": 0, \"ticks\": \"\"}, \"type\": \"choropleth\"}], \"contour\": [{\"colorbar\": {\"outlinewidth\": 0, \"ticks\": \"\"}, \"colorscale\": [[0.0, \"#0d0887\"], [0.1111111111111111, \"#46039f\"], [0.2222222222222222, \"#7201a8\"], [0.3333333333333333, \"#9c179e\"], [0.4444444444444444, \"#bd3786\"], [0.5555555555555556, \"#d8576b\"], [0.6666666666666666, \"#ed7953\"], [0.7777777777777778, \"#fb9f3a\"], [0.8888888888888888, \"#fdca26\"], [1.0, \"#f0f921\"]], \"type\": \"contour\"}], \"contourcarpet\": [{\"colorbar\": {\"outlinewidth\": 0, \"ticks\": \"\"}, \"type\": \"contourcarpet\"}], \"heatmap\": [{\"colorbar\": {\"outlinewidth\": 0, \"ticks\": \"\"}, \"colorscale\": [[0.0, \"#0d0887\"], [0.1111111111111111, \"#46039f\"], [0.2222222222222222, \"#7201a8\"], [0.3333333333333333, \"#9c179e\"], [0.4444444444444444, \"#bd3786\"], [0.5555555555555556, \"#d8576b\"], [0.6666666666666666, \"#ed7953\"], [0.7777777777777778, \"#fb9f3a\"], [0.8888888888888888, \"#fdca26\"], [1.0, \"#f0f921\"]], \"type\": \"heatmap\"}], \"heatmapgl\": [{\"colorbar\": {\"outlinewidth\": 0, \"ticks\": \"\"}, \"colorscale\": [[0.0, \"#0d0887\"], [0.1111111111111111, \"#46039f\"], [0.2222222222222222, \"#7201a8\"], [0.3333333333333333, \"#9c179e\"], [0.4444444444444444, \"#bd3786\"], [0.5555555555555556, \"#d8576b\"], [0.6666666666666666, \"#ed7953\"], [0.7777777777777778, \"#fb9f3a\"], [0.8888888888888888, \"#fdca26\"], [1.0, \"#f0f921\"]], \"type\": \"heatmapgl\"}], \"histogram\": [{\"marker\": {\"colorbar\": {\"outlinewidth\": 0, \"ticks\": \"\"}}, \"type\": \"histogram\"}], \"histogram2d\": [{\"colorbar\": {\"outlinewidth\": 0, \"ticks\": \"\"}, \"colorscale\": [[0.0, \"#0d0887\"], [0.1111111111111111, \"#46039f\"], [0.2222222222222222, \"#7201a8\"], [0.3333333333333333, \"#9c179e\"], [0.4444444444444444, \"#bd3786\"], [0.5555555555555556, \"#d8576b\"], [0.6666666666666666, \"#ed7953\"], [0.7777777777777778, \"#fb9f3a\"], [0.8888888888888888, \"#fdca26\"], [1.0, \"#f0f921\"]], \"type\": \"histogram2d\"}], \"histogram2dcontour\": [{\"colorbar\": {\"outlinewidth\": 0, \"ticks\": \"\"}, \"colorscale\": [[0.0, \"#0d0887\"], [0.1111111111111111, \"#46039f\"], [0.2222222222222222, \"#7201a8\"], [0.3333333333333333, \"#9c179e\"], [0.4444444444444444, \"#bd3786\"], [0.5555555555555556, \"#d8576b\"], [0.6666666666666666, \"#ed7953\"], [0.7777777777777778, \"#fb9f3a\"], [0.8888888888888888, \"#fdca26\"], [1.0, \"#f0f921\"]], \"type\": \"histogram2dcontour\"}], \"mesh3d\": [{\"colorbar\": {\"outlinewidth\": 0, \"ticks\": \"\"}, \"type\": \"mesh3d\"}], \"parcoords\": [{\"line\": {\"colorbar\": {\"outlinewidth\": 0, \"ticks\": \"\"}}, \"type\": \"parcoords\"}], \"pie\": [{\"automargin\": true, \"type\": \"pie\"}], \"scatter\": [{\"marker\": {\"colorbar\": {\"outlinewidth\": 0, \"ticks\": \"\"}}, \"type\": \"scatter\"}], \"scatter3d\": [{\"line\": {\"colorbar\": {\"outlinewidth\": 0, \"ticks\": \"\"}}, \"marker\": {\"colorbar\": {\"outlinewidth\": 0, \"ticks\": \"\"}}, \"type\": \"scatter3d\"}], \"scattercarpet\": [{\"marker\": {\"colorbar\": {\"outlinewidth\": 0, \"ticks\": \"\"}}, \"type\": \"scattercarpet\"}], \"scattergeo\": [{\"marker\": {\"colorbar\": {\"outlinewidth\": 0, \"ticks\": \"\"}}, \"type\": \"scattergeo\"}], \"scattergl\": [{\"marker\": {\"colorbar\": {\"outlinewidth\": 0, \"ticks\": \"\"}}, \"type\": \"scattergl\"}], \"scattermapbox\": [{\"marker\": {\"colorbar\": {\"outlinewidth\": 0, \"ticks\": \"\"}}, \"type\": \"scattermapbox\"}], \"scatterpolar\": [{\"marker\": {\"colorbar\": {\"outlinewidth\": 0, \"ticks\": \"\"}}, \"type\": \"scatterpolar\"}], \"scatterpolargl\": [{\"marker\": {\"colorbar\": {\"outlinewidth\": 0, \"ticks\": \"\"}}, \"type\": \"scatterpolargl\"}], \"scatterternary\": [{\"marker\": {\"colorbar\": {\"outlinewidth\": 0, \"ticks\": \"\"}}, \"type\": \"scatterternary\"}], \"surface\": [{\"colorbar\": {\"outlinewidth\": 0, \"ticks\": \"\"}, \"colorscale\": [[0.0, \"#0d0887\"], [0.1111111111111111, \"#46039f\"], [0.2222222222222222, \"#7201a8\"], [0.3333333333333333, \"#9c179e\"], [0.4444444444444444, \"#bd3786\"], [0.5555555555555556, \"#d8576b\"], [0.6666666666666666, \"#ed7953\"], [0.7777777777777778, \"#fb9f3a\"], [0.8888888888888888, \"#fdca26\"], [1.0, \"#f0f921\"]], \"type\": \"surface\"}], \"table\": [{\"cells\": {\"fill\": {\"color\": \"#EBF0F8\"}, \"line\": {\"color\": \"white\"}}, \"header\": {\"fill\": {\"color\": \"#C8D4E3\"}, \"line\": {\"color\": \"white\"}}, \"type\": \"table\"}]}, \"layout\": {\"annotationdefaults\": {\"arrowcolor\": \"#2a3f5f\", \"arrowhead\": 0, \"arrowwidth\": 1}, \"coloraxis\": {\"colorbar\": {\"outlinewidth\": 0, \"ticks\": \"\"}}, \"colorscale\": {\"diverging\": [[0, \"#8e0152\"], [0.1, \"#c51b7d\"], [0.2, \"#de77ae\"], [0.3, \"#f1b6da\"], [0.4, \"#fde0ef\"], [0.5, \"#f7f7f7\"], [0.6, \"#e6f5d0\"], [0.7, \"#b8e186\"], [0.8, \"#7fbc41\"], [0.9, \"#4d9221\"], [1, \"#276419\"]], \"sequential\": [[0.0, \"#0d0887\"], [0.1111111111111111, \"#46039f\"], [0.2222222222222222, \"#7201a8\"], [0.3333333333333333, \"#9c179e\"], [0.4444444444444444, \"#bd3786\"], [0.5555555555555556, \"#d8576b\"], [0.6666666666666666, \"#ed7953\"], [0.7777777777777778, \"#fb9f3a\"], [0.8888888888888888, \"#fdca26\"], [1.0, \"#f0f921\"]], \"sequentialminus\": [[0.0, \"#0d0887\"], [0.1111111111111111, \"#46039f\"], [0.2222222222222222, \"#7201a8\"], [0.3333333333333333, \"#9c179e\"], [0.4444444444444444, \"#bd3786\"], [0.5555555555555556, \"#d8576b\"], [0.6666666666666666, \"#ed7953\"], [0.7777777777777778, \"#fb9f3a\"], [0.8888888888888888, \"#fdca26\"], [1.0, \"#f0f921\"]]}, \"colorway\": [\"#636efa\", \"#EF553B\", \"#00cc96\", \"#ab63fa\", \"#FFA15A\", \"#19d3f3\", \"#FF6692\", \"#B6E880\", \"#FF97FF\", \"#FECB52\"], \"font\": {\"color\": \"#2a3f5f\"}, \"geo\": {\"bgcolor\": \"white\", \"lakecolor\": \"white\", \"landcolor\": \"#E5ECF6\", \"showlakes\": true, \"showland\": true, \"subunitcolor\": \"white\"}, \"hoverlabel\": {\"align\": \"left\"}, \"hovermode\": \"closest\", \"mapbox\": {\"style\": \"light\"}, \"paper_bgcolor\": \"white\", \"plot_bgcolor\": \"#E5ECF6\", \"polar\": {\"angularaxis\": {\"gridcolor\": \"white\", \"linecolor\": \"white\", \"ticks\": \"\"}, \"bgcolor\": \"#E5ECF6\", \"radialaxis\": {\"gridcolor\": \"white\", \"linecolor\": \"white\", \"ticks\": \"\"}}, \"scene\": {\"xaxis\": {\"backgroundcolor\": \"#E5ECF6\", \"gridcolor\": \"white\", \"gridwidth\": 2, \"linecolor\": \"white\", \"showbackground\": true, \"ticks\": \"\", \"zerolinecolor\": \"white\"}, \"yaxis\": {\"backgroundcolor\": \"#E5ECF6\", \"gridcolor\": \"white\", \"gridwidth\": 2, \"linecolor\": \"white\", \"showbackground\": true, \"ticks\": \"\", \"zerolinecolor\": \"white\"}, \"zaxis\": {\"backgroundcolor\": \"#E5ECF6\", \"gridcolor\": \"white\", \"gridwidth\": 2, \"linecolor\": \"white\", \"showbackground\": true, \"ticks\": \"\", \"zerolinecolor\": \"white\"}}, \"shapedefaults\": {\"line\": {\"color\": \"#2a3f5f\"}}, \"ternary\": {\"aaxis\": {\"gridcolor\": \"white\", \"linecolor\": \"white\", \"ticks\": \"\"}, \"baxis\": {\"gridcolor\": \"white\", \"linecolor\": \"white\", \"ticks\": \"\"}, \"bgcolor\": \"#E5ECF6\", \"caxis\": {\"gridcolor\": \"white\", \"linecolor\": \"white\", \"ticks\": \"\"}}, \"title\": {\"x\": 0.05}, \"xaxis\": {\"automargin\": true, \"gridcolor\": \"white\", \"linecolor\": \"white\", \"ticks\": \"\", \"title\": {\"standoff\": 15}, \"zerolinecolor\": \"white\", \"zerolinewidth\": 2}, \"yaxis\": {\"automargin\": true, \"gridcolor\": \"white\", \"linecolor\": \"white\", \"ticks\": \"\", \"title\": {\"standoff\": 15}, \"zerolinecolor\": \"white\", \"zerolinewidth\": 2}}}, \"title\": {\"text\": \"Amazon Echo Prices\"}, \"xaxis\": {\"anchor\": \"y\", \"domain\": [0.0, 1.0], \"title\": {\"text\": \"Title\"}}, \"yaxis\": {\"anchor\": \"x\", \"categoryarray\": [6, 12, 38, 36, 24, 31, 37, 14, 10, 22, 49, 43, 40, 11, 32, 25, 28, 26, 15, 18, 35, 23, 17, 7, 33, 27, 46, 34, 20, 30], \"categoryorder\": \"array\", \"domain\": [0.0, 1.0], \"title\": {\"text\": \"count of Price\"}}},\n",
       "                        {\"responsive\": true}\n",
       "                    ).then(function(){\n",
       "                            \n",
       "var gd = document.getElementById('154dfa8f-e9cd-4c44-8ee1-d54ffe0916e1');\n",
       "var x = new MutationObserver(function (mutations, observer) {{\n",
       "        var display = window.getComputedStyle(gd).display;\n",
       "        if (!display || display === 'none') {{\n",
       "            console.log([gd, 'removed!']);\n",
       "            Plotly.purge(gd);\n",
       "            observer.disconnect();\n",
       "        }}\n",
       "}});\n",
       "\n",
       "// Listen for the removal of the full notebook cells\n",
       "var notebookContainer = gd.closest('#notebook-container');\n",
       "if (notebookContainer) {{\n",
       "    x.observe(notebookContainer, {childList: true});\n",
       "}}\n",
       "\n",
       "// Listen for the clearing of the current output cell\n",
       "var outputEl = gd.closest('.output');\n",
       "if (outputEl) {{\n",
       "    x.observe(outputEl, {childList: true});\n",
       "}}\n",
       "\n",
       "                        })\n",
       "                };\n",
       "                });\n",
       "            </script>\n",
       "        </div>"
      ]
     },
     "metadata": {},
     "output_type": "display_data"
    }
   ],
   "source": [
    "import pandas as pd\n",
    "import plotly.express as px\n",
    "\n",
    "df = pd.read_csv('/Users/sarafrench/final_proj_python/output3.csv')\n",
    "\n",
    "\n",
    "# fig = px.line(df, x = 'Title', y = 'Price', title='Amazon Echo Prices')\n",
    "# fig.show()\n",
    "\n",
    "fig = px.histogram(df, x = 'Title', y = 'Price', color=\"Price\",title='Amazon Echo Prices')\n",
    "fig.show()\n",
    "\n",
    "# df_col = ['title','price','currency','shipping', 'url']\n",
    "# df.columns = df_col\n",
    "\n",
    "# df.head(11)"
   ]
  },
  {
   "cell_type": "code",
   "execution_count": 62,
   "metadata": {},
   "outputs": [
    {
     "data": {
      "application/vnd.plotly.v1+json": {
       "config": {
        "plotlyServerURL": "https://plot.ly"
       },
       "data": [
        {
         "hovertemplate": "Price=%{y}<br>Title=%{x}<extra></extra>",
         "legendgroup": "30",
         "line": {
          "color": "#636efa",
          "dash": "solid"
         },
         "mode": "lines",
         "name": "30",
         "showlegend": true,
         "type": "scatter",
         "x": [
          "  Amazon Echo Dot 3rd Generation w/ Alexa Voice Media Device - BRAND NEW",
          "  Amazon Echo Dot 3rd Generation Smart Speaker Sandstone White  Sealed",
          "  Amazon Echo Dot 3rd Generation w/ Alexa Voice Media Device - Charcoal (in 🤚🏻)",
          "  New Amazon Echo Dot 3rd Generation w/ Alexa Voice - Heather Gray - Free Ship",
          "  Amazon Echo Dot Smart Speaker - Sandstone",
          "  Amazon Echo Dot 3rd Gen - Heather Gray NEW In Box",
          "  New Amazon Echo Dot 3rd Generation with Alexa, Ship ASAP, Grey",
          "  BRAND NEW Amazon Echo Dot 3rd Generation w/ Alexa Voice Media Device - Sandstone",
          "  Amazon Echo Dot (3rd Generation) Smart Speaker with Alexa Voice Heather",
          "  Amazon Echo Dot Plum 3rd Generation Smart Speaker Sealed ",
          "  Amazon Echo Dot 3rd Generation Smart Speaker Heather Gray New | FREE SHIPPING",
          "  Amazon Echo Dot 3rd Generation w/ Alexa Voice Media Device - BRAND NEW",
          "  Amazon Echo Dot 3rd Generation Smart Speaker Sandstone White  Sealed",
          "  Amazon Echo Dot 3rd Generation w/ Alexa Voice Media Device - Charcoal (in 🤚🏻)",
          "  New Amazon Echo Dot 3rd Generation w/ Alexa Voice - Heather Gray - Free Ship",
          "  Amazon Echo Dot Smart Speaker - Sandstone",
          "  New Amazon Echo Dot 3rd Generation with Alexa, Ship ASAP, Grey",
          "  Amazon Echo Dot 3rd Gen - Heather Gray NEW In Box",
          "  BRAND NEW Amazon Echo Dot 3rd Generation w/ Alexa Voice Media Device - Sandstone",
          "  Amazon Echo Dot (3rd Generation) Smart Speaker with Alexa Voice Heather",
          "  Amazon Echo Dot Plum 3rd Generation Smart Speaker Sealed "
         ],
         "xaxis": "x",
         "y": [
          30,
          30,
          30,
          30,
          30,
          30,
          30,
          30,
          30,
          30,
          30,
          30,
          30,
          30,
          30,
          30,
          30,
          30,
          30,
          30,
          30
         ],
         "yaxis": "y"
        },
        {
         "hovertemplate": "Price=%{y}<br>Title=%{x}<extra></extra>",
         "legendgroup": "20",
         "line": {
          "color": "#EF553B",
          "dash": "solid"
         },
         "mode": "lines",
         "name": "20",
         "showlegend": true,
         "type": "scatter",
         "x": [
          "  Amazon Echo Dot 2nd Gen Home Music Smart Assistant Speaker w/ Alexa - White",
          "  Amazon Echo Dot 2nd Generation w/ Alexa Voice Media Device: black or white",
          "  Amazon Echo Dot 2nd Generation",
          "  Amazon Echo Dot (2nd Generation) Smart Assistant - White",
          "  Amazon Echo Dot 2nd Gen Home Music Smart Assistant Speaker w/ Alexa - White",
          "  Amazon Echo Dot 2nd Generation w/ Alexa Voice Media Device: black or white",
          "  Amazon Echo Dot 2nd Generation",
          "  Amazon Echo Dot (2nd Generation) Smart Assistant - White"
         ],
         "xaxis": "x",
         "y": [
          20,
          20,
          20,
          20,
          20,
          20,
          20,
          20
         ],
         "yaxis": "y"
        },
        {
         "hovertemplate": "Price=%{y}<br>Title=%{x}<extra></extra>",
         "legendgroup": "34",
         "line": {
          "color": "#00cc96",
          "dash": "solid"
         },
         "mode": "lines",
         "name": "34",
         "showlegend": true,
         "type": "scatter",
         "x": [
          "  Amazon Echo Dot 3rd Generation w/ Alexa Voice Media Device - BRAND NEW",
          "  Amazon Echo Dot (3rd generation) Smart Speaker with Alexa  (Sandstone)",
          "  Amazon Echo Dot (3rd Generation) Smart Speaker with Alexa",
          "  Amazon Echo Dot 3rd Generation w/ Alexa Voice Media Device - BRAND NEW",
          "  Amazon Echo Dot (3rd generation) Smart Speaker with Alexa  (Sandstone)",
          "  Amazon Echo Dot (3rd Generation) Smart Speaker with Alexa"
         ],
         "xaxis": "x",
         "y": [
          34,
          34,
          34,
          34,
          34,
          34
         ],
         "yaxis": "y"
        },
        {
         "hovertemplate": "Price=%{y}<br>Title=%{x}<extra></extra>",
         "legendgroup": "46",
         "line": {
          "color": "#ab63fa",
          "dash": "solid"
         },
         "mode": "lines",
         "name": "46",
         "showlegend": true,
         "type": "scatter",
         "x": [
          "  Amazon Echo Dot 3rd Generation w/ Alexa Voice Media Device - Charcoal*BRAND NEW*",
          "  Amazon Echo Dot 3rd Generation w/ Alexa Voice Media Device - Charcoal*BRAND NEW*"
         ],
         "xaxis": "x",
         "y": [
          46,
          46
         ],
         "yaxis": "y"
        },
        {
         "hovertemplate": "Price=%{y}<br>Title=%{x}<extra></extra>",
         "legendgroup": "27",
         "line": {
          "color": "#FFA15A",
          "dash": "solid"
         },
         "mode": "lines",
         "name": "27",
         "showlegend": true,
         "type": "scatter",
         "x": [
          "  Amazon Echo Dot 2nd Generation w/ Alexa Voice Media Device New Factory Sealed",
          "  Good Condition Amazon Echo Dot 3rd Gen Smart speaker with Alexa - Black ",
          "  Amazon Echo Dot (3rd Generation) Smart Speaker - Sandstone  Sealed",
          "  Amazon Echo Dot 3rd Gen w/ Alexa - Gray/White *BRAND NEW*",
          "   Amazon Echo Dot (3rd Generation) Smart Speaker - Sandstone",
          "  Amazon Echo Dot 2nd Generation w/ Alexa Voice Media Device New Factory Sealed",
          "  Good Condition Amazon Echo Dot 3rd Gen Smart speaker with Alexa - Black ",
          "  Amazon Echo Dot (3rd Generation) Smart Speaker - Sandstone  Sealed"
         ],
         "xaxis": "x",
         "y": [
          27,
          27,
          27,
          27,
          27,
          27,
          27,
          27
         ],
         "yaxis": "y"
        },
        {
         "hovertemplate": "Price=%{y}<br>Title=%{x}<extra></extra>",
         "legendgroup": "33",
         "line": {
          "color": "#19d3f3",
          "dash": "solid"
         },
         "mode": "lines",
         "name": "33",
         "showlegend": true,
         "type": "scatter",
         "x": [
          "  Amazon Echo Dot 3rd Generation w/ Alexa Voice Media Device - Sandston BRAND NEW!",
          "  Amazon Echo Dot 3rd Generation w/ Alexa Voice Media Device - Sandston BRAND NEW!"
         ],
         "xaxis": "x",
         "y": [
          33,
          33
         ],
         "yaxis": "y"
        },
        {
         "hovertemplate": "Price=%{y}<br>Title=%{x}<extra></extra>",
         "legendgroup": "7",
         "line": {
          "color": "#FF6692",
          "dash": "solid"
         },
         "mode": "lines",
         "name": "7",
         "showlegend": true,
         "type": "scatter",
         "x": [
          "  Amazon Echo Dot (2nd Generation) Smart Speaker - Black",
          "  Amazon Echo Dot (2nd Generation) Smart Speaker - Black"
         ],
         "xaxis": "x",
         "y": [
          7,
          7
         ],
         "yaxis": "y"
        },
        {
         "hovertemplate": "Price=%{y}<br>Title=%{x}<extra></extra>",
         "legendgroup": "17",
         "line": {
          "color": "#B6E880",
          "dash": "solid"
         },
         "mode": "lines",
         "name": "17",
         "showlegend": true,
         "type": "scatter",
         "x": [
          "  Amazon Echo Dot - 2nd Gen - Home Music Smart Assistant Speaker w/ Alexa - Black",
          "  Amazon Echo Dot - 2nd Gen - Home Music Smart Assistant Speaker w/ Alexa - Black",
          "  Amazon Echo Dot - 2nd Gen - Home Music Smart Assistant Speaker w/ Alexa - Black"
         ],
         "xaxis": "x",
         "y": [
          17,
          17,
          17
         ],
         "yaxis": "y"
        },
        {
         "hovertemplate": "Price=%{y}<br>Title=%{x}<extra></extra>",
         "legendgroup": "23",
         "line": {
          "color": "#FF97FF",
          "dash": "solid"
         },
         "mode": "lines",
         "name": "23",
         "showlegend": true,
         "type": "scatter",
         "x": [
          "   Amazon Echo Dot (3rd Generation) Smart Speaker - Heather Gray",
          "   Amazon Echo Dot (3rd Generation) Smart Speaker - Heather Gray"
         ],
         "xaxis": "x",
         "y": [
          23,
          23
         ],
         "yaxis": "y"
        },
        {
         "hovertemplate": "Price=%{y}<br>Title=%{x}<extra></extra>",
         "legendgroup": "35",
         "line": {
          "color": "#FECB52",
          "dash": "solid"
         },
         "mode": "lines",
         "name": "35",
         "showlegend": true,
         "type": "scatter",
         "x": [
          "  Amazon Echo Dot  3RD Gen  Sandstone Charcoal Gray Plum NEW SEALED",
          "  Amazon Echo Dot 3rd Generation Smart Speaker ",
          "  Amazon Echo Dot 3rd Generation w/ Alexa Voice Media Device - Charcoal BRAND NEW!",
          "  Amazon Echo Dot  3RD Gen  Sandstone Charcoal Gray Plum NEW SEALED",
          "  Amazon Echo Dot 3rd Generation Smart Speaker ",
          "  Amazon Echo Dot 3rd Generation w/ Alexa Voice Media Device - Charcoal BRAND NEW!"
         ],
         "xaxis": "x",
         "y": [
          35,
          35,
          35,
          35,
          35,
          35
         ],
         "yaxis": "y"
        },
        {
         "hovertemplate": "Price=%{y}<br>Title=%{x}<extra></extra>",
         "legendgroup": "18",
         "line": {
          "color": "#636efa",
          "dash": "solid"
         },
         "mode": "lines",
         "name": "18",
         "showlegend": true,
         "type": "scatter",
         "x": [
          "  Amazon - Echo Dot (2nd generation) - Smart Speaker with Alexa - Black",
          "  Amazon Echo Dot (2nd Generation) Smart Speaker - Black",
          "  Amazon Echo Dot - 2nd Generation - Smart Speaker - Alexa Enabled - Black",
          "  Amazon - Echo Dot (2nd generation) - Smart Speaker with Alexa - Black",
          "  Amazon Echo Dot (2nd Generation) Smart Speaker - Black"
         ],
         "xaxis": "x",
         "y": [
          18,
          18,
          18,
          18,
          18
         ],
         "yaxis": "y"
        },
        {
         "hovertemplate": "Price=%{y}<br>Title=%{x}<extra></extra>",
         "legendgroup": "15",
         "line": {
          "color": "#EF553B",
          "dash": "solid"
         },
         "mode": "lines",
         "name": "15",
         "showlegend": true,
         "type": "scatter",
         "x": [
          "  Amazon Echo Dot (2nd Generation) Smart Assistant - White",
          "  Amazon Echo Dot (2nd Generation) Smart Assistant - White"
         ],
         "xaxis": "x",
         "y": [
          15,
          15
         ],
         "yaxis": "y"
        },
        {
         "hovertemplate": "Price=%{y}<br>Title=%{x}<extra></extra>",
         "legendgroup": "26",
         "line": {
          "color": "#00cc96",
          "dash": "solid"
         },
         "mode": "lines",
         "name": "26",
         "showlegend": true,
         "type": "scatter",
         "x": [
          "  Amazon Echo Dot 3rd Generation w/ Alexa Voice Media Device Sandstone BRAND NEW!",
          "  Amazon Echo Dot 3rd Generation with Alexa Voice Media Device - Charcoal",
          "  Amazon Echo Dot 3rd Generation with Alexa Voice Media Device - Charcoal",
          "  Amazon Echo Dot 3rd Generation w/ Alexa Voice Media Device Sandstone BRAND NEW!"
         ],
         "xaxis": "x",
         "y": [
          26,
          26,
          26,
          26
         ],
         "yaxis": "y"
        },
        {
         "hovertemplate": "Price=%{y}<br>Title=%{x}<extra></extra>",
         "legendgroup": "28",
         "line": {
          "color": "#ab63fa",
          "dash": "solid"
         },
         "mode": "lines",
         "name": "28",
         "showlegend": true,
         "type": "scatter",
         "x": [
          "  Amazon Echo Dot 3rd Generation  - Heather Gray",
          "  Amazon Echo Dot (3rd Generation) Smart Speaker with Alexa - Heather Gray",
          "  Amazon Echo Dot 3rd Generation  - Heather Gray",
          "  Amazon Echo Dot (3rd Generation) Smart Speaker with Alexa - Heather Gray"
         ],
         "xaxis": "x",
         "y": [
          28,
          28,
          28,
          28
         ],
         "yaxis": "y"
        },
        {
         "hovertemplate": "Price=%{y}<br>Title=%{x}<extra></extra>",
         "legendgroup": "25",
         "line": {
          "color": "#FFA15A",
          "dash": "solid"
         },
         "mode": "lines",
         "name": "25",
         "showlegend": true,
         "type": "scatter",
         "x": [
          "  Amazon - Echo Dot (3rd Gen) - Smart Speaker with Alexa - Sandstone White",
          "  Amazon Echo Dot (2nd Generation) Smart Assistant - White  Ships Fast",
          "   Amazon Echo Dot Latest 2018 (3rd Generation) Smart speaker Alexa ",
          "  Amazon - Echo Dot (3rd Gen) - Smart Speaker with Alexa - Sandstone White",
          "  Amazon Echo Dot (2nd Generation) Smart Assistant - White  Ships Fast",
          "   Amazon Echo Dot Latest 2018 (3rd Generation) Smart speaker Alexa "
         ],
         "xaxis": "x",
         "y": [
          25,
          25,
          25,
          25,
          25,
          25
         ],
         "yaxis": "y"
        },
        {
         "hovertemplate": "Price=%{y}<br>Title=%{x}<extra></extra>",
         "legendgroup": "32",
         "line": {
          "color": "#19d3f3",
          "dash": "solid"
         },
         "mode": "lines",
         "name": "32",
         "showlegend": true,
         "type": "scatter",
         "x": [
          "  Amazon Echo Dot (3rd Gen) -Smart Speaker with Alexa- Heather Gray FREE SHIPPING",
          "  Amazon Echo Dot (3rd Gen) -Smart Speaker with Alexa- Heather Gray FREE SHIPPING"
         ],
         "xaxis": "x",
         "y": [
          32,
          32
         ],
         "yaxis": "y"
        },
        {
         "hovertemplate": "Price=%{y}<br>Title=%{x}<extra></extra>",
         "legendgroup": "11",
         "line": {
          "color": "#FF6692",
          "dash": "solid"
         },
         "mode": "lines",
         "name": "11",
         "showlegend": true,
         "type": "scatter",
         "x": [
          "  amazon echo dot kids edition",
          "  amazon echo dot kids edition"
         ],
         "xaxis": "x",
         "y": [
          11,
          11
         ],
         "yaxis": "y"
        },
        {
         "hovertemplate": "Price=%{y}<br>Title=%{x}<extra></extra>",
         "legendgroup": "40",
         "line": {
          "color": "#B6E880",
          "dash": "solid"
         },
         "mode": "lines",
         "name": "40",
         "showlegend": true,
         "type": "scatter",
         "x": [
          "  Amazon Echo Dot 3rd Gen - Smart speaker with Alexa - Heather Grey BRAND NEW",
          "  BRAND NEW Amazon Echo Dot 3rd Gen Smart speaker with Alexa - Sandstone FREE SHIP",
          "  Amazon Echo Dot 3rd Generation w/ Alexa Voice Media Device - Charcoal BRAND NEW!",
          "  Amazon Echo Dot 3rd Gen - Smart speaker with Alexa - Heather Grey BRAND NEW"
         ],
         "xaxis": "x",
         "y": [
          40,
          40,
          40,
          40
         ],
         "yaxis": "y"
        },
        {
         "hovertemplate": "Price=%{y}<br>Title=%{x}<extra></extra>",
         "legendgroup": "43",
         "line": {
          "color": "#FF97FF",
          "dash": "solid"
         },
         "mode": "lines",
         "name": "43",
         "showlegend": true,
         "type": "scatter",
         "x": [
          "  Amazon Echo Dot (3rd Generation) Smart Speaker with Clock - Sandstone",
          "  Amazon Echo Dot (3rd Generation) Smart Speaker with Clock - Sandstone"
         ],
         "xaxis": "x",
         "y": [
          43,
          43
         ],
         "yaxis": "y"
        },
        {
         "hovertemplate": "Price=%{y}<br>Title=%{x}<extra></extra>",
         "legendgroup": "49",
         "line": {
          "color": "#FECB52",
          "dash": "solid"
         },
         "mode": "lines",
         "name": "49",
         "showlegend": true,
         "type": "scatter",
         "x": [
          "  Amazon Echo Dot (3rd Generation) Smart Speaker with Clock NEW",
          "  Amazon Echo Dot 3rd Generation Smart Speaker with Clock and Alexa - Sandstone ",
          "  Amazon Echo Dot (3rd Generation) Smart Speaker with Clock NEW"
         ],
         "xaxis": "x",
         "y": [
          49,
          49,
          49
         ],
         "yaxis": "y"
        },
        {
         "hovertemplate": "Price=%{y}<br>Title=%{x}<extra></extra>",
         "legendgroup": "22",
         "line": {
          "color": "#636efa",
          "dash": "solid"
         },
         "mode": "lines",
         "name": "22",
         "showlegend": true,
         "type": "scatter",
         "x": [
          "  Amazon Echo Dot (2nd Gen) Smart Speaker with Alexa, Black, White, New",
          "  Amazon Echo Dot (2nd Gen) Smart Speaker with Alexa, Black, White, New"
         ],
         "xaxis": "x",
         "y": [
          22,
          22
         ],
         "yaxis": "y"
        },
        {
         "hovertemplate": "Price=%{y}<br>Title=%{x}<extra></extra>",
         "legendgroup": "10",
         "line": {
          "color": "#EF553B",
          "dash": "solid"
         },
         "mode": "lines",
         "name": "10",
         "showlegend": true,
         "type": "scatter",
         "x": [
          "   Empty Boxes Only - Amazon Echo Dot 3rd Generation and Echo Auto - Gray/Black",
          "  Amazon Echo Dot (3rd Generation) Smart Speaker with Alexa Voice",
          "   Empty Boxes Only - Amazon Echo Dot 3rd Generation and Echo Auto - Gray/Black"
         ],
         "xaxis": "x",
         "y": [
          10,
          10,
          10
         ],
         "yaxis": "y"
        },
        {
         "hovertemplate": "Price=%{y}<br>Title=%{x}<extra></extra>",
         "legendgroup": "14",
         "line": {
          "color": "#00cc96",
          "dash": "solid"
         },
         "mode": "lines",
         "name": "14",
         "showlegend": true,
         "type": "scatter",
         "x": [
          "  Amazon Echo Dot (2nd Generation) Smart Speaker - Black",
          "  Amazon B07FZ8S74R Echo Dot 3rd Generation Smart Speaker with Alexa - Charcoal",
          "  Amazon Echo Dot (2nd Generation) Smart Speaker - Black",
          "  Amazon Echo Dot (2nd Generation) Smart Speaker - Black"
         ],
         "xaxis": "x",
         "y": [
          14,
          14,
          14,
          14
         ],
         "yaxis": "y"
        },
        {
         "hovertemplate": "Price=%{y}<br>Title=%{x}<extra></extra>",
         "legendgroup": "37",
         "line": {
          "color": "#ab63fa",
          "dash": "solid"
         },
         "mode": "lines",
         "name": "37",
         "showlegend": true,
         "type": "scatter",
         "x": [
          "  SHIPS TODAY! Amazon Echo Dot 3rd Generation Alexa Voice Smart Speaker",
          "  SHIPS TODAY! Amazon Echo Dot 3rd Generation Alexa Voice Smart Speaker"
         ],
         "xaxis": "x",
         "y": [
          37,
          37
         ],
         "yaxis": "y"
        },
        {
         "hovertemplate": "Price=%{y}<br>Title=%{x}<extra></extra>",
         "legendgroup": "31",
         "line": {
          "color": "#FFA15A",
          "dash": "solid"
         },
         "mode": "lines",
         "name": "31",
         "showlegend": true,
         "type": "scatter",
         "x": [
          "  AMAZON ECHO DOT (3nd GENERATION) SMART SPEAKER w/Alexa (CHARCOAL) *NEW in BOX!",
          "  AMAZON ECHO DOT (3nd GENERATION) SMART SPEAKER w/Alexa (CHARCOAL) *NEW in BOX!"
         ],
         "xaxis": "x",
         "y": [
          31,
          31
         ],
         "yaxis": "y"
        },
        {
         "hovertemplate": "Price=%{y}<br>Title=%{x}<extra></extra>",
         "legendgroup": "24",
         "line": {
          "color": "#19d3f3",
          "dash": "solid"
         },
         "mode": "lines",
         "name": "24",
         "showlegend": true,
         "type": "scatter",
         "x": [
          "  BRAND NEW Amazon Echo Dot 3rd Generation w/ Alexa Voice Media Device - Sandstone",
          "  Amazon Echo Dot 3rd Generation  - Heather Gray"
         ],
         "xaxis": "x",
         "y": [
          24,
          24
         ],
         "yaxis": "y"
        },
        {
         "hovertemplate": "Price=%{y}<br>Title=%{x}<extra></extra>",
         "legendgroup": "36",
         "line": {
          "color": "#FF6692",
          "dash": "solid"
         },
         "mode": "lines",
         "name": "36",
         "showlegend": true,
         "type": "scatter",
         "x": [
          "  NEW Amazon Echo Dot 3rd Generation Smart Speaker with Alexa Assistant- Charcoal",
          "  NEW Amazon Echo Dot 3rd Generation Smart Speaker with Alexa Assistant- Charcoal"
         ],
         "xaxis": "x",
         "y": [
          36,
          36
         ],
         "yaxis": "y"
        },
        {
         "hovertemplate": "Price=%{y}<br>Title=%{x}<extra></extra>",
         "legendgroup": "38",
         "line": {
          "color": "#B6E880",
          "dash": "solid"
         },
         "mode": "lines",
         "name": "38",
         "showlegend": true,
         "type": "scatter",
         "x": [
          "  Amazon Echo Dot 3rd Generation w/ Alexa Voice Media Device - BRAND NEW"
         ],
         "xaxis": "x",
         "y": [
          38
         ],
         "yaxis": "y"
        },
        {
         "hovertemplate": "Price=%{y}<br>Title=%{x}<extra></extra>",
         "legendgroup": "12",
         "line": {
          "color": "#FF97FF",
          "dash": "solid"
         },
         "mode": "lines",
         "name": "12",
         "showlegend": true,
         "type": "scatter",
         "x": [
          "  Amazon Echo Dot 3rd Generation w/ Alexa Voice Media Device  brand new@"
         ],
         "xaxis": "x",
         "y": [
          12
         ],
         "yaxis": "y"
        },
        {
         "hovertemplate": "Price=%{y}<br>Title=%{x}<extra></extra>",
         "legendgroup": "6",
         "line": {
          "color": "#FECB52",
          "dash": "solid"
         },
         "mode": "lines",
         "name": "6",
         "showlegend": true,
         "type": "scatter",
         "x": [
          "  Amazon echo dot 3rd generation NEW"
         ],
         "xaxis": "x",
         "y": [
          6
         ],
         "yaxis": "y"
        }
       ],
       "layout": {
        "legend": {
         "title": {
          "text": "Price"
         },
         "tracegroupgap": 0
        },
        "template": {
         "data": {
          "bar": [
           {
            "error_x": {
             "color": "#2a3f5f"
            },
            "error_y": {
             "color": "#2a3f5f"
            },
            "marker": {
             "line": {
              "color": "#E5ECF6",
              "width": 0.5
             }
            },
            "type": "bar"
           }
          ],
          "barpolar": [
           {
            "marker": {
             "line": {
              "color": "#E5ECF6",
              "width": 0.5
             }
            },
            "type": "barpolar"
           }
          ],
          "carpet": [
           {
            "aaxis": {
             "endlinecolor": "#2a3f5f",
             "gridcolor": "white",
             "linecolor": "white",
             "minorgridcolor": "white",
             "startlinecolor": "#2a3f5f"
            },
            "baxis": {
             "endlinecolor": "#2a3f5f",
             "gridcolor": "white",
             "linecolor": "white",
             "minorgridcolor": "white",
             "startlinecolor": "#2a3f5f"
            },
            "type": "carpet"
           }
          ],
          "choropleth": [
           {
            "colorbar": {
             "outlinewidth": 0,
             "ticks": ""
            },
            "type": "choropleth"
           }
          ],
          "contour": [
           {
            "colorbar": {
             "outlinewidth": 0,
             "ticks": ""
            },
            "colorscale": [
             [
              0,
              "#0d0887"
             ],
             [
              0.1111111111111111,
              "#46039f"
             ],
             [
              0.2222222222222222,
              "#7201a8"
             ],
             [
              0.3333333333333333,
              "#9c179e"
             ],
             [
              0.4444444444444444,
              "#bd3786"
             ],
             [
              0.5555555555555556,
              "#d8576b"
             ],
             [
              0.6666666666666666,
              "#ed7953"
             ],
             [
              0.7777777777777778,
              "#fb9f3a"
             ],
             [
              0.8888888888888888,
              "#fdca26"
             ],
             [
              1,
              "#f0f921"
             ]
            ],
            "type": "contour"
           }
          ],
          "contourcarpet": [
           {
            "colorbar": {
             "outlinewidth": 0,
             "ticks": ""
            },
            "type": "contourcarpet"
           }
          ],
          "heatmap": [
           {
            "colorbar": {
             "outlinewidth": 0,
             "ticks": ""
            },
            "colorscale": [
             [
              0,
              "#0d0887"
             ],
             [
              0.1111111111111111,
              "#46039f"
             ],
             [
              0.2222222222222222,
              "#7201a8"
             ],
             [
              0.3333333333333333,
              "#9c179e"
             ],
             [
              0.4444444444444444,
              "#bd3786"
             ],
             [
              0.5555555555555556,
              "#d8576b"
             ],
             [
              0.6666666666666666,
              "#ed7953"
             ],
             [
              0.7777777777777778,
              "#fb9f3a"
             ],
             [
              0.8888888888888888,
              "#fdca26"
             ],
             [
              1,
              "#f0f921"
             ]
            ],
            "type": "heatmap"
           }
          ],
          "heatmapgl": [
           {
            "colorbar": {
             "outlinewidth": 0,
             "ticks": ""
            },
            "colorscale": [
             [
              0,
              "#0d0887"
             ],
             [
              0.1111111111111111,
              "#46039f"
             ],
             [
              0.2222222222222222,
              "#7201a8"
             ],
             [
              0.3333333333333333,
              "#9c179e"
             ],
             [
              0.4444444444444444,
              "#bd3786"
             ],
             [
              0.5555555555555556,
              "#d8576b"
             ],
             [
              0.6666666666666666,
              "#ed7953"
             ],
             [
              0.7777777777777778,
              "#fb9f3a"
             ],
             [
              0.8888888888888888,
              "#fdca26"
             ],
             [
              1,
              "#f0f921"
             ]
            ],
            "type": "heatmapgl"
           }
          ],
          "histogram": [
           {
            "marker": {
             "colorbar": {
              "outlinewidth": 0,
              "ticks": ""
             }
            },
            "type": "histogram"
           }
          ],
          "histogram2d": [
           {
            "colorbar": {
             "outlinewidth": 0,
             "ticks": ""
            },
            "colorscale": [
             [
              0,
              "#0d0887"
             ],
             [
              0.1111111111111111,
              "#46039f"
             ],
             [
              0.2222222222222222,
              "#7201a8"
             ],
             [
              0.3333333333333333,
              "#9c179e"
             ],
             [
              0.4444444444444444,
              "#bd3786"
             ],
             [
              0.5555555555555556,
              "#d8576b"
             ],
             [
              0.6666666666666666,
              "#ed7953"
             ],
             [
              0.7777777777777778,
              "#fb9f3a"
             ],
             [
              0.8888888888888888,
              "#fdca26"
             ],
             [
              1,
              "#f0f921"
             ]
            ],
            "type": "histogram2d"
           }
          ],
          "histogram2dcontour": [
           {
            "colorbar": {
             "outlinewidth": 0,
             "ticks": ""
            },
            "colorscale": [
             [
              0,
              "#0d0887"
             ],
             [
              0.1111111111111111,
              "#46039f"
             ],
             [
              0.2222222222222222,
              "#7201a8"
             ],
             [
              0.3333333333333333,
              "#9c179e"
             ],
             [
              0.4444444444444444,
              "#bd3786"
             ],
             [
              0.5555555555555556,
              "#d8576b"
             ],
             [
              0.6666666666666666,
              "#ed7953"
             ],
             [
              0.7777777777777778,
              "#fb9f3a"
             ],
             [
              0.8888888888888888,
              "#fdca26"
             ],
             [
              1,
              "#f0f921"
             ]
            ],
            "type": "histogram2dcontour"
           }
          ],
          "mesh3d": [
           {
            "colorbar": {
             "outlinewidth": 0,
             "ticks": ""
            },
            "type": "mesh3d"
           }
          ],
          "parcoords": [
           {
            "line": {
             "colorbar": {
              "outlinewidth": 0,
              "ticks": ""
             }
            },
            "type": "parcoords"
           }
          ],
          "pie": [
           {
            "automargin": true,
            "type": "pie"
           }
          ],
          "scatter": [
           {
            "marker": {
             "colorbar": {
              "outlinewidth": 0,
              "ticks": ""
             }
            },
            "type": "scatter"
           }
          ],
          "scatter3d": [
           {
            "line": {
             "colorbar": {
              "outlinewidth": 0,
              "ticks": ""
             }
            },
            "marker": {
             "colorbar": {
              "outlinewidth": 0,
              "ticks": ""
             }
            },
            "type": "scatter3d"
           }
          ],
          "scattercarpet": [
           {
            "marker": {
             "colorbar": {
              "outlinewidth": 0,
              "ticks": ""
             }
            },
            "type": "scattercarpet"
           }
          ],
          "scattergeo": [
           {
            "marker": {
             "colorbar": {
              "outlinewidth": 0,
              "ticks": ""
             }
            },
            "type": "scattergeo"
           }
          ],
          "scattergl": [
           {
            "marker": {
             "colorbar": {
              "outlinewidth": 0,
              "ticks": ""
             }
            },
            "type": "scattergl"
           }
          ],
          "scattermapbox": [
           {
            "marker": {
             "colorbar": {
              "outlinewidth": 0,
              "ticks": ""
             }
            },
            "type": "scattermapbox"
           }
          ],
          "scatterpolar": [
           {
            "marker": {
             "colorbar": {
              "outlinewidth": 0,
              "ticks": ""
             }
            },
            "type": "scatterpolar"
           }
          ],
          "scatterpolargl": [
           {
            "marker": {
             "colorbar": {
              "outlinewidth": 0,
              "ticks": ""
             }
            },
            "type": "scatterpolargl"
           }
          ],
          "scatterternary": [
           {
            "marker": {
             "colorbar": {
              "outlinewidth": 0,
              "ticks": ""
             }
            },
            "type": "scatterternary"
           }
          ],
          "surface": [
           {
            "colorbar": {
             "outlinewidth": 0,
             "ticks": ""
            },
            "colorscale": [
             [
              0,
              "#0d0887"
             ],
             [
              0.1111111111111111,
              "#46039f"
             ],
             [
              0.2222222222222222,
              "#7201a8"
             ],
             [
              0.3333333333333333,
              "#9c179e"
             ],
             [
              0.4444444444444444,
              "#bd3786"
             ],
             [
              0.5555555555555556,
              "#d8576b"
             ],
             [
              0.6666666666666666,
              "#ed7953"
             ],
             [
              0.7777777777777778,
              "#fb9f3a"
             ],
             [
              0.8888888888888888,
              "#fdca26"
             ],
             [
              1,
              "#f0f921"
             ]
            ],
            "type": "surface"
           }
          ],
          "table": [
           {
            "cells": {
             "fill": {
              "color": "#EBF0F8"
             },
             "line": {
              "color": "white"
             }
            },
            "header": {
             "fill": {
              "color": "#C8D4E3"
             },
             "line": {
              "color": "white"
             }
            },
            "type": "table"
           }
          ]
         },
         "layout": {
          "annotationdefaults": {
           "arrowcolor": "#2a3f5f",
           "arrowhead": 0,
           "arrowwidth": 1
          },
          "coloraxis": {
           "colorbar": {
            "outlinewidth": 0,
            "ticks": ""
           }
          },
          "colorscale": {
           "diverging": [
            [
             0,
             "#8e0152"
            ],
            [
             0.1,
             "#c51b7d"
            ],
            [
             0.2,
             "#de77ae"
            ],
            [
             0.3,
             "#f1b6da"
            ],
            [
             0.4,
             "#fde0ef"
            ],
            [
             0.5,
             "#f7f7f7"
            ],
            [
             0.6,
             "#e6f5d0"
            ],
            [
             0.7,
             "#b8e186"
            ],
            [
             0.8,
             "#7fbc41"
            ],
            [
             0.9,
             "#4d9221"
            ],
            [
             1,
             "#276419"
            ]
           ],
           "sequential": [
            [
             0,
             "#0d0887"
            ],
            [
             0.1111111111111111,
             "#46039f"
            ],
            [
             0.2222222222222222,
             "#7201a8"
            ],
            [
             0.3333333333333333,
             "#9c179e"
            ],
            [
             0.4444444444444444,
             "#bd3786"
            ],
            [
             0.5555555555555556,
             "#d8576b"
            ],
            [
             0.6666666666666666,
             "#ed7953"
            ],
            [
             0.7777777777777778,
             "#fb9f3a"
            ],
            [
             0.8888888888888888,
             "#fdca26"
            ],
            [
             1,
             "#f0f921"
            ]
           ],
           "sequentialminus": [
            [
             0,
             "#0d0887"
            ],
            [
             0.1111111111111111,
             "#46039f"
            ],
            [
             0.2222222222222222,
             "#7201a8"
            ],
            [
             0.3333333333333333,
             "#9c179e"
            ],
            [
             0.4444444444444444,
             "#bd3786"
            ],
            [
             0.5555555555555556,
             "#d8576b"
            ],
            [
             0.6666666666666666,
             "#ed7953"
            ],
            [
             0.7777777777777778,
             "#fb9f3a"
            ],
            [
             0.8888888888888888,
             "#fdca26"
            ],
            [
             1,
             "#f0f921"
            ]
           ]
          },
          "colorway": [
           "#636efa",
           "#EF553B",
           "#00cc96",
           "#ab63fa",
           "#FFA15A",
           "#19d3f3",
           "#FF6692",
           "#B6E880",
           "#FF97FF",
           "#FECB52"
          ],
          "font": {
           "color": "#2a3f5f"
          },
          "geo": {
           "bgcolor": "white",
           "lakecolor": "white",
           "landcolor": "#E5ECF6",
           "showlakes": true,
           "showland": true,
           "subunitcolor": "white"
          },
          "hoverlabel": {
           "align": "left"
          },
          "hovermode": "closest",
          "mapbox": {
           "style": "light"
          },
          "paper_bgcolor": "white",
          "plot_bgcolor": "#E5ECF6",
          "polar": {
           "angularaxis": {
            "gridcolor": "white",
            "linecolor": "white",
            "ticks": ""
           },
           "bgcolor": "#E5ECF6",
           "radialaxis": {
            "gridcolor": "white",
            "linecolor": "white",
            "ticks": ""
           }
          },
          "scene": {
           "xaxis": {
            "backgroundcolor": "#E5ECF6",
            "gridcolor": "white",
            "gridwidth": 2,
            "linecolor": "white",
            "showbackground": true,
            "ticks": "",
            "zerolinecolor": "white"
           },
           "yaxis": {
            "backgroundcolor": "#E5ECF6",
            "gridcolor": "white",
            "gridwidth": 2,
            "linecolor": "white",
            "showbackground": true,
            "ticks": "",
            "zerolinecolor": "white"
           },
           "zaxis": {
            "backgroundcolor": "#E5ECF6",
            "gridcolor": "white",
            "gridwidth": 2,
            "linecolor": "white",
            "showbackground": true,
            "ticks": "",
            "zerolinecolor": "white"
           }
          },
          "shapedefaults": {
           "line": {
            "color": "#2a3f5f"
           }
          },
          "ternary": {
           "aaxis": {
            "gridcolor": "white",
            "linecolor": "white",
            "ticks": ""
           },
           "baxis": {
            "gridcolor": "white",
            "linecolor": "white",
            "ticks": ""
           },
           "bgcolor": "#E5ECF6",
           "caxis": {
            "gridcolor": "white",
            "linecolor": "white",
            "ticks": ""
           }
          },
          "title": {
           "x": 0.05
          },
          "xaxis": {
           "automargin": true,
           "gridcolor": "white",
           "linecolor": "white",
           "ticks": "",
           "title": {
            "standoff": 15
           },
           "zerolinecolor": "white",
           "zerolinewidth": 2
          },
          "yaxis": {
           "automargin": true,
           "gridcolor": "white",
           "linecolor": "white",
           "ticks": "",
           "title": {
            "standoff": 15
           },
           "zerolinecolor": "white",
           "zerolinewidth": 2
          }
         }
        },
        "title": {
         "text": "Amazon Echo Prices"
        },
        "xaxis": {
         "anchor": "y",
         "domain": [
          0,
          1
         ],
         "title": {
          "text": "Title"
         }
        },
        "yaxis": {
         "anchor": "x",
         "categoryarray": [
          6,
          12,
          38,
          36,
          24,
          31,
          37,
          14,
          10,
          22,
          49,
          43,
          40,
          11,
          32,
          25,
          28,
          26,
          15,
          18,
          35,
          23,
          17,
          7,
          33,
          27,
          46,
          34,
          20,
          30
         ],
         "categoryorder": "array",
         "domain": [
          0,
          1
         ],
         "title": {
          "text": "Price"
         }
        }
       }
      },
      "text/html": [
       "<div>\n",
       "        \n",
       "        \n",
       "            <div id=\"edb4ec0b-ece3-4a3b-b3eb-b256d8793e67\" class=\"plotly-graph-div\" style=\"height:525px; width:100%;\"></div>\n",
       "            <script type=\"text/javascript\">\n",
       "                require([\"plotly\"], function(Plotly) {\n",
       "                    window.PLOTLYENV=window.PLOTLYENV || {};\n",
       "                    \n",
       "                if (document.getElementById(\"edb4ec0b-ece3-4a3b-b3eb-b256d8793e67\")) {\n",
       "                    Plotly.newPlot(\n",
       "                        'edb4ec0b-ece3-4a3b-b3eb-b256d8793e67',\n",
       "                        [{\"hovertemplate\": \"Price=%{y}<br>Title=%{x}<extra></extra>\", \"legendgroup\": \"30\", \"line\": {\"color\": \"#636efa\", \"dash\": \"solid\"}, \"mode\": \"lines\", \"name\": \"30\", \"showlegend\": true, \"type\": \"scatter\", \"x\": [\"  Amazon Echo Dot 3rd Generation w/ Alexa Voice Media Device - BRAND NEW\", \"  Amazon Echo Dot 3rd Generation Smart Speaker Sandstone White  Sealed\", \"  Amazon Echo Dot 3rd Generation w/ Alexa Voice Media Device - Charcoal (in \\ud83e\\udd1a\\ud83c\\udffb)\", \"  New Amazon Echo Dot 3rd Generation w/ Alexa Voice - Heather Gray - Free Ship\", \"  Amazon Echo Dot Smart Speaker - Sandstone\", \"  Amazon Echo Dot 3rd Gen - Heather Gray NEW In Box\", \"  New Amazon Echo Dot 3rd Generation with Alexa, Ship ASAP, Grey\", \"  BRAND NEW Amazon Echo Dot 3rd Generation w/ Alexa Voice Media Device - Sandstone\", \"  Amazon Echo Dot (3rd Generation) Smart Speaker with Alexa Voice Heather\", \"  Amazon Echo Dot Plum 3rd Generation Smart Speaker Sealed \", \"  Amazon Echo Dot 3rd Generation Smart Speaker Heather Gray New | FREE SHIPPING\", \"  Amazon Echo Dot 3rd Generation w/ Alexa Voice Media Device - BRAND NEW\", \"  Amazon Echo Dot 3rd Generation Smart Speaker Sandstone White  Sealed\", \"  Amazon Echo Dot 3rd Generation w/ Alexa Voice Media Device - Charcoal (in \\ud83e\\udd1a\\ud83c\\udffb)\", \"  New Amazon Echo Dot 3rd Generation w/ Alexa Voice - Heather Gray - Free Ship\", \"  Amazon Echo Dot Smart Speaker - Sandstone\", \"  New Amazon Echo Dot 3rd Generation with Alexa, Ship ASAP, Grey\", \"  Amazon Echo Dot 3rd Gen - Heather Gray NEW In Box\", \"  BRAND NEW Amazon Echo Dot 3rd Generation w/ Alexa Voice Media Device - Sandstone\", \"  Amazon Echo Dot (3rd Generation) Smart Speaker with Alexa Voice Heather\", \"  Amazon Echo Dot Plum 3rd Generation Smart Speaker Sealed \"], \"xaxis\": \"x\", \"y\": [30, 30, 30, 30, 30, 30, 30, 30, 30, 30, 30, 30, 30, 30, 30, 30, 30, 30, 30, 30, 30], \"yaxis\": \"y\"}, {\"hovertemplate\": \"Price=%{y}<br>Title=%{x}<extra></extra>\", \"legendgroup\": \"20\", \"line\": {\"color\": \"#EF553B\", \"dash\": \"solid\"}, \"mode\": \"lines\", \"name\": \"20\", \"showlegend\": true, \"type\": \"scatter\", \"x\": [\"  Amazon Echo Dot 2nd Gen Home Music Smart Assistant Speaker w/ Alexa - White\", \"  Amazon Echo Dot 2nd Generation w/ Alexa Voice Media Device: black or white\", \"  Amazon Echo Dot 2nd Generation\", \"  Amazon Echo Dot (2nd Generation) Smart Assistant - White\", \"  Amazon Echo Dot 2nd Gen Home Music Smart Assistant Speaker w/ Alexa - White\", \"  Amazon Echo Dot 2nd Generation w/ Alexa Voice Media Device: black or white\", \"  Amazon Echo Dot 2nd Generation\", \"  Amazon Echo Dot (2nd Generation) Smart Assistant - White\"], \"xaxis\": \"x\", \"y\": [20, 20, 20, 20, 20, 20, 20, 20], \"yaxis\": \"y\"}, {\"hovertemplate\": \"Price=%{y}<br>Title=%{x}<extra></extra>\", \"legendgroup\": \"34\", \"line\": {\"color\": \"#00cc96\", \"dash\": \"solid\"}, \"mode\": \"lines\", \"name\": \"34\", \"showlegend\": true, \"type\": \"scatter\", \"x\": [\"  Amazon Echo Dot 3rd Generation w/ Alexa Voice Media Device - BRAND NEW\", \"  Amazon Echo Dot (3rd generation) Smart Speaker with Alexa  (Sandstone)\", \"  Amazon Echo Dot (3rd Generation) Smart Speaker with Alexa\", \"  Amazon Echo Dot 3rd Generation w/ Alexa Voice Media Device - BRAND NEW\", \"  Amazon Echo Dot (3rd generation) Smart Speaker with Alexa  (Sandstone)\", \"  Amazon Echo Dot (3rd Generation) Smart Speaker with Alexa\"], \"xaxis\": \"x\", \"y\": [34, 34, 34, 34, 34, 34], \"yaxis\": \"y\"}, {\"hovertemplate\": \"Price=%{y}<br>Title=%{x}<extra></extra>\", \"legendgroup\": \"46\", \"line\": {\"color\": \"#ab63fa\", \"dash\": \"solid\"}, \"mode\": \"lines\", \"name\": \"46\", \"showlegend\": true, \"type\": \"scatter\", \"x\": [\"  Amazon Echo Dot 3rd Generation w/ Alexa Voice Media Device - Charcoal*BRAND NEW*\", \"  Amazon Echo Dot 3rd Generation w/ Alexa Voice Media Device - Charcoal*BRAND NEW*\"], \"xaxis\": \"x\", \"y\": [46, 46], \"yaxis\": \"y\"}, {\"hovertemplate\": \"Price=%{y}<br>Title=%{x}<extra></extra>\", \"legendgroup\": \"27\", \"line\": {\"color\": \"#FFA15A\", \"dash\": \"solid\"}, \"mode\": \"lines\", \"name\": \"27\", \"showlegend\": true, \"type\": \"scatter\", \"x\": [\"  Amazon Echo Dot 2nd Generation w/ Alexa Voice Media Device New Factory Sealed\", \"  Good Condition Amazon Echo Dot 3rd Gen Smart speaker with Alexa - Black \", \"  Amazon Echo Dot (3rd Generation) Smart Speaker - Sandstone  Sealed\", \"  Amazon Echo Dot 3rd Gen w/ Alexa - Gray/White *BRAND NEW*\", \"   Amazon Echo Dot (3rd Generation) Smart Speaker - Sandstone\", \"  Amazon Echo Dot 2nd Generation w/ Alexa Voice Media Device New Factory Sealed\", \"  Good Condition Amazon Echo Dot 3rd Gen Smart speaker with Alexa - Black \", \"  Amazon Echo Dot (3rd Generation) Smart Speaker - Sandstone  Sealed\"], \"xaxis\": \"x\", \"y\": [27, 27, 27, 27, 27, 27, 27, 27], \"yaxis\": \"y\"}, {\"hovertemplate\": \"Price=%{y}<br>Title=%{x}<extra></extra>\", \"legendgroup\": \"33\", \"line\": {\"color\": \"#19d3f3\", \"dash\": \"solid\"}, \"mode\": \"lines\", \"name\": \"33\", \"showlegend\": true, \"type\": \"scatter\", \"x\": [\"  Amazon Echo Dot 3rd Generation w/ Alexa Voice Media Device - Sandston BRAND NEW!\", \"  Amazon Echo Dot 3rd Generation w/ Alexa Voice Media Device - Sandston BRAND NEW!\"], \"xaxis\": \"x\", \"y\": [33, 33], \"yaxis\": \"y\"}, {\"hovertemplate\": \"Price=%{y}<br>Title=%{x}<extra></extra>\", \"legendgroup\": \"7\", \"line\": {\"color\": \"#FF6692\", \"dash\": \"solid\"}, \"mode\": \"lines\", \"name\": \"7\", \"showlegend\": true, \"type\": \"scatter\", \"x\": [\"  Amazon Echo Dot (2nd Generation) Smart Speaker - Black\", \"  Amazon Echo Dot (2nd Generation) Smart Speaker - Black\"], \"xaxis\": \"x\", \"y\": [7, 7], \"yaxis\": \"y\"}, {\"hovertemplate\": \"Price=%{y}<br>Title=%{x}<extra></extra>\", \"legendgroup\": \"17\", \"line\": {\"color\": \"#B6E880\", \"dash\": \"solid\"}, \"mode\": \"lines\", \"name\": \"17\", \"showlegend\": true, \"type\": \"scatter\", \"x\": [\"  Amazon Echo Dot - 2nd Gen - Home Music Smart Assistant Speaker w/ Alexa - Black\", \"  Amazon Echo Dot - 2nd Gen - Home Music Smart Assistant Speaker w/ Alexa - Black\", \"  Amazon Echo Dot - 2nd Gen - Home Music Smart Assistant Speaker w/ Alexa - Black\"], \"xaxis\": \"x\", \"y\": [17, 17, 17], \"yaxis\": \"y\"}, {\"hovertemplate\": \"Price=%{y}<br>Title=%{x}<extra></extra>\", \"legendgroup\": \"23\", \"line\": {\"color\": \"#FF97FF\", \"dash\": \"solid\"}, \"mode\": \"lines\", \"name\": \"23\", \"showlegend\": true, \"type\": \"scatter\", \"x\": [\"   Amazon Echo Dot (3rd Generation) Smart Speaker - Heather Gray\", \"   Amazon Echo Dot (3rd Generation) Smart Speaker - Heather Gray\"], \"xaxis\": \"x\", \"y\": [23, 23], \"yaxis\": \"y\"}, {\"hovertemplate\": \"Price=%{y}<br>Title=%{x}<extra></extra>\", \"legendgroup\": \"35\", \"line\": {\"color\": \"#FECB52\", \"dash\": \"solid\"}, \"mode\": \"lines\", \"name\": \"35\", \"showlegend\": true, \"type\": \"scatter\", \"x\": [\"  Amazon Echo Dot  3RD Gen  Sandstone Charcoal Gray Plum NEW SEALED\", \"  Amazon Echo Dot 3rd Generation Smart Speaker \", \"  Amazon Echo Dot 3rd Generation w/ Alexa Voice Media Device - Charcoal BRAND NEW!\", \"  Amazon Echo Dot  3RD Gen  Sandstone Charcoal Gray Plum NEW SEALED\", \"  Amazon Echo Dot 3rd Generation Smart Speaker \", \"  Amazon Echo Dot 3rd Generation w/ Alexa Voice Media Device - Charcoal BRAND NEW!\"], \"xaxis\": \"x\", \"y\": [35, 35, 35, 35, 35, 35], \"yaxis\": \"y\"}, {\"hovertemplate\": \"Price=%{y}<br>Title=%{x}<extra></extra>\", \"legendgroup\": \"18\", \"line\": {\"color\": \"#636efa\", \"dash\": \"solid\"}, \"mode\": \"lines\", \"name\": \"18\", \"showlegend\": true, \"type\": \"scatter\", \"x\": [\"  Amazon - Echo Dot (2nd generation) - Smart Speaker with Alexa - Black\", \"  Amazon Echo Dot (2nd Generation) Smart Speaker - Black\", \"  Amazon Echo Dot - 2nd Generation - Smart Speaker - Alexa Enabled - Black\", \"  Amazon - Echo Dot (2nd generation) - Smart Speaker with Alexa - Black\", \"  Amazon Echo Dot (2nd Generation) Smart Speaker - Black\"], \"xaxis\": \"x\", \"y\": [18, 18, 18, 18, 18], \"yaxis\": \"y\"}, {\"hovertemplate\": \"Price=%{y}<br>Title=%{x}<extra></extra>\", \"legendgroup\": \"15\", \"line\": {\"color\": \"#EF553B\", \"dash\": \"solid\"}, \"mode\": \"lines\", \"name\": \"15\", \"showlegend\": true, \"type\": \"scatter\", \"x\": [\"  Amazon Echo Dot (2nd Generation) Smart Assistant - White\", \"  Amazon Echo Dot (2nd Generation) Smart Assistant - White\"], \"xaxis\": \"x\", \"y\": [15, 15], \"yaxis\": \"y\"}, {\"hovertemplate\": \"Price=%{y}<br>Title=%{x}<extra></extra>\", \"legendgroup\": \"26\", \"line\": {\"color\": \"#00cc96\", \"dash\": \"solid\"}, \"mode\": \"lines\", \"name\": \"26\", \"showlegend\": true, \"type\": \"scatter\", \"x\": [\"  Amazon Echo Dot 3rd Generation w/ Alexa Voice Media Device Sandstone BRAND NEW!\", \"  Amazon Echo Dot 3rd Generation with Alexa Voice Media Device - Charcoal\", \"  Amazon Echo Dot 3rd Generation with Alexa Voice Media Device - Charcoal\", \"  Amazon Echo Dot 3rd Generation w/ Alexa Voice Media Device Sandstone BRAND NEW!\"], \"xaxis\": \"x\", \"y\": [26, 26, 26, 26], \"yaxis\": \"y\"}, {\"hovertemplate\": \"Price=%{y}<br>Title=%{x}<extra></extra>\", \"legendgroup\": \"28\", \"line\": {\"color\": \"#ab63fa\", \"dash\": \"solid\"}, \"mode\": \"lines\", \"name\": \"28\", \"showlegend\": true, \"type\": \"scatter\", \"x\": [\"  Amazon Echo Dot 3rd Generation  - Heather Gray\", \"  Amazon Echo Dot (3rd Generation) Smart Speaker with Alexa - Heather Gray\", \"  Amazon Echo Dot 3rd Generation  - Heather Gray\", \"  Amazon Echo Dot (3rd Generation) Smart Speaker with Alexa - Heather Gray\"], \"xaxis\": \"x\", \"y\": [28, 28, 28, 28], \"yaxis\": \"y\"}, {\"hovertemplate\": \"Price=%{y}<br>Title=%{x}<extra></extra>\", \"legendgroup\": \"25\", \"line\": {\"color\": \"#FFA15A\", \"dash\": \"solid\"}, \"mode\": \"lines\", \"name\": \"25\", \"showlegend\": true, \"type\": \"scatter\", \"x\": [\"  Amazon - Echo Dot (3rd Gen) - Smart Speaker with Alexa - Sandstone White\", \"  Amazon Echo Dot (2nd Generation) Smart Assistant - White  Ships Fast\", \"   Amazon Echo Dot Latest 2018 (3rd Generation) Smart speaker Alexa \", \"  Amazon - Echo Dot (3rd Gen) - Smart Speaker with Alexa - Sandstone White\", \"  Amazon Echo Dot (2nd Generation) Smart Assistant - White  Ships Fast\", \"   Amazon Echo Dot Latest 2018 (3rd Generation) Smart speaker Alexa \"], \"xaxis\": \"x\", \"y\": [25, 25, 25, 25, 25, 25], \"yaxis\": \"y\"}, {\"hovertemplate\": \"Price=%{y}<br>Title=%{x}<extra></extra>\", \"legendgroup\": \"32\", \"line\": {\"color\": \"#19d3f3\", \"dash\": \"solid\"}, \"mode\": \"lines\", \"name\": \"32\", \"showlegend\": true, \"type\": \"scatter\", \"x\": [\"  Amazon Echo Dot (3rd Gen) -Smart Speaker with Alexa- Heather Gray FREE SHIPPING\", \"  Amazon Echo Dot (3rd Gen) -Smart Speaker with Alexa- Heather Gray FREE SHIPPING\"], \"xaxis\": \"x\", \"y\": [32, 32], \"yaxis\": \"y\"}, {\"hovertemplate\": \"Price=%{y}<br>Title=%{x}<extra></extra>\", \"legendgroup\": \"11\", \"line\": {\"color\": \"#FF6692\", \"dash\": \"solid\"}, \"mode\": \"lines\", \"name\": \"11\", \"showlegend\": true, \"type\": \"scatter\", \"x\": [\"  amazon echo dot kids edition\", \"  amazon echo dot kids edition\"], \"xaxis\": \"x\", \"y\": [11, 11], \"yaxis\": \"y\"}, {\"hovertemplate\": \"Price=%{y}<br>Title=%{x}<extra></extra>\", \"legendgroup\": \"40\", \"line\": {\"color\": \"#B6E880\", \"dash\": \"solid\"}, \"mode\": \"lines\", \"name\": \"40\", \"showlegend\": true, \"type\": \"scatter\", \"x\": [\"  Amazon Echo Dot 3rd Gen - Smart speaker with Alexa - Heather Grey BRAND NEW\", \"  BRAND NEW Amazon Echo Dot 3rd Gen Smart speaker with Alexa - Sandstone FREE SHIP\", \"  Amazon Echo Dot 3rd Generation w/ Alexa Voice Media Device - Charcoal BRAND NEW!\", \"  Amazon Echo Dot 3rd Gen - Smart speaker with Alexa - Heather Grey BRAND NEW\"], \"xaxis\": \"x\", \"y\": [40, 40, 40, 40], \"yaxis\": \"y\"}, {\"hovertemplate\": \"Price=%{y}<br>Title=%{x}<extra></extra>\", \"legendgroup\": \"43\", \"line\": {\"color\": \"#FF97FF\", \"dash\": \"solid\"}, \"mode\": \"lines\", \"name\": \"43\", \"showlegend\": true, \"type\": \"scatter\", \"x\": [\"  Amazon Echo Dot (3rd Generation) Smart Speaker with Clock - Sandstone\", \"  Amazon Echo Dot (3rd Generation) Smart Speaker with Clock - Sandstone\"], \"xaxis\": \"x\", \"y\": [43, 43], \"yaxis\": \"y\"}, {\"hovertemplate\": \"Price=%{y}<br>Title=%{x}<extra></extra>\", \"legendgroup\": \"49\", \"line\": {\"color\": \"#FECB52\", \"dash\": \"solid\"}, \"mode\": \"lines\", \"name\": \"49\", \"showlegend\": true, \"type\": \"scatter\", \"x\": [\"  Amazon Echo Dot (3rd Generation) Smart Speaker with Clock NEW\", \"  Amazon Echo Dot 3rd Generation Smart Speaker with Clock and Alexa - Sandstone \", \"  Amazon Echo Dot (3rd Generation) Smart Speaker with Clock NEW\"], \"xaxis\": \"x\", \"y\": [49, 49, 49], \"yaxis\": \"y\"}, {\"hovertemplate\": \"Price=%{y}<br>Title=%{x}<extra></extra>\", \"legendgroup\": \"22\", \"line\": {\"color\": \"#636efa\", \"dash\": \"solid\"}, \"mode\": \"lines\", \"name\": \"22\", \"showlegend\": true, \"type\": \"scatter\", \"x\": [\"  Amazon Echo Dot (2nd Gen) Smart Speaker with Alexa, Black, White, New\", \"  Amazon Echo Dot (2nd Gen) Smart Speaker with Alexa, Black, White, New\"], \"xaxis\": \"x\", \"y\": [22, 22], \"yaxis\": \"y\"}, {\"hovertemplate\": \"Price=%{y}<br>Title=%{x}<extra></extra>\", \"legendgroup\": \"10\", \"line\": {\"color\": \"#EF553B\", \"dash\": \"solid\"}, \"mode\": \"lines\", \"name\": \"10\", \"showlegend\": true, \"type\": \"scatter\", \"x\": [\"   Empty Boxes Only - Amazon Echo Dot 3rd Generation and Echo Auto - Gray/Black\", \"  Amazon Echo Dot (3rd Generation) Smart Speaker with Alexa Voice\", \"   Empty Boxes Only - Amazon Echo Dot 3rd Generation and Echo Auto - Gray/Black\"], \"xaxis\": \"x\", \"y\": [10, 10, 10], \"yaxis\": \"y\"}, {\"hovertemplate\": \"Price=%{y}<br>Title=%{x}<extra></extra>\", \"legendgroup\": \"14\", \"line\": {\"color\": \"#00cc96\", \"dash\": \"solid\"}, \"mode\": \"lines\", \"name\": \"14\", \"showlegend\": true, \"type\": \"scatter\", \"x\": [\"  Amazon Echo Dot (2nd Generation) Smart Speaker - Black\", \"  Amazon B07FZ8S74R Echo Dot 3rd Generation Smart Speaker with Alexa - Charcoal\", \"  Amazon Echo Dot (2nd Generation) Smart Speaker - Black\", \"  Amazon Echo Dot (2nd Generation) Smart Speaker - Black\"], \"xaxis\": \"x\", \"y\": [14, 14, 14, 14], \"yaxis\": \"y\"}, {\"hovertemplate\": \"Price=%{y}<br>Title=%{x}<extra></extra>\", \"legendgroup\": \"37\", \"line\": {\"color\": \"#ab63fa\", \"dash\": \"solid\"}, \"mode\": \"lines\", \"name\": \"37\", \"showlegend\": true, \"type\": \"scatter\", \"x\": [\"  SHIPS TODAY! Amazon Echo Dot 3rd Generation Alexa Voice Smart Speaker\", \"  SHIPS TODAY! Amazon Echo Dot 3rd Generation Alexa Voice Smart Speaker\"], \"xaxis\": \"x\", \"y\": [37, 37], \"yaxis\": \"y\"}, {\"hovertemplate\": \"Price=%{y}<br>Title=%{x}<extra></extra>\", \"legendgroup\": \"31\", \"line\": {\"color\": \"#FFA15A\", \"dash\": \"solid\"}, \"mode\": \"lines\", \"name\": \"31\", \"showlegend\": true, \"type\": \"scatter\", \"x\": [\"  AMAZON ECHO DOT (3nd GENERATION) SMART SPEAKER w/Alexa (CHARCOAL) *NEW in BOX!\", \"  AMAZON ECHO DOT (3nd GENERATION) SMART SPEAKER w/Alexa (CHARCOAL) *NEW in BOX!\"], \"xaxis\": \"x\", \"y\": [31, 31], \"yaxis\": \"y\"}, {\"hovertemplate\": \"Price=%{y}<br>Title=%{x}<extra></extra>\", \"legendgroup\": \"24\", \"line\": {\"color\": \"#19d3f3\", \"dash\": \"solid\"}, \"mode\": \"lines\", \"name\": \"24\", \"showlegend\": true, \"type\": \"scatter\", \"x\": [\"  BRAND NEW Amazon Echo Dot 3rd Generation w/ Alexa Voice Media Device - Sandstone\", \"  Amazon Echo Dot 3rd Generation  - Heather Gray\"], \"xaxis\": \"x\", \"y\": [24, 24], \"yaxis\": \"y\"}, {\"hovertemplate\": \"Price=%{y}<br>Title=%{x}<extra></extra>\", \"legendgroup\": \"36\", \"line\": {\"color\": \"#FF6692\", \"dash\": \"solid\"}, \"mode\": \"lines\", \"name\": \"36\", \"showlegend\": true, \"type\": \"scatter\", \"x\": [\"  NEW Amazon Echo Dot 3rd Generation Smart Speaker with Alexa Assistant- Charcoal\", \"  NEW Amazon Echo Dot 3rd Generation Smart Speaker with Alexa Assistant- Charcoal\"], \"xaxis\": \"x\", \"y\": [36, 36], \"yaxis\": \"y\"}, {\"hovertemplate\": \"Price=%{y}<br>Title=%{x}<extra></extra>\", \"legendgroup\": \"38\", \"line\": {\"color\": \"#B6E880\", \"dash\": \"solid\"}, \"mode\": \"lines\", \"name\": \"38\", \"showlegend\": true, \"type\": \"scatter\", \"x\": [\"  Amazon Echo Dot 3rd Generation w/ Alexa Voice Media Device - BRAND NEW\"], \"xaxis\": \"x\", \"y\": [38], \"yaxis\": \"y\"}, {\"hovertemplate\": \"Price=%{y}<br>Title=%{x}<extra></extra>\", \"legendgroup\": \"12\", \"line\": {\"color\": \"#FF97FF\", \"dash\": \"solid\"}, \"mode\": \"lines\", \"name\": \"12\", \"showlegend\": true, \"type\": \"scatter\", \"x\": [\"  Amazon Echo Dot 3rd Generation w/ Alexa Voice Media Device  brand new@\"], \"xaxis\": \"x\", \"y\": [12], \"yaxis\": \"y\"}, {\"hovertemplate\": \"Price=%{y}<br>Title=%{x}<extra></extra>\", \"legendgroup\": \"6\", \"line\": {\"color\": \"#FECB52\", \"dash\": \"solid\"}, \"mode\": \"lines\", \"name\": \"6\", \"showlegend\": true, \"type\": \"scatter\", \"x\": [\"  Amazon echo dot 3rd generation NEW\"], \"xaxis\": \"x\", \"y\": [6], \"yaxis\": \"y\"}],\n",
       "                        {\"legend\": {\"title\": {\"text\": \"Price\"}, \"tracegroupgap\": 0}, \"template\": {\"data\": {\"bar\": [{\"error_x\": {\"color\": \"#2a3f5f\"}, \"error_y\": {\"color\": \"#2a3f5f\"}, \"marker\": {\"line\": {\"color\": \"#E5ECF6\", \"width\": 0.5}}, \"type\": \"bar\"}], \"barpolar\": [{\"marker\": {\"line\": {\"color\": \"#E5ECF6\", \"width\": 0.5}}, \"type\": \"barpolar\"}], \"carpet\": [{\"aaxis\": {\"endlinecolor\": \"#2a3f5f\", \"gridcolor\": \"white\", \"linecolor\": \"white\", \"minorgridcolor\": \"white\", \"startlinecolor\": \"#2a3f5f\"}, \"baxis\": {\"endlinecolor\": \"#2a3f5f\", \"gridcolor\": \"white\", \"linecolor\": \"white\", \"minorgridcolor\": \"white\", \"startlinecolor\": \"#2a3f5f\"}, \"type\": \"carpet\"}], \"choropleth\": [{\"colorbar\": {\"outlinewidth\": 0, \"ticks\": \"\"}, \"type\": \"choropleth\"}], \"contour\": [{\"colorbar\": {\"outlinewidth\": 0, \"ticks\": \"\"}, \"colorscale\": [[0.0, \"#0d0887\"], [0.1111111111111111, \"#46039f\"], [0.2222222222222222, \"#7201a8\"], [0.3333333333333333, \"#9c179e\"], [0.4444444444444444, \"#bd3786\"], [0.5555555555555556, \"#d8576b\"], [0.6666666666666666, \"#ed7953\"], [0.7777777777777778, \"#fb9f3a\"], [0.8888888888888888, \"#fdca26\"], [1.0, \"#f0f921\"]], \"type\": \"contour\"}], \"contourcarpet\": [{\"colorbar\": {\"outlinewidth\": 0, \"ticks\": \"\"}, \"type\": \"contourcarpet\"}], \"heatmap\": [{\"colorbar\": {\"outlinewidth\": 0, \"ticks\": \"\"}, \"colorscale\": [[0.0, \"#0d0887\"], [0.1111111111111111, \"#46039f\"], [0.2222222222222222, \"#7201a8\"], [0.3333333333333333, \"#9c179e\"], [0.4444444444444444, \"#bd3786\"], [0.5555555555555556, \"#d8576b\"], [0.6666666666666666, \"#ed7953\"], [0.7777777777777778, \"#fb9f3a\"], [0.8888888888888888, \"#fdca26\"], [1.0, \"#f0f921\"]], \"type\": \"heatmap\"}], \"heatmapgl\": [{\"colorbar\": {\"outlinewidth\": 0, \"ticks\": \"\"}, \"colorscale\": [[0.0, \"#0d0887\"], [0.1111111111111111, \"#46039f\"], [0.2222222222222222, \"#7201a8\"], [0.3333333333333333, \"#9c179e\"], [0.4444444444444444, \"#bd3786\"], [0.5555555555555556, \"#d8576b\"], [0.6666666666666666, \"#ed7953\"], [0.7777777777777778, \"#fb9f3a\"], [0.8888888888888888, \"#fdca26\"], [1.0, \"#f0f921\"]], \"type\": \"heatmapgl\"}], \"histogram\": [{\"marker\": {\"colorbar\": {\"outlinewidth\": 0, \"ticks\": \"\"}}, \"type\": \"histogram\"}], \"histogram2d\": [{\"colorbar\": {\"outlinewidth\": 0, \"ticks\": \"\"}, \"colorscale\": [[0.0, \"#0d0887\"], [0.1111111111111111, \"#46039f\"], [0.2222222222222222, \"#7201a8\"], [0.3333333333333333, \"#9c179e\"], [0.4444444444444444, \"#bd3786\"], [0.5555555555555556, \"#d8576b\"], [0.6666666666666666, \"#ed7953\"], [0.7777777777777778, \"#fb9f3a\"], [0.8888888888888888, \"#fdca26\"], [1.0, \"#f0f921\"]], \"type\": \"histogram2d\"}], \"histogram2dcontour\": [{\"colorbar\": {\"outlinewidth\": 0, \"ticks\": \"\"}, \"colorscale\": [[0.0, \"#0d0887\"], [0.1111111111111111, \"#46039f\"], [0.2222222222222222, \"#7201a8\"], [0.3333333333333333, \"#9c179e\"], [0.4444444444444444, \"#bd3786\"], [0.5555555555555556, \"#d8576b\"], [0.6666666666666666, \"#ed7953\"], [0.7777777777777778, \"#fb9f3a\"], [0.8888888888888888, \"#fdca26\"], [1.0, \"#f0f921\"]], \"type\": \"histogram2dcontour\"}], \"mesh3d\": [{\"colorbar\": {\"outlinewidth\": 0, \"ticks\": \"\"}, \"type\": \"mesh3d\"}], \"parcoords\": [{\"line\": {\"colorbar\": {\"outlinewidth\": 0, \"ticks\": \"\"}}, \"type\": \"parcoords\"}], \"pie\": [{\"automargin\": true, \"type\": \"pie\"}], \"scatter\": [{\"marker\": {\"colorbar\": {\"outlinewidth\": 0, \"ticks\": \"\"}}, \"type\": \"scatter\"}], \"scatter3d\": [{\"line\": {\"colorbar\": {\"outlinewidth\": 0, \"ticks\": \"\"}}, \"marker\": {\"colorbar\": {\"outlinewidth\": 0, \"ticks\": \"\"}}, \"type\": \"scatter3d\"}], \"scattercarpet\": [{\"marker\": {\"colorbar\": {\"outlinewidth\": 0, \"ticks\": \"\"}}, \"type\": \"scattercarpet\"}], \"scattergeo\": [{\"marker\": {\"colorbar\": {\"outlinewidth\": 0, \"ticks\": \"\"}}, \"type\": \"scattergeo\"}], \"scattergl\": [{\"marker\": {\"colorbar\": {\"outlinewidth\": 0, \"ticks\": \"\"}}, \"type\": \"scattergl\"}], \"scattermapbox\": [{\"marker\": {\"colorbar\": {\"outlinewidth\": 0, \"ticks\": \"\"}}, \"type\": \"scattermapbox\"}], \"scatterpolar\": [{\"marker\": {\"colorbar\": {\"outlinewidth\": 0, \"ticks\": \"\"}}, \"type\": \"scatterpolar\"}], \"scatterpolargl\": [{\"marker\": {\"colorbar\": {\"outlinewidth\": 0, \"ticks\": \"\"}}, \"type\": \"scatterpolargl\"}], \"scatterternary\": [{\"marker\": {\"colorbar\": {\"outlinewidth\": 0, \"ticks\": \"\"}}, \"type\": \"scatterternary\"}], \"surface\": [{\"colorbar\": {\"outlinewidth\": 0, \"ticks\": \"\"}, \"colorscale\": [[0.0, \"#0d0887\"], [0.1111111111111111, \"#46039f\"], [0.2222222222222222, \"#7201a8\"], [0.3333333333333333, \"#9c179e\"], [0.4444444444444444, \"#bd3786\"], [0.5555555555555556, \"#d8576b\"], [0.6666666666666666, \"#ed7953\"], [0.7777777777777778, \"#fb9f3a\"], [0.8888888888888888, \"#fdca26\"], [1.0, \"#f0f921\"]], \"type\": \"surface\"}], \"table\": [{\"cells\": {\"fill\": {\"color\": \"#EBF0F8\"}, \"line\": {\"color\": \"white\"}}, \"header\": {\"fill\": {\"color\": \"#C8D4E3\"}, \"line\": {\"color\": \"white\"}}, \"type\": \"table\"}]}, \"layout\": {\"annotationdefaults\": {\"arrowcolor\": \"#2a3f5f\", \"arrowhead\": 0, \"arrowwidth\": 1}, \"coloraxis\": {\"colorbar\": {\"outlinewidth\": 0, \"ticks\": \"\"}}, \"colorscale\": {\"diverging\": [[0, \"#8e0152\"], [0.1, \"#c51b7d\"], [0.2, \"#de77ae\"], [0.3, \"#f1b6da\"], [0.4, \"#fde0ef\"], [0.5, \"#f7f7f7\"], [0.6, \"#e6f5d0\"], [0.7, \"#b8e186\"], [0.8, \"#7fbc41\"], [0.9, \"#4d9221\"], [1, \"#276419\"]], \"sequential\": [[0.0, \"#0d0887\"], [0.1111111111111111, \"#46039f\"], [0.2222222222222222, \"#7201a8\"], [0.3333333333333333, \"#9c179e\"], [0.4444444444444444, \"#bd3786\"], [0.5555555555555556, \"#d8576b\"], [0.6666666666666666, \"#ed7953\"], [0.7777777777777778, \"#fb9f3a\"], [0.8888888888888888, \"#fdca26\"], [1.0, \"#f0f921\"]], \"sequentialminus\": [[0.0, \"#0d0887\"], [0.1111111111111111, \"#46039f\"], [0.2222222222222222, \"#7201a8\"], [0.3333333333333333, \"#9c179e\"], [0.4444444444444444, \"#bd3786\"], [0.5555555555555556, \"#d8576b\"], [0.6666666666666666, \"#ed7953\"], [0.7777777777777778, \"#fb9f3a\"], [0.8888888888888888, \"#fdca26\"], [1.0, \"#f0f921\"]]}, \"colorway\": [\"#636efa\", \"#EF553B\", \"#00cc96\", \"#ab63fa\", \"#FFA15A\", \"#19d3f3\", \"#FF6692\", \"#B6E880\", \"#FF97FF\", \"#FECB52\"], \"font\": {\"color\": \"#2a3f5f\"}, \"geo\": {\"bgcolor\": \"white\", \"lakecolor\": \"white\", \"landcolor\": \"#E5ECF6\", \"showlakes\": true, \"showland\": true, \"subunitcolor\": \"white\"}, \"hoverlabel\": {\"align\": \"left\"}, \"hovermode\": \"closest\", \"mapbox\": {\"style\": \"light\"}, \"paper_bgcolor\": \"white\", \"plot_bgcolor\": \"#E5ECF6\", \"polar\": {\"angularaxis\": {\"gridcolor\": \"white\", \"linecolor\": \"white\", \"ticks\": \"\"}, \"bgcolor\": \"#E5ECF6\", \"radialaxis\": {\"gridcolor\": \"white\", \"linecolor\": \"white\", \"ticks\": \"\"}}, \"scene\": {\"xaxis\": {\"backgroundcolor\": \"#E5ECF6\", \"gridcolor\": \"white\", \"gridwidth\": 2, \"linecolor\": \"white\", \"showbackground\": true, \"ticks\": \"\", \"zerolinecolor\": \"white\"}, \"yaxis\": {\"backgroundcolor\": \"#E5ECF6\", \"gridcolor\": \"white\", \"gridwidth\": 2, \"linecolor\": \"white\", \"showbackground\": true, \"ticks\": \"\", \"zerolinecolor\": \"white\"}, \"zaxis\": {\"backgroundcolor\": \"#E5ECF6\", \"gridcolor\": \"white\", \"gridwidth\": 2, \"linecolor\": \"white\", \"showbackground\": true, \"ticks\": \"\", \"zerolinecolor\": \"white\"}}, \"shapedefaults\": {\"line\": {\"color\": \"#2a3f5f\"}}, \"ternary\": {\"aaxis\": {\"gridcolor\": \"white\", \"linecolor\": \"white\", \"ticks\": \"\"}, \"baxis\": {\"gridcolor\": \"white\", \"linecolor\": \"white\", \"ticks\": \"\"}, \"bgcolor\": \"#E5ECF6\", \"caxis\": {\"gridcolor\": \"white\", \"linecolor\": \"white\", \"ticks\": \"\"}}, \"title\": {\"x\": 0.05}, \"xaxis\": {\"automargin\": true, \"gridcolor\": \"white\", \"linecolor\": \"white\", \"ticks\": \"\", \"title\": {\"standoff\": 15}, \"zerolinecolor\": \"white\", \"zerolinewidth\": 2}, \"yaxis\": {\"automargin\": true, \"gridcolor\": \"white\", \"linecolor\": \"white\", \"ticks\": \"\", \"title\": {\"standoff\": 15}, \"zerolinecolor\": \"white\", \"zerolinewidth\": 2}}}, \"title\": {\"text\": \"Amazon Echo Prices\"}, \"xaxis\": {\"anchor\": \"y\", \"domain\": [0.0, 1.0], \"title\": {\"text\": \"Title\"}}, \"yaxis\": {\"anchor\": \"x\", \"categoryarray\": [6, 12, 38, 36, 24, 31, 37, 14, 10, 22, 49, 43, 40, 11, 32, 25, 28, 26, 15, 18, 35, 23, 17, 7, 33, 27, 46, 34, 20, 30], \"categoryorder\": \"array\", \"domain\": [0.0, 1.0], \"title\": {\"text\": \"Price\"}}},\n",
       "                        {\"responsive\": true}\n",
       "                    ).then(function(){\n",
       "                            \n",
       "var gd = document.getElementById('edb4ec0b-ece3-4a3b-b3eb-b256d8793e67');\n",
       "var x = new MutationObserver(function (mutations, observer) {{\n",
       "        var display = window.getComputedStyle(gd).display;\n",
       "        if (!display || display === 'none') {{\n",
       "            console.log([gd, 'removed!']);\n",
       "            Plotly.purge(gd);\n",
       "            observer.disconnect();\n",
       "        }}\n",
       "}});\n",
       "\n",
       "// Listen for the removal of the full notebook cells\n",
       "var notebookContainer = gd.closest('#notebook-container');\n",
       "if (notebookContainer) {{\n",
       "    x.observe(notebookContainer, {childList: true});\n",
       "}}\n",
       "\n",
       "// Listen for the clearing of the current output cell\n",
       "var outputEl = gd.closest('.output');\n",
       "if (outputEl) {{\n",
       "    x.observe(outputEl, {childList: true});\n",
       "}}\n",
       "\n",
       "                        })\n",
       "                };\n",
       "                });\n",
       "            </script>\n",
       "        </div>"
      ]
     },
     "metadata": {},
     "output_type": "display_data"
    }
   ],
   "source": [
    "fig = px.line(df, x = 'Title', y = 'Price', color=\"Price\", title='Amazon Echo Prices')\n",
    "fig.show()\n",
    "\n"
   ]
  },
  {
   "cell_type": "code",
   "execution_count": 63,
   "metadata": {},
   "outputs": [
    {
     "data": {
      "application/vnd.plotly.v1+json": {
       "config": {
        "plotlyServerURL": "https://plot.ly"
       },
       "data": [
        {
         "hovertemplate": "Title=%{x}<br>Price=%{marker.color}<extra></extra>",
         "legendgroup": "",
         "marker": {
          "color": [
           30,
           20,
           34,
           46,
           27,
           33,
           7,
           30,
           17,
           20,
           30,
           23,
           35,
           18,
           15,
           30,
           20,
           26,
           26,
           20,
           28,
           25,
           32,
           11,
           30,
           30,
           30,
           40,
           43,
           35,
           34,
           18,
           49,
           27,
           30,
           22,
           10,
           27,
           14,
           30,
           28,
           37,
           25,
           25,
           35,
           14,
           30,
           31,
           24,
           36,
           34,
           40,
           40,
           49,
           38,
           30,
           14,
           17,
           27,
           18,
           12,
           10,
           27,
           30,
           20,
           34,
           46,
           27,
           33,
           7,
           30,
           17,
           20,
           30,
           23,
           35,
           24,
           18,
           15,
           30,
           20,
           26,
           26,
           20,
           28,
           25,
           11,
           32,
           30,
           30,
           40,
           30,
           43,
           35,
           18,
           34,
           49,
           27,
           30,
           22,
           10,
           27,
           6,
           30,
           28,
           37,
           25,
           25,
           14,
           35,
           30,
           31,
           36,
           34
          ],
          "coloraxis": "coloraxis",
          "symbol": "circle"
         },
         "mode": "markers",
         "name": "",
         "showlegend": false,
         "type": "scatter",
         "x": [
          "  Amazon Echo Dot 3rd Generation w/ Alexa Voice Media Device - BRAND NEW",
          "  Amazon Echo Dot 2nd Gen Home Music Smart Assistant Speaker w/ Alexa - White",
          "  Amazon Echo Dot 3rd Generation w/ Alexa Voice Media Device - BRAND NEW",
          "  Amazon Echo Dot 3rd Generation w/ Alexa Voice Media Device - Charcoal*BRAND NEW*",
          "  Amazon Echo Dot 2nd Generation w/ Alexa Voice Media Device New Factory Sealed",
          "  Amazon Echo Dot 3rd Generation w/ Alexa Voice Media Device - Sandston BRAND NEW!",
          "  Amazon Echo Dot (2nd Generation) Smart Speaker - Black",
          "  Amazon Echo Dot 3rd Generation Smart Speaker Sandstone White  Sealed",
          "  Amazon Echo Dot - 2nd Gen - Home Music Smart Assistant Speaker w/ Alexa - Black",
          "  Amazon Echo Dot 2nd Generation w/ Alexa Voice Media Device: black or white",
          "  Amazon Echo Dot 3rd Generation w/ Alexa Voice Media Device - Charcoal (in 🤚🏻)",
          "   Amazon Echo Dot (3rd Generation) Smart Speaker - Heather Gray",
          "  Amazon Echo Dot  3RD Gen  Sandstone Charcoal Gray Plum NEW SEALED",
          "  Amazon - Echo Dot (2nd generation) - Smart Speaker with Alexa - Black",
          "  Amazon Echo Dot (2nd Generation) Smart Assistant - White",
          "  New Amazon Echo Dot 3rd Generation w/ Alexa Voice - Heather Gray - Free Ship",
          "  Amazon Echo Dot 2nd Generation",
          "  Amazon Echo Dot 3rd Generation w/ Alexa Voice Media Device Sandstone BRAND NEW!",
          "  Amazon Echo Dot 3rd Generation with Alexa Voice Media Device - Charcoal",
          "  Amazon Echo Dot (2nd Generation) Smart Assistant - White",
          "  Amazon Echo Dot 3rd Generation  - Heather Gray",
          "  Amazon - Echo Dot (3rd Gen) - Smart Speaker with Alexa - Sandstone White",
          "  Amazon Echo Dot (3rd Gen) -Smart Speaker with Alexa- Heather Gray FREE SHIPPING",
          "  amazon echo dot kids edition",
          "  Amazon Echo Dot Smart Speaker - Sandstone",
          "  Amazon Echo Dot 3rd Gen - Heather Gray NEW In Box",
          "  New Amazon Echo Dot 3rd Generation with Alexa, Ship ASAP, Grey",
          "  Amazon Echo Dot 3rd Gen - Smart speaker with Alexa - Heather Grey BRAND NEW",
          "  Amazon Echo Dot (3rd Generation) Smart Speaker with Clock - Sandstone",
          "  Amazon Echo Dot 3rd Generation Smart Speaker ",
          "  Amazon Echo Dot (3rd generation) Smart Speaker with Alexa  (Sandstone)",
          "  Amazon Echo Dot (2nd Generation) Smart Speaker - Black",
          "  Amazon Echo Dot (3rd Generation) Smart Speaker with Clock NEW",
          "  Good Condition Amazon Echo Dot 3rd Gen Smart speaker with Alexa - Black ",
          "  BRAND NEW Amazon Echo Dot 3rd Generation w/ Alexa Voice Media Device - Sandstone",
          "  Amazon Echo Dot (2nd Gen) Smart Speaker with Alexa, Black, White, New",
          "   Empty Boxes Only - Amazon Echo Dot 3rd Generation and Echo Auto - Gray/Black",
          "  Amazon Echo Dot (3rd Generation) Smart Speaker - Sandstone  Sealed",
          "  Amazon Echo Dot (2nd Generation) Smart Speaker - Black",
          "  Amazon Echo Dot (3rd Generation) Smart Speaker with Alexa Voice Heather",
          "  Amazon Echo Dot (3rd Generation) Smart Speaker with Alexa - Heather Gray",
          "  SHIPS TODAY! Amazon Echo Dot 3rd Generation Alexa Voice Smart Speaker",
          "  Amazon Echo Dot (2nd Generation) Smart Assistant - White  Ships Fast",
          "   Amazon Echo Dot Latest 2018 (3rd Generation) Smart speaker Alexa ",
          "  Amazon Echo Dot 3rd Generation w/ Alexa Voice Media Device - Charcoal BRAND NEW!",
          "  Amazon B07FZ8S74R Echo Dot 3rd Generation Smart Speaker with Alexa - Charcoal",
          "  Amazon Echo Dot Plum 3rd Generation Smart Speaker Sealed ",
          "  AMAZON ECHO DOT (3nd GENERATION) SMART SPEAKER w/Alexa (CHARCOAL) *NEW in BOX!",
          "  BRAND NEW Amazon Echo Dot 3rd Generation w/ Alexa Voice Media Device - Sandstone",
          "  NEW Amazon Echo Dot 3rd Generation Smart Speaker with Alexa Assistant- Charcoal",
          "  Amazon Echo Dot (3rd Generation) Smart Speaker with Alexa",
          "  BRAND NEW Amazon Echo Dot 3rd Gen Smart speaker with Alexa - Sandstone FREE SHIP",
          "  Amazon Echo Dot 3rd Generation w/ Alexa Voice Media Device - Charcoal BRAND NEW!",
          "  Amazon Echo Dot 3rd Generation Smart Speaker with Clock and Alexa - Sandstone ",
          "  Amazon Echo Dot 3rd Generation w/ Alexa Voice Media Device - BRAND NEW",
          "  Amazon Echo Dot 3rd Generation Smart Speaker Heather Gray New | FREE SHIPPING",
          "  Amazon Echo Dot (2nd Generation) Smart Speaker - Black",
          "  Amazon Echo Dot - 2nd Gen - Home Music Smart Assistant Speaker w/ Alexa - Black",
          "  Amazon Echo Dot 3rd Gen w/ Alexa - Gray/White *BRAND NEW*",
          "  Amazon Echo Dot - 2nd Generation - Smart Speaker - Alexa Enabled - Black",
          "  Amazon Echo Dot 3rd Generation w/ Alexa Voice Media Device  brand new@",
          "  Amazon Echo Dot (3rd Generation) Smart Speaker with Alexa Voice",
          "   Amazon Echo Dot (3rd Generation) Smart Speaker - Sandstone",
          "  Amazon Echo Dot 3rd Generation w/ Alexa Voice Media Device - BRAND NEW",
          "  Amazon Echo Dot 2nd Gen Home Music Smart Assistant Speaker w/ Alexa - White",
          "  Amazon Echo Dot 3rd Generation w/ Alexa Voice Media Device - BRAND NEW",
          "  Amazon Echo Dot 3rd Generation w/ Alexa Voice Media Device - Charcoal*BRAND NEW*",
          "  Amazon Echo Dot 2nd Generation w/ Alexa Voice Media Device New Factory Sealed",
          "  Amazon Echo Dot 3rd Generation w/ Alexa Voice Media Device - Sandston BRAND NEW!",
          "  Amazon Echo Dot (2nd Generation) Smart Speaker - Black",
          "  Amazon Echo Dot 3rd Generation Smart Speaker Sandstone White  Sealed",
          "  Amazon Echo Dot - 2nd Gen - Home Music Smart Assistant Speaker w/ Alexa - Black",
          "  Amazon Echo Dot 2nd Generation w/ Alexa Voice Media Device: black or white",
          "  Amazon Echo Dot 3rd Generation w/ Alexa Voice Media Device - Charcoal (in 🤚🏻)",
          "   Amazon Echo Dot (3rd Generation) Smart Speaker - Heather Gray",
          "  Amazon Echo Dot  3RD Gen  Sandstone Charcoal Gray Plum NEW SEALED",
          "  Amazon Echo Dot 3rd Generation  - Heather Gray",
          "  Amazon - Echo Dot (2nd generation) - Smart Speaker with Alexa - Black",
          "  Amazon Echo Dot (2nd Generation) Smart Assistant - White",
          "  New Amazon Echo Dot 3rd Generation w/ Alexa Voice - Heather Gray - Free Ship",
          "  Amazon Echo Dot 2nd Generation",
          "  Amazon Echo Dot 3rd Generation with Alexa Voice Media Device - Charcoal",
          "  Amazon Echo Dot 3rd Generation w/ Alexa Voice Media Device Sandstone BRAND NEW!",
          "  Amazon Echo Dot (2nd Generation) Smart Assistant - White",
          "  Amazon Echo Dot 3rd Generation  - Heather Gray",
          "  Amazon - Echo Dot (3rd Gen) - Smart Speaker with Alexa - Sandstone White",
          "  amazon echo dot kids edition",
          "  Amazon Echo Dot (3rd Gen) -Smart Speaker with Alexa- Heather Gray FREE SHIPPING",
          "  Amazon Echo Dot Smart Speaker - Sandstone",
          "  New Amazon Echo Dot 3rd Generation with Alexa, Ship ASAP, Grey",
          "  Amazon Echo Dot 3rd Gen - Smart speaker with Alexa - Heather Grey BRAND NEW",
          "  Amazon Echo Dot 3rd Gen - Heather Gray NEW In Box",
          "  Amazon Echo Dot (3rd Generation) Smart Speaker with Clock - Sandstone",
          "  Amazon Echo Dot 3rd Generation Smart Speaker ",
          "  Amazon Echo Dot (2nd Generation) Smart Speaker - Black",
          "  Amazon Echo Dot (3rd generation) Smart Speaker with Alexa  (Sandstone)",
          "  Amazon Echo Dot (3rd Generation) Smart Speaker with Clock NEW",
          "  Good Condition Amazon Echo Dot 3rd Gen Smart speaker with Alexa - Black ",
          "  BRAND NEW Amazon Echo Dot 3rd Generation w/ Alexa Voice Media Device - Sandstone",
          "  Amazon Echo Dot (2nd Gen) Smart Speaker with Alexa, Black, White, New",
          "   Empty Boxes Only - Amazon Echo Dot 3rd Generation and Echo Auto - Gray/Black",
          "  Amazon Echo Dot (3rd Generation) Smart Speaker - Sandstone  Sealed",
          "  Amazon echo dot 3rd generation NEW",
          "  Amazon Echo Dot (3rd Generation) Smart Speaker with Alexa Voice Heather",
          "  Amazon Echo Dot (3rd Generation) Smart Speaker with Alexa - Heather Gray",
          "  SHIPS TODAY! Amazon Echo Dot 3rd Generation Alexa Voice Smart Speaker",
          "  Amazon Echo Dot (2nd Generation) Smart Assistant - White  Ships Fast",
          "   Amazon Echo Dot Latest 2018 (3rd Generation) Smart speaker Alexa ",
          "  Amazon Echo Dot (2nd Generation) Smart Speaker - Black",
          "  Amazon Echo Dot 3rd Generation w/ Alexa Voice Media Device - Charcoal BRAND NEW!",
          "  Amazon Echo Dot Plum 3rd Generation Smart Speaker Sealed ",
          "  AMAZON ECHO DOT (3nd GENERATION) SMART SPEAKER w/Alexa (CHARCOAL) *NEW in BOX!",
          "  NEW Amazon Echo Dot 3rd Generation Smart Speaker with Alexa Assistant- Charcoal",
          "  Amazon Echo Dot (3rd Generation) Smart Speaker with Alexa"
         ],
         "xaxis": "x",
         "y": [
          30,
          20,
          34,
          46,
          27,
          33,
          7,
          30,
          17,
          20,
          30,
          23,
          35,
          18,
          15,
          30,
          20,
          26,
          26,
          20,
          28,
          25,
          32,
          11,
          30,
          30,
          30,
          40,
          43,
          35,
          34,
          18,
          49,
          27,
          30,
          22,
          10,
          27,
          14,
          30,
          28,
          37,
          25,
          25,
          35,
          14,
          30,
          31,
          24,
          36,
          34,
          40,
          40,
          49,
          38,
          30,
          14,
          17,
          27,
          18,
          12,
          10,
          27,
          30,
          20,
          34,
          46,
          27,
          33,
          7,
          30,
          17,
          20,
          30,
          23,
          35,
          24,
          18,
          15,
          30,
          20,
          26,
          26,
          20,
          28,
          25,
          11,
          32,
          30,
          30,
          40,
          30,
          43,
          35,
          18,
          34,
          49,
          27,
          30,
          22,
          10,
          27,
          6,
          30,
          28,
          37,
          25,
          25,
          14,
          35,
          30,
          31,
          36,
          34
         ],
         "yaxis": "y"
        }
       ],
       "layout": {
        "coloraxis": {
         "colorbar": {
          "title": {
           "text": "Price"
          }
         },
         "colorscale": [
          [
           0,
           "#0d0887"
          ],
          [
           0.1111111111111111,
           "#46039f"
          ],
          [
           0.2222222222222222,
           "#7201a8"
          ],
          [
           0.3333333333333333,
           "#9c179e"
          ],
          [
           0.4444444444444444,
           "#bd3786"
          ],
          [
           0.5555555555555556,
           "#d8576b"
          ],
          [
           0.6666666666666666,
           "#ed7953"
          ],
          [
           0.7777777777777778,
           "#fb9f3a"
          ],
          [
           0.8888888888888888,
           "#fdca26"
          ],
          [
           1,
           "#f0f921"
          ]
         ]
        },
        "legend": {
         "tracegroupgap": 0
        },
        "template": {
         "data": {
          "bar": [
           {
            "error_x": {
             "color": "#2a3f5f"
            },
            "error_y": {
             "color": "#2a3f5f"
            },
            "marker": {
             "line": {
              "color": "#E5ECF6",
              "width": 0.5
             }
            },
            "type": "bar"
           }
          ],
          "barpolar": [
           {
            "marker": {
             "line": {
              "color": "#E5ECF6",
              "width": 0.5
             }
            },
            "type": "barpolar"
           }
          ],
          "carpet": [
           {
            "aaxis": {
             "endlinecolor": "#2a3f5f",
             "gridcolor": "white",
             "linecolor": "white",
             "minorgridcolor": "white",
             "startlinecolor": "#2a3f5f"
            },
            "baxis": {
             "endlinecolor": "#2a3f5f",
             "gridcolor": "white",
             "linecolor": "white",
             "minorgridcolor": "white",
             "startlinecolor": "#2a3f5f"
            },
            "type": "carpet"
           }
          ],
          "choropleth": [
           {
            "colorbar": {
             "outlinewidth": 0,
             "ticks": ""
            },
            "type": "choropleth"
           }
          ],
          "contour": [
           {
            "colorbar": {
             "outlinewidth": 0,
             "ticks": ""
            },
            "colorscale": [
             [
              0,
              "#0d0887"
             ],
             [
              0.1111111111111111,
              "#46039f"
             ],
             [
              0.2222222222222222,
              "#7201a8"
             ],
             [
              0.3333333333333333,
              "#9c179e"
             ],
             [
              0.4444444444444444,
              "#bd3786"
             ],
             [
              0.5555555555555556,
              "#d8576b"
             ],
             [
              0.6666666666666666,
              "#ed7953"
             ],
             [
              0.7777777777777778,
              "#fb9f3a"
             ],
             [
              0.8888888888888888,
              "#fdca26"
             ],
             [
              1,
              "#f0f921"
             ]
            ],
            "type": "contour"
           }
          ],
          "contourcarpet": [
           {
            "colorbar": {
             "outlinewidth": 0,
             "ticks": ""
            },
            "type": "contourcarpet"
           }
          ],
          "heatmap": [
           {
            "colorbar": {
             "outlinewidth": 0,
             "ticks": ""
            },
            "colorscale": [
             [
              0,
              "#0d0887"
             ],
             [
              0.1111111111111111,
              "#46039f"
             ],
             [
              0.2222222222222222,
              "#7201a8"
             ],
             [
              0.3333333333333333,
              "#9c179e"
             ],
             [
              0.4444444444444444,
              "#bd3786"
             ],
             [
              0.5555555555555556,
              "#d8576b"
             ],
             [
              0.6666666666666666,
              "#ed7953"
             ],
             [
              0.7777777777777778,
              "#fb9f3a"
             ],
             [
              0.8888888888888888,
              "#fdca26"
             ],
             [
              1,
              "#f0f921"
             ]
            ],
            "type": "heatmap"
           }
          ],
          "heatmapgl": [
           {
            "colorbar": {
             "outlinewidth": 0,
             "ticks": ""
            },
            "colorscale": [
             [
              0,
              "#0d0887"
             ],
             [
              0.1111111111111111,
              "#46039f"
             ],
             [
              0.2222222222222222,
              "#7201a8"
             ],
             [
              0.3333333333333333,
              "#9c179e"
             ],
             [
              0.4444444444444444,
              "#bd3786"
             ],
             [
              0.5555555555555556,
              "#d8576b"
             ],
             [
              0.6666666666666666,
              "#ed7953"
             ],
             [
              0.7777777777777778,
              "#fb9f3a"
             ],
             [
              0.8888888888888888,
              "#fdca26"
             ],
             [
              1,
              "#f0f921"
             ]
            ],
            "type": "heatmapgl"
           }
          ],
          "histogram": [
           {
            "marker": {
             "colorbar": {
              "outlinewidth": 0,
              "ticks": ""
             }
            },
            "type": "histogram"
           }
          ],
          "histogram2d": [
           {
            "colorbar": {
             "outlinewidth": 0,
             "ticks": ""
            },
            "colorscale": [
             [
              0,
              "#0d0887"
             ],
             [
              0.1111111111111111,
              "#46039f"
             ],
             [
              0.2222222222222222,
              "#7201a8"
             ],
             [
              0.3333333333333333,
              "#9c179e"
             ],
             [
              0.4444444444444444,
              "#bd3786"
             ],
             [
              0.5555555555555556,
              "#d8576b"
             ],
             [
              0.6666666666666666,
              "#ed7953"
             ],
             [
              0.7777777777777778,
              "#fb9f3a"
             ],
             [
              0.8888888888888888,
              "#fdca26"
             ],
             [
              1,
              "#f0f921"
             ]
            ],
            "type": "histogram2d"
           }
          ],
          "histogram2dcontour": [
           {
            "colorbar": {
             "outlinewidth": 0,
             "ticks": ""
            },
            "colorscale": [
             [
              0,
              "#0d0887"
             ],
             [
              0.1111111111111111,
              "#46039f"
             ],
             [
              0.2222222222222222,
              "#7201a8"
             ],
             [
              0.3333333333333333,
              "#9c179e"
             ],
             [
              0.4444444444444444,
              "#bd3786"
             ],
             [
              0.5555555555555556,
              "#d8576b"
             ],
             [
              0.6666666666666666,
              "#ed7953"
             ],
             [
              0.7777777777777778,
              "#fb9f3a"
             ],
             [
              0.8888888888888888,
              "#fdca26"
             ],
             [
              1,
              "#f0f921"
             ]
            ],
            "type": "histogram2dcontour"
           }
          ],
          "mesh3d": [
           {
            "colorbar": {
             "outlinewidth": 0,
             "ticks": ""
            },
            "type": "mesh3d"
           }
          ],
          "parcoords": [
           {
            "line": {
             "colorbar": {
              "outlinewidth": 0,
              "ticks": ""
             }
            },
            "type": "parcoords"
           }
          ],
          "pie": [
           {
            "automargin": true,
            "type": "pie"
           }
          ],
          "scatter": [
           {
            "marker": {
             "colorbar": {
              "outlinewidth": 0,
              "ticks": ""
             }
            },
            "type": "scatter"
           }
          ],
          "scatter3d": [
           {
            "line": {
             "colorbar": {
              "outlinewidth": 0,
              "ticks": ""
             }
            },
            "marker": {
             "colorbar": {
              "outlinewidth": 0,
              "ticks": ""
             }
            },
            "type": "scatter3d"
           }
          ],
          "scattercarpet": [
           {
            "marker": {
             "colorbar": {
              "outlinewidth": 0,
              "ticks": ""
             }
            },
            "type": "scattercarpet"
           }
          ],
          "scattergeo": [
           {
            "marker": {
             "colorbar": {
              "outlinewidth": 0,
              "ticks": ""
             }
            },
            "type": "scattergeo"
           }
          ],
          "scattergl": [
           {
            "marker": {
             "colorbar": {
              "outlinewidth": 0,
              "ticks": ""
             }
            },
            "type": "scattergl"
           }
          ],
          "scattermapbox": [
           {
            "marker": {
             "colorbar": {
              "outlinewidth": 0,
              "ticks": ""
             }
            },
            "type": "scattermapbox"
           }
          ],
          "scatterpolar": [
           {
            "marker": {
             "colorbar": {
              "outlinewidth": 0,
              "ticks": ""
             }
            },
            "type": "scatterpolar"
           }
          ],
          "scatterpolargl": [
           {
            "marker": {
             "colorbar": {
              "outlinewidth": 0,
              "ticks": ""
             }
            },
            "type": "scatterpolargl"
           }
          ],
          "scatterternary": [
           {
            "marker": {
             "colorbar": {
              "outlinewidth": 0,
              "ticks": ""
             }
            },
            "type": "scatterternary"
           }
          ],
          "surface": [
           {
            "colorbar": {
             "outlinewidth": 0,
             "ticks": ""
            },
            "colorscale": [
             [
              0,
              "#0d0887"
             ],
             [
              0.1111111111111111,
              "#46039f"
             ],
             [
              0.2222222222222222,
              "#7201a8"
             ],
             [
              0.3333333333333333,
              "#9c179e"
             ],
             [
              0.4444444444444444,
              "#bd3786"
             ],
             [
              0.5555555555555556,
              "#d8576b"
             ],
             [
              0.6666666666666666,
              "#ed7953"
             ],
             [
              0.7777777777777778,
              "#fb9f3a"
             ],
             [
              0.8888888888888888,
              "#fdca26"
             ],
             [
              1,
              "#f0f921"
             ]
            ],
            "type": "surface"
           }
          ],
          "table": [
           {
            "cells": {
             "fill": {
              "color": "#EBF0F8"
             },
             "line": {
              "color": "white"
             }
            },
            "header": {
             "fill": {
              "color": "#C8D4E3"
             },
             "line": {
              "color": "white"
             }
            },
            "type": "table"
           }
          ]
         },
         "layout": {
          "annotationdefaults": {
           "arrowcolor": "#2a3f5f",
           "arrowhead": 0,
           "arrowwidth": 1
          },
          "coloraxis": {
           "colorbar": {
            "outlinewidth": 0,
            "ticks": ""
           }
          },
          "colorscale": {
           "diverging": [
            [
             0,
             "#8e0152"
            ],
            [
             0.1,
             "#c51b7d"
            ],
            [
             0.2,
             "#de77ae"
            ],
            [
             0.3,
             "#f1b6da"
            ],
            [
             0.4,
             "#fde0ef"
            ],
            [
             0.5,
             "#f7f7f7"
            ],
            [
             0.6,
             "#e6f5d0"
            ],
            [
             0.7,
             "#b8e186"
            ],
            [
             0.8,
             "#7fbc41"
            ],
            [
             0.9,
             "#4d9221"
            ],
            [
             1,
             "#276419"
            ]
           ],
           "sequential": [
            [
             0,
             "#0d0887"
            ],
            [
             0.1111111111111111,
             "#46039f"
            ],
            [
             0.2222222222222222,
             "#7201a8"
            ],
            [
             0.3333333333333333,
             "#9c179e"
            ],
            [
             0.4444444444444444,
             "#bd3786"
            ],
            [
             0.5555555555555556,
             "#d8576b"
            ],
            [
             0.6666666666666666,
             "#ed7953"
            ],
            [
             0.7777777777777778,
             "#fb9f3a"
            ],
            [
             0.8888888888888888,
             "#fdca26"
            ],
            [
             1,
             "#f0f921"
            ]
           ],
           "sequentialminus": [
            [
             0,
             "#0d0887"
            ],
            [
             0.1111111111111111,
             "#46039f"
            ],
            [
             0.2222222222222222,
             "#7201a8"
            ],
            [
             0.3333333333333333,
             "#9c179e"
            ],
            [
             0.4444444444444444,
             "#bd3786"
            ],
            [
             0.5555555555555556,
             "#d8576b"
            ],
            [
             0.6666666666666666,
             "#ed7953"
            ],
            [
             0.7777777777777778,
             "#fb9f3a"
            ],
            [
             0.8888888888888888,
             "#fdca26"
            ],
            [
             1,
             "#f0f921"
            ]
           ]
          },
          "colorway": [
           "#636efa",
           "#EF553B",
           "#00cc96",
           "#ab63fa",
           "#FFA15A",
           "#19d3f3",
           "#FF6692",
           "#B6E880",
           "#FF97FF",
           "#FECB52"
          ],
          "font": {
           "color": "#2a3f5f"
          },
          "geo": {
           "bgcolor": "white",
           "lakecolor": "white",
           "landcolor": "#E5ECF6",
           "showlakes": true,
           "showland": true,
           "subunitcolor": "white"
          },
          "hoverlabel": {
           "align": "left"
          },
          "hovermode": "closest",
          "mapbox": {
           "style": "light"
          },
          "paper_bgcolor": "white",
          "plot_bgcolor": "#E5ECF6",
          "polar": {
           "angularaxis": {
            "gridcolor": "white",
            "linecolor": "white",
            "ticks": ""
           },
           "bgcolor": "#E5ECF6",
           "radialaxis": {
            "gridcolor": "white",
            "linecolor": "white",
            "ticks": ""
           }
          },
          "scene": {
           "xaxis": {
            "backgroundcolor": "#E5ECF6",
            "gridcolor": "white",
            "gridwidth": 2,
            "linecolor": "white",
            "showbackground": true,
            "ticks": "",
            "zerolinecolor": "white"
           },
           "yaxis": {
            "backgroundcolor": "#E5ECF6",
            "gridcolor": "white",
            "gridwidth": 2,
            "linecolor": "white",
            "showbackground": true,
            "ticks": "",
            "zerolinecolor": "white"
           },
           "zaxis": {
            "backgroundcolor": "#E5ECF6",
            "gridcolor": "white",
            "gridwidth": 2,
            "linecolor": "white",
            "showbackground": true,
            "ticks": "",
            "zerolinecolor": "white"
           }
          },
          "shapedefaults": {
           "line": {
            "color": "#2a3f5f"
           }
          },
          "ternary": {
           "aaxis": {
            "gridcolor": "white",
            "linecolor": "white",
            "ticks": ""
           },
           "baxis": {
            "gridcolor": "white",
            "linecolor": "white",
            "ticks": ""
           },
           "bgcolor": "#E5ECF6",
           "caxis": {
            "gridcolor": "white",
            "linecolor": "white",
            "ticks": ""
           }
          },
          "title": {
           "x": 0.05
          },
          "xaxis": {
           "automargin": true,
           "gridcolor": "white",
           "linecolor": "white",
           "ticks": "",
           "title": {
            "standoff": 15
           },
           "zerolinecolor": "white",
           "zerolinewidth": 2
          },
          "yaxis": {
           "automargin": true,
           "gridcolor": "white",
           "linecolor": "white",
           "ticks": "",
           "title": {
            "standoff": 15
           },
           "zerolinecolor": "white",
           "zerolinewidth": 2
          }
         }
        },
        "title": {
         "text": "Amazon Echo"
        },
        "xaxis": {
         "anchor": "y",
         "domain": [
          0,
          1
         ],
         "title": {
          "text": "Title"
         }
        },
        "yaxis": {
         "anchor": "x",
         "domain": [
          0,
          1
         ],
         "title": {
          "text": "Price"
         }
        }
       }
      },
      "text/html": [
       "<div>\n",
       "        \n",
       "        \n",
       "            <div id=\"ca6f5e06-1a4e-4ea0-9133-54ddf2458532\" class=\"plotly-graph-div\" style=\"height:525px; width:100%;\"></div>\n",
       "            <script type=\"text/javascript\">\n",
       "                require([\"plotly\"], function(Plotly) {\n",
       "                    window.PLOTLYENV=window.PLOTLYENV || {};\n",
       "                    \n",
       "                if (document.getElementById(\"ca6f5e06-1a4e-4ea0-9133-54ddf2458532\")) {\n",
       "                    Plotly.newPlot(\n",
       "                        'ca6f5e06-1a4e-4ea0-9133-54ddf2458532',\n",
       "                        [{\"hovertemplate\": \"Title=%{x}<br>Price=%{marker.color}<extra></extra>\", \"legendgroup\": \"\", \"marker\": {\"color\": [30, 20, 34, 46, 27, 33, 7, 30, 17, 20, 30, 23, 35, 18, 15, 30, 20, 26, 26, 20, 28, 25, 32, 11, 30, 30, 30, 40, 43, 35, 34, 18, 49, 27, 30, 22, 10, 27, 14, 30, 28, 37, 25, 25, 35, 14, 30, 31, 24, 36, 34, 40, 40, 49, 38, 30, 14, 17, 27, 18, 12, 10, 27, 30, 20, 34, 46, 27, 33, 7, 30, 17, 20, 30, 23, 35, 24, 18, 15, 30, 20, 26, 26, 20, 28, 25, 11, 32, 30, 30, 40, 30, 43, 35, 18, 34, 49, 27, 30, 22, 10, 27, 6, 30, 28, 37, 25, 25, 14, 35, 30, 31, 36, 34], \"coloraxis\": \"coloraxis\", \"symbol\": \"circle\"}, \"mode\": \"markers\", \"name\": \"\", \"showlegend\": false, \"type\": \"scatter\", \"x\": [\"  Amazon Echo Dot 3rd Generation w/ Alexa Voice Media Device - BRAND NEW\", \"  Amazon Echo Dot 2nd Gen Home Music Smart Assistant Speaker w/ Alexa - White\", \"  Amazon Echo Dot 3rd Generation w/ Alexa Voice Media Device - BRAND NEW\", \"  Amazon Echo Dot 3rd Generation w/ Alexa Voice Media Device - Charcoal*BRAND NEW*\", \"  Amazon Echo Dot 2nd Generation w/ Alexa Voice Media Device New Factory Sealed\", \"  Amazon Echo Dot 3rd Generation w/ Alexa Voice Media Device - Sandston BRAND NEW!\", \"  Amazon Echo Dot (2nd Generation) Smart Speaker - Black\", \"  Amazon Echo Dot 3rd Generation Smart Speaker Sandstone White  Sealed\", \"  Amazon Echo Dot - 2nd Gen - Home Music Smart Assistant Speaker w/ Alexa - Black\", \"  Amazon Echo Dot 2nd Generation w/ Alexa Voice Media Device: black or white\", \"  Amazon Echo Dot 3rd Generation w/ Alexa Voice Media Device - Charcoal (in \\ud83e\\udd1a\\ud83c\\udffb)\", \"   Amazon Echo Dot (3rd Generation) Smart Speaker - Heather Gray\", \"  Amazon Echo Dot  3RD Gen  Sandstone Charcoal Gray Plum NEW SEALED\", \"  Amazon - Echo Dot (2nd generation) - Smart Speaker with Alexa - Black\", \"  Amazon Echo Dot (2nd Generation) Smart Assistant - White\", \"  New Amazon Echo Dot 3rd Generation w/ Alexa Voice - Heather Gray - Free Ship\", \"  Amazon Echo Dot 2nd Generation\", \"  Amazon Echo Dot 3rd Generation w/ Alexa Voice Media Device Sandstone BRAND NEW!\", \"  Amazon Echo Dot 3rd Generation with Alexa Voice Media Device - Charcoal\", \"  Amazon Echo Dot (2nd Generation) Smart Assistant - White\", \"  Amazon Echo Dot 3rd Generation  - Heather Gray\", \"  Amazon - Echo Dot (3rd Gen) - Smart Speaker with Alexa - Sandstone White\", \"  Amazon Echo Dot (3rd Gen) -Smart Speaker with Alexa- Heather Gray FREE SHIPPING\", \"  amazon echo dot kids edition\", \"  Amazon Echo Dot Smart Speaker - Sandstone\", \"  Amazon Echo Dot 3rd Gen - Heather Gray NEW In Box\", \"  New Amazon Echo Dot 3rd Generation with Alexa, Ship ASAP, Grey\", \"  Amazon Echo Dot 3rd Gen - Smart speaker with Alexa - Heather Grey BRAND NEW\", \"  Amazon Echo Dot (3rd Generation) Smart Speaker with Clock - Sandstone\", \"  Amazon Echo Dot 3rd Generation Smart Speaker \", \"  Amazon Echo Dot (3rd generation) Smart Speaker with Alexa  (Sandstone)\", \"  Amazon Echo Dot (2nd Generation) Smart Speaker - Black\", \"  Amazon Echo Dot (3rd Generation) Smart Speaker with Clock NEW\", \"  Good Condition Amazon Echo Dot 3rd Gen Smart speaker with Alexa - Black \", \"  BRAND NEW Amazon Echo Dot 3rd Generation w/ Alexa Voice Media Device - Sandstone\", \"  Amazon Echo Dot (2nd Gen) Smart Speaker with Alexa, Black, White, New\", \"   Empty Boxes Only - Amazon Echo Dot 3rd Generation and Echo Auto - Gray/Black\", \"  Amazon Echo Dot (3rd Generation) Smart Speaker - Sandstone  Sealed\", \"  Amazon Echo Dot (2nd Generation) Smart Speaker - Black\", \"  Amazon Echo Dot (3rd Generation) Smart Speaker with Alexa Voice Heather\", \"  Amazon Echo Dot (3rd Generation) Smart Speaker with Alexa - Heather Gray\", \"  SHIPS TODAY! Amazon Echo Dot 3rd Generation Alexa Voice Smart Speaker\", \"  Amazon Echo Dot (2nd Generation) Smart Assistant - White  Ships Fast\", \"   Amazon Echo Dot Latest 2018 (3rd Generation) Smart speaker Alexa \", \"  Amazon Echo Dot 3rd Generation w/ Alexa Voice Media Device - Charcoal BRAND NEW!\", \"  Amazon B07FZ8S74R Echo Dot 3rd Generation Smart Speaker with Alexa - Charcoal\", \"  Amazon Echo Dot Plum 3rd Generation Smart Speaker Sealed \", \"  AMAZON ECHO DOT (3nd GENERATION) SMART SPEAKER w/Alexa (CHARCOAL) *NEW in BOX!\", \"  BRAND NEW Amazon Echo Dot 3rd Generation w/ Alexa Voice Media Device - Sandstone\", \"  NEW Amazon Echo Dot 3rd Generation Smart Speaker with Alexa Assistant- Charcoal\", \"  Amazon Echo Dot (3rd Generation) Smart Speaker with Alexa\", \"  BRAND NEW Amazon Echo Dot 3rd Gen Smart speaker with Alexa - Sandstone FREE SHIP\", \"  Amazon Echo Dot 3rd Generation w/ Alexa Voice Media Device - Charcoal BRAND NEW!\", \"  Amazon Echo Dot 3rd Generation Smart Speaker with Clock and Alexa - Sandstone \", \"  Amazon Echo Dot 3rd Generation w/ Alexa Voice Media Device - BRAND NEW\", \"  Amazon Echo Dot 3rd Generation Smart Speaker Heather Gray New | FREE SHIPPING\", \"  Amazon Echo Dot (2nd Generation) Smart Speaker - Black\", \"  Amazon Echo Dot - 2nd Gen - Home Music Smart Assistant Speaker w/ Alexa - Black\", \"  Amazon Echo Dot 3rd Gen w/ Alexa - Gray/White *BRAND NEW*\", \"  Amazon Echo Dot - 2nd Generation - Smart Speaker - Alexa Enabled - Black\", \"  Amazon Echo Dot 3rd Generation w/ Alexa Voice Media Device  brand new@\", \"  Amazon Echo Dot (3rd Generation) Smart Speaker with Alexa Voice\", \"   Amazon Echo Dot (3rd Generation) Smart Speaker - Sandstone\", \"  Amazon Echo Dot 3rd Generation w/ Alexa Voice Media Device - BRAND NEW\", \"  Amazon Echo Dot 2nd Gen Home Music Smart Assistant Speaker w/ Alexa - White\", \"  Amazon Echo Dot 3rd Generation w/ Alexa Voice Media Device - BRAND NEW\", \"  Amazon Echo Dot 3rd Generation w/ Alexa Voice Media Device - Charcoal*BRAND NEW*\", \"  Amazon Echo Dot 2nd Generation w/ Alexa Voice Media Device New Factory Sealed\", \"  Amazon Echo Dot 3rd Generation w/ Alexa Voice Media Device - Sandston BRAND NEW!\", \"  Amazon Echo Dot (2nd Generation) Smart Speaker - Black\", \"  Amazon Echo Dot 3rd Generation Smart Speaker Sandstone White  Sealed\", \"  Amazon Echo Dot - 2nd Gen - Home Music Smart Assistant Speaker w/ Alexa - Black\", \"  Amazon Echo Dot 2nd Generation w/ Alexa Voice Media Device: black or white\", \"  Amazon Echo Dot 3rd Generation w/ Alexa Voice Media Device - Charcoal (in \\ud83e\\udd1a\\ud83c\\udffb)\", \"   Amazon Echo Dot (3rd Generation) Smart Speaker - Heather Gray\", \"  Amazon Echo Dot  3RD Gen  Sandstone Charcoal Gray Plum NEW SEALED\", \"  Amazon Echo Dot 3rd Generation  - Heather Gray\", \"  Amazon - Echo Dot (2nd generation) - Smart Speaker with Alexa - Black\", \"  Amazon Echo Dot (2nd Generation) Smart Assistant - White\", \"  New Amazon Echo Dot 3rd Generation w/ Alexa Voice - Heather Gray - Free Ship\", \"  Amazon Echo Dot 2nd Generation\", \"  Amazon Echo Dot 3rd Generation with Alexa Voice Media Device - Charcoal\", \"  Amazon Echo Dot 3rd Generation w/ Alexa Voice Media Device Sandstone BRAND NEW!\", \"  Amazon Echo Dot (2nd Generation) Smart Assistant - White\", \"  Amazon Echo Dot 3rd Generation  - Heather Gray\", \"  Amazon - Echo Dot (3rd Gen) - Smart Speaker with Alexa - Sandstone White\", \"  amazon echo dot kids edition\", \"  Amazon Echo Dot (3rd Gen) -Smart Speaker with Alexa- Heather Gray FREE SHIPPING\", \"  Amazon Echo Dot Smart Speaker - Sandstone\", \"  New Amazon Echo Dot 3rd Generation with Alexa, Ship ASAP, Grey\", \"  Amazon Echo Dot 3rd Gen - Smart speaker with Alexa - Heather Grey BRAND NEW\", \"  Amazon Echo Dot 3rd Gen - Heather Gray NEW In Box\", \"  Amazon Echo Dot (3rd Generation) Smart Speaker with Clock - Sandstone\", \"  Amazon Echo Dot 3rd Generation Smart Speaker \", \"  Amazon Echo Dot (2nd Generation) Smart Speaker - Black\", \"  Amazon Echo Dot (3rd generation) Smart Speaker with Alexa  (Sandstone)\", \"  Amazon Echo Dot (3rd Generation) Smart Speaker with Clock NEW\", \"  Good Condition Amazon Echo Dot 3rd Gen Smart speaker with Alexa - Black \", \"  BRAND NEW Amazon Echo Dot 3rd Generation w/ Alexa Voice Media Device - Sandstone\", \"  Amazon Echo Dot (2nd Gen) Smart Speaker with Alexa, Black, White, New\", \"   Empty Boxes Only - Amazon Echo Dot 3rd Generation and Echo Auto - Gray/Black\", \"  Amazon Echo Dot (3rd Generation) Smart Speaker - Sandstone  Sealed\", \"  Amazon echo dot 3rd generation NEW\", \"  Amazon Echo Dot (3rd Generation) Smart Speaker with Alexa Voice Heather\", \"  Amazon Echo Dot (3rd Generation) Smart Speaker with Alexa - Heather Gray\", \"  SHIPS TODAY! Amazon Echo Dot 3rd Generation Alexa Voice Smart Speaker\", \"  Amazon Echo Dot (2nd Generation) Smart Assistant - White  Ships Fast\", \"   Amazon Echo Dot Latest 2018 (3rd Generation) Smart speaker Alexa \", \"  Amazon Echo Dot (2nd Generation) Smart Speaker - Black\", \"  Amazon Echo Dot 3rd Generation w/ Alexa Voice Media Device - Charcoal BRAND NEW!\", \"  Amazon Echo Dot Plum 3rd Generation Smart Speaker Sealed \", \"  AMAZON ECHO DOT (3nd GENERATION) SMART SPEAKER w/Alexa (CHARCOAL) *NEW in BOX!\", \"  NEW Amazon Echo Dot 3rd Generation Smart Speaker with Alexa Assistant- Charcoal\", \"  Amazon Echo Dot (3rd Generation) Smart Speaker with Alexa\"], \"xaxis\": \"x\", \"y\": [30, 20, 34, 46, 27, 33, 7, 30, 17, 20, 30, 23, 35, 18, 15, 30, 20, 26, 26, 20, 28, 25, 32, 11, 30, 30, 30, 40, 43, 35, 34, 18, 49, 27, 30, 22, 10, 27, 14, 30, 28, 37, 25, 25, 35, 14, 30, 31, 24, 36, 34, 40, 40, 49, 38, 30, 14, 17, 27, 18, 12, 10, 27, 30, 20, 34, 46, 27, 33, 7, 30, 17, 20, 30, 23, 35, 24, 18, 15, 30, 20, 26, 26, 20, 28, 25, 11, 32, 30, 30, 40, 30, 43, 35, 18, 34, 49, 27, 30, 22, 10, 27, 6, 30, 28, 37, 25, 25, 14, 35, 30, 31, 36, 34], \"yaxis\": \"y\"}],\n",
       "                        {\"coloraxis\": {\"colorbar\": {\"title\": {\"text\": \"Price\"}}, \"colorscale\": [[0.0, \"#0d0887\"], [0.1111111111111111, \"#46039f\"], [0.2222222222222222, \"#7201a8\"], [0.3333333333333333, \"#9c179e\"], [0.4444444444444444, \"#bd3786\"], [0.5555555555555556, \"#d8576b\"], [0.6666666666666666, \"#ed7953\"], [0.7777777777777778, \"#fb9f3a\"], [0.8888888888888888, \"#fdca26\"], [1.0, \"#f0f921\"]]}, \"legend\": {\"tracegroupgap\": 0}, \"template\": {\"data\": {\"bar\": [{\"error_x\": {\"color\": \"#2a3f5f\"}, \"error_y\": {\"color\": \"#2a3f5f\"}, \"marker\": {\"line\": {\"color\": \"#E5ECF6\", \"width\": 0.5}}, \"type\": \"bar\"}], \"barpolar\": [{\"marker\": {\"line\": {\"color\": \"#E5ECF6\", \"width\": 0.5}}, \"type\": \"barpolar\"}], \"carpet\": [{\"aaxis\": {\"endlinecolor\": \"#2a3f5f\", \"gridcolor\": \"white\", \"linecolor\": \"white\", \"minorgridcolor\": \"white\", \"startlinecolor\": \"#2a3f5f\"}, \"baxis\": {\"endlinecolor\": \"#2a3f5f\", \"gridcolor\": \"white\", \"linecolor\": \"white\", \"minorgridcolor\": \"white\", \"startlinecolor\": \"#2a3f5f\"}, \"type\": \"carpet\"}], \"choropleth\": [{\"colorbar\": {\"outlinewidth\": 0, \"ticks\": \"\"}, \"type\": \"choropleth\"}], \"contour\": [{\"colorbar\": {\"outlinewidth\": 0, \"ticks\": \"\"}, \"colorscale\": [[0.0, \"#0d0887\"], [0.1111111111111111, \"#46039f\"], [0.2222222222222222, \"#7201a8\"], [0.3333333333333333, \"#9c179e\"], [0.4444444444444444, \"#bd3786\"], [0.5555555555555556, \"#d8576b\"], [0.6666666666666666, \"#ed7953\"], [0.7777777777777778, \"#fb9f3a\"], [0.8888888888888888, \"#fdca26\"], [1.0, \"#f0f921\"]], \"type\": \"contour\"}], \"contourcarpet\": [{\"colorbar\": {\"outlinewidth\": 0, \"ticks\": \"\"}, \"type\": \"contourcarpet\"}], \"heatmap\": [{\"colorbar\": {\"outlinewidth\": 0, \"ticks\": \"\"}, \"colorscale\": [[0.0, \"#0d0887\"], [0.1111111111111111, \"#46039f\"], [0.2222222222222222, \"#7201a8\"], [0.3333333333333333, \"#9c179e\"], [0.4444444444444444, \"#bd3786\"], [0.5555555555555556, \"#d8576b\"], [0.6666666666666666, \"#ed7953\"], [0.7777777777777778, \"#fb9f3a\"], [0.8888888888888888, \"#fdca26\"], [1.0, \"#f0f921\"]], \"type\": \"heatmap\"}], \"heatmapgl\": [{\"colorbar\": {\"outlinewidth\": 0, \"ticks\": \"\"}, \"colorscale\": [[0.0, \"#0d0887\"], [0.1111111111111111, \"#46039f\"], [0.2222222222222222, \"#7201a8\"], [0.3333333333333333, \"#9c179e\"], [0.4444444444444444, \"#bd3786\"], [0.5555555555555556, \"#d8576b\"], [0.6666666666666666, \"#ed7953\"], [0.7777777777777778, \"#fb9f3a\"], [0.8888888888888888, \"#fdca26\"], [1.0, \"#f0f921\"]], \"type\": \"heatmapgl\"}], \"histogram\": [{\"marker\": {\"colorbar\": {\"outlinewidth\": 0, \"ticks\": \"\"}}, \"type\": \"histogram\"}], \"histogram2d\": [{\"colorbar\": {\"outlinewidth\": 0, \"ticks\": \"\"}, \"colorscale\": [[0.0, \"#0d0887\"], [0.1111111111111111, \"#46039f\"], [0.2222222222222222, \"#7201a8\"], [0.3333333333333333, \"#9c179e\"], [0.4444444444444444, \"#bd3786\"], [0.5555555555555556, \"#d8576b\"], [0.6666666666666666, \"#ed7953\"], [0.7777777777777778, \"#fb9f3a\"], [0.8888888888888888, \"#fdca26\"], [1.0, \"#f0f921\"]], \"type\": \"histogram2d\"}], \"histogram2dcontour\": [{\"colorbar\": {\"outlinewidth\": 0, \"ticks\": \"\"}, \"colorscale\": [[0.0, \"#0d0887\"], [0.1111111111111111, \"#46039f\"], [0.2222222222222222, \"#7201a8\"], [0.3333333333333333, \"#9c179e\"], [0.4444444444444444, \"#bd3786\"], [0.5555555555555556, \"#d8576b\"], [0.6666666666666666, \"#ed7953\"], [0.7777777777777778, \"#fb9f3a\"], [0.8888888888888888, \"#fdca26\"], [1.0, \"#f0f921\"]], \"type\": \"histogram2dcontour\"}], \"mesh3d\": [{\"colorbar\": {\"outlinewidth\": 0, \"ticks\": \"\"}, \"type\": \"mesh3d\"}], \"parcoords\": [{\"line\": {\"colorbar\": {\"outlinewidth\": 0, \"ticks\": \"\"}}, \"type\": \"parcoords\"}], \"pie\": [{\"automargin\": true, \"type\": \"pie\"}], \"scatter\": [{\"marker\": {\"colorbar\": {\"outlinewidth\": 0, \"ticks\": \"\"}}, \"type\": \"scatter\"}], \"scatter3d\": [{\"line\": {\"colorbar\": {\"outlinewidth\": 0, \"ticks\": \"\"}}, \"marker\": {\"colorbar\": {\"outlinewidth\": 0, \"ticks\": \"\"}}, \"type\": \"scatter3d\"}], \"scattercarpet\": [{\"marker\": {\"colorbar\": {\"outlinewidth\": 0, \"ticks\": \"\"}}, \"type\": \"scattercarpet\"}], \"scattergeo\": [{\"marker\": {\"colorbar\": {\"outlinewidth\": 0, \"ticks\": \"\"}}, \"type\": \"scattergeo\"}], \"scattergl\": [{\"marker\": {\"colorbar\": {\"outlinewidth\": 0, \"ticks\": \"\"}}, \"type\": \"scattergl\"}], \"scattermapbox\": [{\"marker\": {\"colorbar\": {\"outlinewidth\": 0, \"ticks\": \"\"}}, \"type\": \"scattermapbox\"}], \"scatterpolar\": [{\"marker\": {\"colorbar\": {\"outlinewidth\": 0, \"ticks\": \"\"}}, \"type\": \"scatterpolar\"}], \"scatterpolargl\": [{\"marker\": {\"colorbar\": {\"outlinewidth\": 0, \"ticks\": \"\"}}, \"type\": \"scatterpolargl\"}], \"scatterternary\": [{\"marker\": {\"colorbar\": {\"outlinewidth\": 0, \"ticks\": \"\"}}, \"type\": \"scatterternary\"}], \"surface\": [{\"colorbar\": {\"outlinewidth\": 0, \"ticks\": \"\"}, \"colorscale\": [[0.0, \"#0d0887\"], [0.1111111111111111, \"#46039f\"], [0.2222222222222222, \"#7201a8\"], [0.3333333333333333, \"#9c179e\"], [0.4444444444444444, \"#bd3786\"], [0.5555555555555556, \"#d8576b\"], [0.6666666666666666, \"#ed7953\"], [0.7777777777777778, \"#fb9f3a\"], [0.8888888888888888, \"#fdca26\"], [1.0, \"#f0f921\"]], \"type\": \"surface\"}], \"table\": [{\"cells\": {\"fill\": {\"color\": \"#EBF0F8\"}, \"line\": {\"color\": \"white\"}}, \"header\": {\"fill\": {\"color\": \"#C8D4E3\"}, \"line\": {\"color\": \"white\"}}, \"type\": \"table\"}]}, \"layout\": {\"annotationdefaults\": {\"arrowcolor\": \"#2a3f5f\", \"arrowhead\": 0, \"arrowwidth\": 1}, \"coloraxis\": {\"colorbar\": {\"outlinewidth\": 0, \"ticks\": \"\"}}, \"colorscale\": {\"diverging\": [[0, \"#8e0152\"], [0.1, \"#c51b7d\"], [0.2, \"#de77ae\"], [0.3, \"#f1b6da\"], [0.4, \"#fde0ef\"], [0.5, \"#f7f7f7\"], [0.6, \"#e6f5d0\"], [0.7, \"#b8e186\"], [0.8, \"#7fbc41\"], [0.9, \"#4d9221\"], [1, \"#276419\"]], \"sequential\": [[0.0, \"#0d0887\"], [0.1111111111111111, \"#46039f\"], [0.2222222222222222, \"#7201a8\"], [0.3333333333333333, \"#9c179e\"], [0.4444444444444444, \"#bd3786\"], [0.5555555555555556, \"#d8576b\"], [0.6666666666666666, \"#ed7953\"], [0.7777777777777778, \"#fb9f3a\"], [0.8888888888888888, \"#fdca26\"], [1.0, \"#f0f921\"]], \"sequentialminus\": [[0.0, \"#0d0887\"], [0.1111111111111111, \"#46039f\"], [0.2222222222222222, \"#7201a8\"], [0.3333333333333333, \"#9c179e\"], [0.4444444444444444, \"#bd3786\"], [0.5555555555555556, \"#d8576b\"], [0.6666666666666666, \"#ed7953\"], [0.7777777777777778, \"#fb9f3a\"], [0.8888888888888888, \"#fdca26\"], [1.0, \"#f0f921\"]]}, \"colorway\": [\"#636efa\", \"#EF553B\", \"#00cc96\", \"#ab63fa\", \"#FFA15A\", \"#19d3f3\", \"#FF6692\", \"#B6E880\", \"#FF97FF\", \"#FECB52\"], \"font\": {\"color\": \"#2a3f5f\"}, \"geo\": {\"bgcolor\": \"white\", \"lakecolor\": \"white\", \"landcolor\": \"#E5ECF6\", \"showlakes\": true, \"showland\": true, \"subunitcolor\": \"white\"}, \"hoverlabel\": {\"align\": \"left\"}, \"hovermode\": \"closest\", \"mapbox\": {\"style\": \"light\"}, \"paper_bgcolor\": \"white\", \"plot_bgcolor\": \"#E5ECF6\", \"polar\": {\"angularaxis\": {\"gridcolor\": \"white\", \"linecolor\": \"white\", \"ticks\": \"\"}, \"bgcolor\": \"#E5ECF6\", \"radialaxis\": {\"gridcolor\": \"white\", \"linecolor\": \"white\", \"ticks\": \"\"}}, \"scene\": {\"xaxis\": {\"backgroundcolor\": \"#E5ECF6\", \"gridcolor\": \"white\", \"gridwidth\": 2, \"linecolor\": \"white\", \"showbackground\": true, \"ticks\": \"\", \"zerolinecolor\": \"white\"}, \"yaxis\": {\"backgroundcolor\": \"#E5ECF6\", \"gridcolor\": \"white\", \"gridwidth\": 2, \"linecolor\": \"white\", \"showbackground\": true, \"ticks\": \"\", \"zerolinecolor\": \"white\"}, \"zaxis\": {\"backgroundcolor\": \"#E5ECF6\", \"gridcolor\": \"white\", \"gridwidth\": 2, \"linecolor\": \"white\", \"showbackground\": true, \"ticks\": \"\", \"zerolinecolor\": \"white\"}}, \"shapedefaults\": {\"line\": {\"color\": \"#2a3f5f\"}}, \"ternary\": {\"aaxis\": {\"gridcolor\": \"white\", \"linecolor\": \"white\", \"ticks\": \"\"}, \"baxis\": {\"gridcolor\": \"white\", \"linecolor\": \"white\", \"ticks\": \"\"}, \"bgcolor\": \"#E5ECF6\", \"caxis\": {\"gridcolor\": \"white\", \"linecolor\": \"white\", \"ticks\": \"\"}}, \"title\": {\"x\": 0.05}, \"xaxis\": {\"automargin\": true, \"gridcolor\": \"white\", \"linecolor\": \"white\", \"ticks\": \"\", \"title\": {\"standoff\": 15}, \"zerolinecolor\": \"white\", \"zerolinewidth\": 2}, \"yaxis\": {\"automargin\": true, \"gridcolor\": \"white\", \"linecolor\": \"white\", \"ticks\": \"\", \"title\": {\"standoff\": 15}, \"zerolinecolor\": \"white\", \"zerolinewidth\": 2}}}, \"title\": {\"text\": \"Amazon Echo\"}, \"xaxis\": {\"anchor\": \"y\", \"domain\": [0.0, 1.0], \"title\": {\"text\": \"Title\"}}, \"yaxis\": {\"anchor\": \"x\", \"domain\": [0.0, 1.0], \"title\": {\"text\": \"Price\"}}},\n",
       "                        {\"responsive\": true}\n",
       "                    ).then(function(){\n",
       "                            \n",
       "var gd = document.getElementById('ca6f5e06-1a4e-4ea0-9133-54ddf2458532');\n",
       "var x = new MutationObserver(function (mutations, observer) {{\n",
       "        var display = window.getComputedStyle(gd).display;\n",
       "        if (!display || display === 'none') {{\n",
       "            console.log([gd, 'removed!']);\n",
       "            Plotly.purge(gd);\n",
       "            observer.disconnect();\n",
       "        }}\n",
       "}});\n",
       "\n",
       "// Listen for the removal of the full notebook cells\n",
       "var notebookContainer = gd.closest('#notebook-container');\n",
       "if (notebookContainer) {{\n",
       "    x.observe(notebookContainer, {childList: true});\n",
       "}}\n",
       "\n",
       "// Listen for the clearing of the current output cell\n",
       "var outputEl = gd.closest('.output');\n",
       "if (outputEl) {{\n",
       "    x.observe(outputEl, {childList: true});\n",
       "}}\n",
       "\n",
       "                        })\n",
       "                };\n",
       "                });\n",
       "            </script>\n",
       "        </div>"
      ]
     },
     "metadata": {},
     "output_type": "display_data"
    }
   ],
   "source": [
    "fig = px.scatter(df, x = 'Title', y = 'Price', color = 'Price', \n",
    "                 title=\"Amazon Echo\")\n",
    "             \n",
    "             \n",
    "fig.show()"
   ]
  },
  {
   "cell_type": "code",
   "execution_count": null,
   "metadata": {},
   "outputs": [],
   "source": []
  }
 ],
 "metadata": {
  "kernelspec": {
   "display_name": "Python 3",
   "language": "python",
   "name": "python3"
  },
  "language_info": {
   "codemirror_mode": {
    "name": "ipython",
    "version": 3
   },
   "file_extension": ".py",
   "mimetype": "text/x-python",
   "name": "python",
   "nbconvert_exporter": "python",
   "pygments_lexer": "ipython3",
   "version": "3.7.6"
  }
 },
 "nbformat": 4,
 "nbformat_minor": 4
}
