{
 "cells": [
  {
   "cell_type": "code",
   "execution_count": 72,
   "metadata": {},
   "outputs": [
    {
     "data": {
      "text/plain": [
       "Index(['  Amazon Echo Dot 3rd Generation w/ Alexa Voice Media Device - BRAND NEW',\n",
       "       '29.89', 'US', '40',\n",
       "       'https://www.ebay.com/itm/Amazon-Echo-Dot-3rd-Generation-w-Alexa-Voice-Media-Device-BRAND-NEW/283840411198?epid=26024048451&hash=item421634f63e:g:AswAAOSwDQdejNOO'],\n",
       "      dtype='object')"
      ]
     },
     "execution_count": 72,
     "metadata": {},
     "output_type": "execute_result"
    }
   ],
   "source": [
    "import pandas as pd\n",
    "import sqlite3\n",
    "import numpy as np\n",
    "import matplotlib.pyplot as plt\n",
    "\n",
    "csv = pd.read_csv('/Users/sarafrench/final_proj_python/output3.csv')\n",
    "\n",
    "df = pd.DataFrame(csv)\n",
    "\n",
    "df.columns\n",
    "\n"
   ]
  },
  {
   "cell_type": "code",
   "execution_count": 73,
   "metadata": {},
   "outputs": [],
   "source": [
    "#df.rename(columns = {'Details about  Amazon Echo Dot 3rd Generation w/ Alexa Voice Media Device - BRAND NEW ': 'title', })\n",
    "df_col = ['title','price','currency','shipping', 'url']\n"
   ]
  },
  {
   "cell_type": "code",
   "execution_count": 74,
   "metadata": {},
   "outputs": [
    {
     "name": "stdout",
     "output_type": "stream",
     "text": [
      "<class 'pandas.core.frame.DataFrame'>\n",
      "RangeIndex: 113 entries, 0 to 112\n",
      "Data columns (total 5 columns):\n",
      " #   Column    Non-Null Count  Dtype  \n",
      "---  ------    --------------  -----  \n",
      " 0   title     113 non-null    object \n",
      " 1   price     113 non-null    float64\n",
      " 2   currency  113 non-null    object \n",
      " 3   shipping  111 non-null    object \n",
      " 4   url       113 non-null    object \n",
      "dtypes: float64(1), object(4)\n",
      "memory usage: 4.5+ KB\n"
     ]
    }
   ],
   "source": [
    "df.columns = df_col\n",
    "\n",
    "df.head(11)\n",
    "\n",
    "df.info()"
   ]
  },
  {
   "cell_type": "code",
   "execution_count": 75,
   "metadata": {},
   "outputs": [
    {
     "data": {
      "text/plain": [
       "Index(['title', 'price', 'currency', 'shipping', 'url'], dtype='object')"
      ]
     },
     "execution_count": 75,
     "metadata": {},
     "output_type": "execute_result"
    }
   ],
   "source": [
    "df.columns"
   ]
  },
  {
   "cell_type": "code",
   "execution_count": 76,
   "metadata": {},
   "outputs": [
    {
     "data": {
      "text/html": [
       "<div>\n",
       "<style scoped>\n",
       "    .dataframe tbody tr th:only-of-type {\n",
       "        vertical-align: middle;\n",
       "    }\n",
       "\n",
       "    .dataframe tbody tr th {\n",
       "        vertical-align: top;\n",
       "    }\n",
       "\n",
       "    .dataframe thead th {\n",
       "        text-align: right;\n",
       "    }\n",
       "</style>\n",
       "<table border=\"1\" class=\"dataframe\">\n",
       "  <thead>\n",
       "    <tr style=\"text-align: right;\">\n",
       "      <th></th>\n",
       "      <th>title</th>\n",
       "      <th>price</th>\n",
       "      <th>currency</th>\n",
       "      <th>shipping</th>\n",
       "      <th>url</th>\n",
       "    </tr>\n",
       "  </thead>\n",
       "  <tbody>\n",
       "    <tr>\n",
       "      <th>0</th>\n",
       "      <td>Amazon Echo Dot 2nd Gen Home Music Smart Ass...</td>\n",
       "      <td>19.99</td>\n",
       "      <td>US</td>\n",
       "      <td>100%</td>\n",
       "      <td>https://www.ebay.com/itm/Amazon-Echo-Dot-2nd-G...</td>\n",
       "    </tr>\n",
       "    <tr>\n",
       "      <th>1</th>\n",
       "      <td>Amazon Echo Dot 3rd Generation w/ Alexa Voic...</td>\n",
       "      <td>33.99</td>\n",
       "      <td>US</td>\n",
       "      <td>100%</td>\n",
       "      <td>https://www.ebay.com/itm/Amazon-Echo-Dot-3rd-G...</td>\n",
       "    </tr>\n",
       "    <tr>\n",
       "      <th>2</th>\n",
       "      <td>Amazon Echo Dot 3rd Generation w/ Alexa Voic...</td>\n",
       "      <td>45.95</td>\n",
       "      <td>US</td>\n",
       "      <td>100%</td>\n",
       "      <td>https://www.ebay.com/itm/Amazon-Echo-Dot-3rd-G...</td>\n",
       "    </tr>\n",
       "    <tr>\n",
       "      <th>3</th>\n",
       "      <td>Amazon Echo Dot 2nd Generation w/ Alexa Voic...</td>\n",
       "      <td>27.49</td>\n",
       "      <td>US</td>\n",
       "      <td>100%</td>\n",
       "      <td>https://www.ebay.com/itm/Amazon-Echo-Dot-2nd-G...</td>\n",
       "    </tr>\n",
       "    <tr>\n",
       "      <th>4</th>\n",
       "      <td>Amazon Echo Dot 3rd Generation w/ Alexa Voic...</td>\n",
       "      <td>32.99</td>\n",
       "      <td>US</td>\n",
       "      <td>100%</td>\n",
       "      <td>https://www.ebay.com/itm/Amazon-Echo-Dot-3rd-G...</td>\n",
       "    </tr>\n",
       "  </tbody>\n",
       "</table>\n",
       "</div>"
      ],
      "text/plain": [
       "                                               title  price currency shipping  \\\n",
       "0    Amazon Echo Dot 2nd Gen Home Music Smart Ass...  19.99       US     100%   \n",
       "1    Amazon Echo Dot 3rd Generation w/ Alexa Voic...  33.99       US     100%   \n",
       "2    Amazon Echo Dot 3rd Generation w/ Alexa Voic...  45.95       US     100%   \n",
       "3    Amazon Echo Dot 2nd Generation w/ Alexa Voic...  27.49       US     100%   \n",
       "4    Amazon Echo Dot 3rd Generation w/ Alexa Voic...  32.99       US     100%   \n",
       "\n",
       "                                                 url  \n",
       "0  https://www.ebay.com/itm/Amazon-Echo-Dot-2nd-G...  \n",
       "1  https://www.ebay.com/itm/Amazon-Echo-Dot-3rd-G...  \n",
       "2  https://www.ebay.com/itm/Amazon-Echo-Dot-3rd-G...  \n",
       "3  https://www.ebay.com/itm/Amazon-Echo-Dot-2nd-G...  \n",
       "4  https://www.ebay.com/itm/Amazon-Echo-Dot-3rd-G...  "
      ]
     },
     "execution_count": 76,
     "metadata": {},
     "output_type": "execute_result"
    }
   ],
   "source": [
    "df.head()"
   ]
  },
  {
   "cell_type": "code",
   "execution_count": 82,
   "metadata": {},
   "outputs": [
    {
     "data": {
      "image/png": "[encoded data removed]",
      "text/plain": [
       "<Figure size 864x504 with 2 Axes>"
      ]
     },
     "metadata": {
      "needs_background": "light"
     },
     "output_type": "display_data"
    }
   ],
   "source": [
    "import matplotlib\n",
    "import matplotlib.pyplot as plt\n",
    "import matplotlib.ticker as mticker\n",
    "import matplotlib.dates as mdates\n",
    "import numpy as np\n",
    "# x = [\"Amazon2ndGen\", \"AmazonEcho3rdGen\", \"AmazonEcho3rdGen\", \"AmazonEcho3rdGen\"]\n",
    "# y = [20, 34, 46, 28, 33]\n",
    "\n",
    "# plt.plot([20, 34, 46, 28, 33])\n",
    "# plt.show()\n",
    "names = ['Amz2ndGen', 'AmzEcho3rdGen', 'AmzEcho3rdGen', 'AmzEcho3rdGen', 'AmzEcho3rdGen']\n",
    "values = [20, 34, 46, 28, 33]\n",
    "          \n",
    "          \n",
    "plt.figure(figsize=(12, 7))\n",
    "\n",
    "plt.subplot(131)\n",
    "plt.bar(names, values)\n",
    "plt.subplot(132)\n",
    "plt.scatter(names, values)\n",
    "# plt.subplot(133)\n",
    "# plt.plot(names, values)\n",
    "plt.suptitle(' Amazon Echo Dot Price Data')\n",
    "plt.show()"
   ]
  },
  {
   "cell_type": "code",
   "execution_count": null,
   "metadata": {},
   "outputs": [],
   "source": []
  },
  {
   "cell_type": "code",
   "execution_count": null,
   "metadata": {},
   "outputs": [],
   "source": []
  }
 ],
 "metadata": {
  "kernelspec": {
   "display_name": "Python 3",
   "language": "python",
   "name": "python3"
  },
  "language_info": {
   "codemirror_mode": {
    "name": "ipython",
    "version": 3
   },
   "file_extension": ".py",
   "mimetype": "text/x-python",
   "name": "python",
   "nbconvert_exporter": "python",
   "pygments_lexer": "ipython3",
   "version": "3.7.6"
  }
 },
 "nbformat": 4,
 "nbformat_minor": 4
}
